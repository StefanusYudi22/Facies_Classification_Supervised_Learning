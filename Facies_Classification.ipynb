{
 "cells": [
  {
   "cell_type": "markdown",
   "id": "2ce99769",
   "metadata": {},
   "source": [
    "# FACIES CLASSIFICATION EXPERIMENT"
   ]
  },
  {
   "cell_type": "markdown",
   "id": "bbfd48ee",
   "metadata": {},
   "source": [
    "---\n",
    "## A. Import Library"
   ]
  },
  {
   "cell_type": "markdown",
   "id": "0790f589",
   "metadata": {},
   "source": [
    "### A.1 Library for Data Wrangling and Visualization"
   ]
  },
  {
   "cell_type": "code",
   "execution_count": 1,
   "id": "1c34ec86",
   "metadata": {},
   "outputs": [],
   "source": [
    "import warnings\n",
    "warnings.filterwarnings('ignore')"
   ]
  },
  {
   "cell_type": "code",
   "execution_count": 181,
   "id": "e3194ca8",
   "metadata": {},
   "outputs": [],
   "source": [
    "import numpy as np\n",
    "import seaborn as sns\n",
    "import matplotlib.pyplot as plt\n",
    "import pandas as pd\n",
    "import os\n",
    "import joblib"
   ]
  },
  {
   "cell_type": "markdown",
   "id": "c09e629c",
   "metadata": {},
   "source": [
    "### A.2 Library for Imbalance Learning"
   ]
  },
  {
   "cell_type": "code",
   "execution_count": 3,
   "id": "60259e9b",
   "metadata": {},
   "outputs": [],
   "source": [
    "from imblearn.under_sampling import RandomUnderSampler\n",
    "from imblearn.over_sampling import RandomOverSampler, SMOTE"
   ]
  },
  {
   "cell_type": "markdown",
   "id": "94447e2c",
   "metadata": {},
   "source": [
    "### A.3 Library for data preprocessing"
   ]
  },
  {
   "cell_type": "code",
   "execution_count": 4,
   "id": "aebd095e",
   "metadata": {},
   "outputs": [],
   "source": [
    "from sklearn.preprocessing import StandardScaler\n",
    "from sklearn.preprocessing import OneHotEncoder\n",
    "from sklearn.preprocessing import label_binarize"
   ]
  },
  {
   "cell_type": "markdown",
   "id": "6c8586d5",
   "metadata": {},
   "source": [
    "### A.4 Library for Machine Learning Modeling"
   ]
  },
  {
   "cell_type": "code",
   "execution_count": 5,
   "id": "dc3f070e",
   "metadata": {},
   "outputs": [],
   "source": [
    "from sklearn.dummy import DummyClassifier\n",
    "from sklearn.neighbors import KNeighborsClassifier\n",
    "from sklearn.linear_model import LogisticRegression\n",
    "from sklearn.svm import SVC\n",
    "from sklearn.tree import DecisionTreeClassifier\n",
    "from sklearn.ensemble import BaggingClassifier\n",
    "from sklearn.ensemble import RandomForestClassifier\n",
    "from xgboost import XGBClassifier\n",
    "from sklearn.model_selection import GridSearchCV\n",
    "from sklearn.multiclass import OneVsRestClassifier"
   ]
  },
  {
   "cell_type": "markdown",
   "id": "e9c4b173",
   "metadata": {},
   "source": [
    "### A.5 Library for Calculating Performance"
   ]
  },
  {
   "cell_type": "code",
   "execution_count": 6,
   "id": "d9a71261",
   "metadata": {},
   "outputs": [],
   "source": [
    "from sklearn.metrics import confusion_matrix\n",
    "from facies_utilities import accuracy, accuracy_adjacent, display_cm, display_adj_cm, make_facies_log_plot, compare_facies_plot\n",
    "from sklearn.metrics import roc_curve\n",
    "from sklearn.metrics import auc"
   ]
  },
  {
   "cell_type": "markdown",
   "id": "5781c382",
   "metadata": {},
   "source": [
    "### A.6 User Defined Function"
   ]
  },
  {
   "cell_type": "code",
   "execution_count": 124,
   "id": "4efa70b0",
   "metadata": {},
   "outputs": [],
   "source": [
    "def roc_auc_model_plot(model, data_type, model_name:str):\n",
    "    y_train_binarize = label_binarize(train_data[\"y_train\"][data_type], classes=[0,1,2,3,4,5,6,7,8])\n",
    "    n_classes = y_train_binarize.shape[1]\n",
    "    classifier = OneVsRestClassifier(model)\n",
    "    classifier.fit(train_data[\"X_train\"][data_type].values, y_train_binarize)\n",
    "    if model_name == \"Support Vector Machine Classifier\":\n",
    "        y_score = classifier.decision_function(test_data['X_test'].values)\n",
    "    else :\n",
    "        y_score = classifier.predict_proba(test_data['X_test'].values)\n",
    "    y_test_binarize = label_binarize(test_data[\"y_test\"], classes=[0,1,2,3,4,5,6,7,8])\n",
    "    n_classes = y_test_binarize.shape[1]\n",
    "\n",
    "    fpr = dict()\n",
    "    tpr = dict()\n",
    "    roc_auc = dict()\n",
    "    for i in range(9):\n",
    "        fpr[i], tpr[i], _  = roc_curve(y_test_binarize[:,i], y_score[:,i])\n",
    "        roc_auc[i] = auc(fpr[i], tpr[i])\n",
    "    fpr[\"micro\"], tpr[\"micro\"], _ = roc_curve(y_test_binarize.ravel(), y_score.ravel())\n",
    "    roc_auc[\"micro\"] = auc(fpr[\"micro\"], tpr[\"micro\"])\n",
    "\n",
    "    all_fpr = np.unique(np.concatenate([fpr[i] for i in range(9)]))\n",
    "    mean_tpr = np.zeros_like(all_fpr)\n",
    "    for i in range(9):\n",
    "        mean_tpr += np.interp(all_fpr, fpr[i], tpr[i])\n",
    "    mean_tpr /= n_classes\n",
    "    fpr[\"macro\"] = all_fpr\n",
    "    tpr[\"macro\"] = mean_tpr\n",
    "    roc_auc[\"macro\"] = auc(fpr[\"macro\"], tpr[\"macro\"])\n",
    "\n",
    "    plt.figure(figsize=[7,7])\n",
    "    plt.plot( fpr[\"micro\"], tpr[\"micro\"],\n",
    "        label=f\"micro-average ROC curve (area = {roc_auc['micro']:.2f})\",\n",
    "        color=\"deeppink\", linestyle=\":\", linewidth=3)\n",
    "    plt.plot(fpr[\"macro\"], tpr[\"macro\"],\n",
    "        label=f\"macro-average ROC curve (area = {roc_auc['macro']:.2f})\",\n",
    "        color=\"orange\", linestyle=\":\", linewidth=3)\n",
    "\n",
    "    plt.plot([0, 1], [0, 1], color=\"navy\", lw=3, linestyle=\"--\")\n",
    "    plt.xlim([0.0, 1.0])\n",
    "    plt.ylim([0.0, 1.0])\n",
    "    plt.xlabel(\"False Positive Rate\")\n",
    "    plt.ylabel(\"True Positive Rate\")\n",
    "    plt.title(f\"{model_name} Operating Characteristic\", fontsize=15)\n",
    "    plt.legend(loc=\"lower right\")\n",
    "    plt.show()\n",
    "    \n",
    "    return roc_auc[\"micro\"], roc_auc[\"macro\"]"
   ]
  },
  {
   "cell_type": "markdown",
   "id": "7cde0c48",
   "metadata": {},
   "source": [
    "---\n",
    "## B. DATA PIPELINE"
   ]
  },
  {
   "cell_type": "markdown",
   "id": "8cf00ae1",
   "metadata": {},
   "source": [
    "### B.1 Import Raw Data"
   ]
  },
  {
   "cell_type": "code",
   "execution_count": 8,
   "id": "933d4bb5",
   "metadata": {},
   "outputs": [],
   "source": [
    "def populate_raw_data(directory:str=\"well_data/\") -> pd.DataFrame:     # Put this function on script\n",
    "    raw_data = pd.DataFrame()\n",
    "    for well_data in os.listdir(directory):\n",
    "        raw_data = pd.concat([raw_data,pd.read_csv(directory+well_data)],\n",
    "                             axis=0,\n",
    "                             ignore_index=True)\n",
    "    return raw_data"
   ]
  },
  {
   "cell_type": "code",
   "execution_count": 9,
   "id": "644a84af",
   "metadata": {
    "scrolled": true
   },
   "outputs": [
    {
     "data": {
      "text/html": [
       "<div>\n",
       "<style scoped>\n",
       "    .dataframe tbody tr th:only-of-type {\n",
       "        vertical-align: middle;\n",
       "    }\n",
       "\n",
       "    .dataframe tbody tr th {\n",
       "        vertical-align: top;\n",
       "    }\n",
       "\n",
       "    .dataframe thead th {\n",
       "        text-align: right;\n",
       "    }\n",
       "</style>\n",
       "<table border=\"1\" class=\"dataframe\">\n",
       "  <thead>\n",
       "    <tr style=\"text-align: right;\">\n",
       "      <th></th>\n",
       "      <th>Facies</th>\n",
       "      <th>Formation</th>\n",
       "      <th>Well Name</th>\n",
       "      <th>Depth</th>\n",
       "      <th>GR</th>\n",
       "      <th>ILD_log10</th>\n",
       "      <th>DeltaPHI</th>\n",
       "      <th>PHIND</th>\n",
       "      <th>PE</th>\n",
       "      <th>NM_M</th>\n",
       "      <th>RELPOS</th>\n",
       "    </tr>\n",
       "  </thead>\n",
       "  <tbody>\n",
       "    <tr>\n",
       "      <th>0</th>\n",
       "      <td>CSiS</td>\n",
       "      <td>A1 SH</td>\n",
       "      <td>NOLAN</td>\n",
       "      <td>2853.5</td>\n",
       "      <td>106.813</td>\n",
       "      <td>0.533</td>\n",
       "      <td>9.339</td>\n",
       "      <td>15.222</td>\n",
       "      <td>3.500</td>\n",
       "      <td>1</td>\n",
       "      <td>1.000</td>\n",
       "    </tr>\n",
       "    <tr>\n",
       "      <th>1</th>\n",
       "      <td>FSiS</td>\n",
       "      <td>A1 SH</td>\n",
       "      <td>NOLAN</td>\n",
       "      <td>2854.0</td>\n",
       "      <td>100.938</td>\n",
       "      <td>0.542</td>\n",
       "      <td>8.857</td>\n",
       "      <td>15.313</td>\n",
       "      <td>3.416</td>\n",
       "      <td>1</td>\n",
       "      <td>0.977</td>\n",
       "    </tr>\n",
       "    <tr>\n",
       "      <th>2</th>\n",
       "      <td>FSiS</td>\n",
       "      <td>A1 SH</td>\n",
       "      <td>NOLAN</td>\n",
       "      <td>2854.5</td>\n",
       "      <td>94.375</td>\n",
       "      <td>0.553</td>\n",
       "      <td>7.097</td>\n",
       "      <td>14.583</td>\n",
       "      <td>3.195</td>\n",
       "      <td>1</td>\n",
       "      <td>0.955</td>\n",
       "    </tr>\n",
       "    <tr>\n",
       "      <th>3</th>\n",
       "      <td>FSiS</td>\n",
       "      <td>A1 SH</td>\n",
       "      <td>NOLAN</td>\n",
       "      <td>2855.0</td>\n",
       "      <td>89.813</td>\n",
       "      <td>0.554</td>\n",
       "      <td>7.081</td>\n",
       "      <td>14.110</td>\n",
       "      <td>2.963</td>\n",
       "      <td>1</td>\n",
       "      <td>0.932</td>\n",
       "    </tr>\n",
       "    <tr>\n",
       "      <th>4</th>\n",
       "      <td>FSiS</td>\n",
       "      <td>A1 SH</td>\n",
       "      <td>NOLAN</td>\n",
       "      <td>2855.5</td>\n",
       "      <td>91.563</td>\n",
       "      <td>0.560</td>\n",
       "      <td>6.733</td>\n",
       "      <td>13.189</td>\n",
       "      <td>2.979</td>\n",
       "      <td>1</td>\n",
       "      <td>0.909</td>\n",
       "    </tr>\n",
       "  </tbody>\n",
       "</table>\n",
       "</div>"
      ],
      "text/plain": [
       "  Facies Formation Well Name   Depth       GR  ILD_log10  DeltaPHI   PHIND  \\\n",
       "0   CSiS     A1 SH     NOLAN  2853.5  106.813      0.533     9.339  15.222   \n",
       "1   FSiS     A1 SH     NOLAN  2854.0  100.938      0.542     8.857  15.313   \n",
       "2   FSiS     A1 SH     NOLAN  2854.5   94.375      0.553     7.097  14.583   \n",
       "3   FSiS     A1 SH     NOLAN  2855.0   89.813      0.554     7.081  14.110   \n",
       "4   FSiS     A1 SH     NOLAN  2855.5   91.563      0.560     6.733  13.189   \n",
       "\n",
       "      PE  NM_M  RELPOS  \n",
       "0  3.500     1   1.000  \n",
       "1  3.416     1   0.977  \n",
       "2  3.195     1   0.955  \n",
       "3  2.963     1   0.932  \n",
       "4  2.979     1   0.909  "
      ]
     },
     "execution_count": 9,
     "metadata": {},
     "output_type": "execute_result"
    }
   ],
   "source": [
    "raw_data = populate_raw_data()\n",
    "raw_data.head(5)"
   ]
  },
  {
   "cell_type": "code",
   "execution_count": 10,
   "id": "bf484a9e",
   "metadata": {},
   "outputs": [
    {
     "data": {
      "text/plain": [
       "(4149, 11)"
      ]
     },
     "execution_count": 10,
     "metadata": {},
     "output_type": "execute_result"
    }
   ],
   "source": [
    "raw_data.shape"
   ]
  },
  {
   "cell_type": "code",
   "execution_count": 11,
   "id": "5ba35cc8",
   "metadata": {
    "scrolled": false
   },
   "outputs": [
    {
     "data": {
      "text/html": [
       "<div>\n",
       "<style scoped>\n",
       "    .dataframe tbody tr th:only-of-type {\n",
       "        vertical-align: middle;\n",
       "    }\n",
       "\n",
       "    .dataframe tbody tr th {\n",
       "        vertical-align: top;\n",
       "    }\n",
       "\n",
       "    .dataframe thead th {\n",
       "        text-align: right;\n",
       "    }\n",
       "</style>\n",
       "<table border=\"1\" class=\"dataframe\">\n",
       "  <thead>\n",
       "    <tr style=\"text-align: right;\">\n",
       "      <th></th>\n",
       "      <th>Depth</th>\n",
       "      <th>GR</th>\n",
       "      <th>ILD_log10</th>\n",
       "      <th>DeltaPHI</th>\n",
       "      <th>PHIND</th>\n",
       "      <th>PE</th>\n",
       "      <th>NM_M</th>\n",
       "      <th>RELPOS</th>\n",
       "    </tr>\n",
       "  </thead>\n",
       "  <tbody>\n",
       "    <tr>\n",
       "      <th>count</th>\n",
       "      <td>4149.000000</td>\n",
       "      <td>4149.000000</td>\n",
       "      <td>4149.000000</td>\n",
       "      <td>4149.000000</td>\n",
       "      <td>4149.000000</td>\n",
       "      <td>3232.000000</td>\n",
       "      <td>4149.000000</td>\n",
       "      <td>4149.000000</td>\n",
       "    </tr>\n",
       "    <tr>\n",
       "      <th>mean</th>\n",
       "      <td>2906.867438</td>\n",
       "      <td>64.933985</td>\n",
       "      <td>0.659566</td>\n",
       "      <td>4.402484</td>\n",
       "      <td>13.201066</td>\n",
       "      <td>3.725014</td>\n",
       "      <td>1.518438</td>\n",
       "      <td>0.521852</td>\n",
       "    </tr>\n",
       "    <tr>\n",
       "      <th>std</th>\n",
       "      <td>133.300164</td>\n",
       "      <td>30.302530</td>\n",
       "      <td>0.252703</td>\n",
       "      <td>5.274947</td>\n",
       "      <td>7.132846</td>\n",
       "      <td>0.896152</td>\n",
       "      <td>0.499720</td>\n",
       "      <td>0.286644</td>\n",
       "    </tr>\n",
       "    <tr>\n",
       "      <th>min</th>\n",
       "      <td>2573.500000</td>\n",
       "      <td>10.149000</td>\n",
       "      <td>-0.025949</td>\n",
       "      <td>-21.832000</td>\n",
       "      <td>0.550000</td>\n",
       "      <td>0.200000</td>\n",
       "      <td>1.000000</td>\n",
       "      <td>0.000000</td>\n",
       "    </tr>\n",
       "    <tr>\n",
       "      <th>25%</th>\n",
       "      <td>2821.500000</td>\n",
       "      <td>44.730000</td>\n",
       "      <td>0.498000</td>\n",
       "      <td>1.600000</td>\n",
       "      <td>8.500000</td>\n",
       "      <td>3.100000</td>\n",
       "      <td>1.000000</td>\n",
       "      <td>0.277000</td>\n",
       "    </tr>\n",
       "    <tr>\n",
       "      <th>50%</th>\n",
       "      <td>2932.500000</td>\n",
       "      <td>64.990000</td>\n",
       "      <td>0.639000</td>\n",
       "      <td>4.300000</td>\n",
       "      <td>12.020000</td>\n",
       "      <td>3.551500</td>\n",
       "      <td>2.000000</td>\n",
       "      <td>0.528000</td>\n",
       "    </tr>\n",
       "    <tr>\n",
       "      <th>75%</th>\n",
       "      <td>3007.000000</td>\n",
       "      <td>79.438000</td>\n",
       "      <td>0.822000</td>\n",
       "      <td>7.500000</td>\n",
       "      <td>16.050000</td>\n",
       "      <td>4.300000</td>\n",
       "      <td>2.000000</td>\n",
       "      <td>0.769000</td>\n",
       "    </tr>\n",
       "    <tr>\n",
       "      <th>max</th>\n",
       "      <td>3138.000000</td>\n",
       "      <td>361.150000</td>\n",
       "      <td>1.800000</td>\n",
       "      <td>19.312000</td>\n",
       "      <td>84.400000</td>\n",
       "      <td>8.094000</td>\n",
       "      <td>2.000000</td>\n",
       "      <td>1.000000</td>\n",
       "    </tr>\n",
       "  </tbody>\n",
       "</table>\n",
       "</div>"
      ],
      "text/plain": [
       "             Depth           GR    ILD_log10     DeltaPHI        PHIND  \\\n",
       "count  4149.000000  4149.000000  4149.000000  4149.000000  4149.000000   \n",
       "mean   2906.867438    64.933985     0.659566     4.402484    13.201066   \n",
       "std     133.300164    30.302530     0.252703     5.274947     7.132846   \n",
       "min    2573.500000    10.149000    -0.025949   -21.832000     0.550000   \n",
       "25%    2821.500000    44.730000     0.498000     1.600000     8.500000   \n",
       "50%    2932.500000    64.990000     0.639000     4.300000    12.020000   \n",
       "75%    3007.000000    79.438000     0.822000     7.500000    16.050000   \n",
       "max    3138.000000   361.150000     1.800000    19.312000    84.400000   \n",
       "\n",
       "                PE         NM_M       RELPOS  \n",
       "count  3232.000000  4149.000000  4149.000000  \n",
       "mean      3.725014     1.518438     0.521852  \n",
       "std       0.896152     0.499720     0.286644  \n",
       "min       0.200000     1.000000     0.000000  \n",
       "25%       3.100000     1.000000     0.277000  \n",
       "50%       3.551500     2.000000     0.528000  \n",
       "75%       4.300000     2.000000     0.769000  \n",
       "max       8.094000     2.000000     1.000000  "
      ]
     },
     "execution_count": 11,
     "metadata": {},
     "output_type": "execute_result"
    }
   ],
   "source": [
    "raw_data.describe()"
   ]
  },
  {
   "cell_type": "code",
   "execution_count": 12,
   "id": "1686772a",
   "metadata": {},
   "outputs": [
    {
     "name": "stdout",
     "output_type": "stream",
     "text": [
      "<class 'pandas.core.frame.DataFrame'>\n",
      "RangeIndex: 4149 entries, 0 to 4148\n",
      "Data columns (total 11 columns):\n",
      " #   Column     Non-Null Count  Dtype  \n",
      "---  ------     --------------  -----  \n",
      " 0   Facies     4149 non-null   object \n",
      " 1   Formation  4149 non-null   object \n",
      " 2   Well Name  4149 non-null   object \n",
      " 3   Depth      4149 non-null   float64\n",
      " 4   GR         4149 non-null   float64\n",
      " 5   ILD_log10  4149 non-null   float64\n",
      " 6   DeltaPHI   4149 non-null   float64\n",
      " 7   PHIND      4149 non-null   float64\n",
      " 8   PE         3232 non-null   float64\n",
      " 9   NM_M       4149 non-null   int64  \n",
      " 10  RELPOS     4149 non-null   float64\n",
      "dtypes: float64(7), int64(1), object(3)\n",
      "memory usage: 356.7+ KB\n"
     ]
    }
   ],
   "source": [
    "raw_data.info()"
   ]
  },
  {
   "cell_type": "code",
   "execution_count": 13,
   "id": "57931c2a",
   "metadata": {},
   "outputs": [
    {
     "data": {
      "text/plain": [
       "Facies         0\n",
       "Formation      0\n",
       "Well Name      0\n",
       "Depth          0\n",
       "GR             0\n",
       "ILD_log10      0\n",
       "DeltaPHI       0\n",
       "PHIND          0\n",
       "PE           917\n",
       "NM_M           0\n",
       "RELPOS         0\n",
       "dtype: int64"
      ]
     },
     "execution_count": 13,
     "metadata": {},
     "output_type": "execute_result"
    }
   ],
   "source": [
    "raw_data.isnull().sum()"
   ]
  },
  {
   "cell_type": "markdown",
   "id": "5101112d",
   "metadata": {},
   "source": [
    "We found that there are missing data in **PE** column, hence this raw data need data cleaning first"
   ]
  },
  {
   "cell_type": "markdown",
   "id": "9f01af58",
   "metadata": {},
   "source": [
    "### B.2 Data Overview"
   ]
  },
  {
   "cell_type": "markdown",
   "id": "afbb40dc",
   "metadata": {},
   "source": [
    "There are seven predictor variable for the facies label : \n",
    "\n",
    "Features | Explanation | Value | Measurement Type\n",
    ":---: | :--: | :--: | :--: \n",
    "GR | Gamma Ray | 10.14 - 361.15 | Wireline Measurement \n",
    "ILD_log10 | Resistivity Logging | -0.03 - 1.8 | Wireline Measurement \n",
    "PE | Photoelectric Effect | 0.2 - 8.09 | Wireline Measurement\n",
    "DeltaPHI | Neutron-Density Porosity Difference | -21.83 - 19.31 | Wireline Measurement \n",
    "PHIND | Average Neutron-Density Porosity | 0.55 - 84.4 | Wireline Measurement\n",
    "NM_M | Non-Marine Marine Indicator | 1 or 2 |  Geologic Constraining Variables \n",
    "RELPOS | Relative Position | 0 - 1 | Geologic Constraining Variables\n",
    "\n",
    "And there are nine different facies labels :\n",
    "\n",
    "Facies| Adjacent Facies | Classes of Rocks \n",
    ":---: |:--: |:--:\n",
    "SS| CSiS | Sandstone\n",
    "CSiS| SS,FSiS | Coarse Siltstone\n",
    "FSiS| CSiS | Fine Siltstone\n",
    "SiSh| MS | Marine Siltstone and Shale\n",
    "MS| SiSh,WS | Mudstone (limestone)\n",
    "WS| MS,D | Wackestone (limestone)\n",
    "D| WS,PS | Dolomite\n",
    "PS| WS,D,BS | Packstone-grainstone (limestone)\n",
    "BS| D, PS | Phylloid-algal bafflestone (limestone)"
   ]
  },
  {
   "cell_type": "code",
   "execution_count": 14,
   "id": "222a1553",
   "metadata": {},
   "outputs": [
    {
     "data": {
      "text/plain": [
       "<AxesSubplot:xlabel='count', ylabel='Well Name'>"
      ]
     },
     "execution_count": 14,
     "metadata": {},
     "output_type": "execute_result"
    },
    {
     "data": {
      "image/png": "[encoded data removed]",
      "text/plain": [
       "<Figure size 432x288 with 1 Axes>"
      ]
     },
     "metadata": {
      "needs_background": "light"
     },
     "output_type": "display_data"
    }
   ],
   "source": [
    "sns.countplot(data=raw_data, \n",
    "              y=\"Well Name\", \n",
    "              order=raw_data[\"Well Name\"].value_counts().index)"
   ]
  },
  {
   "cell_type": "markdown",
   "id": "171bd694",
   "metadata": {},
   "source": [
    "We have data from 10 well measurement : **NOLAN, LUKE G U, CROSS H CATTLE, KIMZEY A, SHRIMPLIN, NEWBY, Recruit F9, SHANKLE, CHURCHMAN BIBLE, and ALEXANDER D**. Value counts shows us that for every well the amount is simillar except Recruit F9 well which just has 80 raw data."
   ]
  },
  {
   "cell_type": "code",
   "execution_count": 15,
   "id": "8029aa28",
   "metadata": {},
   "outputs": [
    {
     "data": {
      "text/plain": [
       "CSiS    0.226561\n",
       "FSiS    0.187997\n",
       "PS      0.165341\n",
       "WS      0.140275\n",
       "MS      0.071342\n",
       "SiSh    0.065317\n",
       "SS      0.064594\n",
       "BS      0.044589\n",
       "D       0.033984\n",
       "Name: Facies, dtype: float64"
      ]
     },
     "execution_count": 15,
     "metadata": {},
     "output_type": "execute_result"
    }
   ],
   "source": [
    "raw_data[\"Facies\"].value_counts(normalize=True)"
   ]
  },
  {
   "cell_type": "markdown",
   "id": "be5449d5",
   "metadata": {},
   "source": [
    "Value counts also show us that this raw data has **imbalance category** for facies."
   ]
  },
  {
   "cell_type": "markdown",
   "id": "8d8ebf3e",
   "metadata": {},
   "source": [
    "### B.3 Split Train and Test Data"
   ]
  },
  {
   "cell_type": "markdown",
   "id": "7dd40257",
   "metadata": {},
   "source": [
    "we will use CHURCHMAN BIBLE well as test data and others well as train data"
   ]
  },
  {
   "cell_type": "code",
   "execution_count": 16,
   "id": "a1d15304",
   "metadata": {},
   "outputs": [],
   "source": [
    "def split_well_train_test(data:pd.DataFrame, well_name:str):\n",
    "    data_train_unclean = data[data[\"Well Name\"]!=well_name]\n",
    "    data_test_unclean = data[data[\"Well Name\"]==well_name]\n",
    "    \n",
    "    return data_train_unclean, data_test_unclean"
   ]
  },
  {
   "cell_type": "code",
   "execution_count": 17,
   "id": "0dca6217",
   "metadata": {},
   "outputs": [],
   "source": [
    "data_train_unclean, data_test_unclean = split_well_train_test(data=raw_data, well_name=\"CHURCHMAN BIBLE\")"
   ]
  },
  {
   "cell_type": "code",
   "execution_count": 18,
   "id": "71f0936a",
   "metadata": {},
   "outputs": [
    {
     "data": {
      "text/plain": [
       "(3745, 11)"
      ]
     },
     "execution_count": 18,
     "metadata": {},
     "output_type": "execute_result"
    }
   ],
   "source": [
    "data_train_unclean.shape"
   ]
  },
  {
   "cell_type": "code",
   "execution_count": 19,
   "id": "6580a60e",
   "metadata": {},
   "outputs": [
    {
     "data": {
      "text/html": [
       "<div>\n",
       "<style scoped>\n",
       "    .dataframe tbody tr th:only-of-type {\n",
       "        vertical-align: middle;\n",
       "    }\n",
       "\n",
       "    .dataframe tbody tr th {\n",
       "        vertical-align: top;\n",
       "    }\n",
       "\n",
       "    .dataframe thead th {\n",
       "        text-align: right;\n",
       "    }\n",
       "</style>\n",
       "<table border=\"1\" class=\"dataframe\">\n",
       "  <thead>\n",
       "    <tr style=\"text-align: right;\">\n",
       "      <th></th>\n",
       "      <th>Facies</th>\n",
       "      <th>Formation</th>\n",
       "      <th>Well Name</th>\n",
       "      <th>Depth</th>\n",
       "      <th>GR</th>\n",
       "      <th>ILD_log10</th>\n",
       "      <th>DeltaPHI</th>\n",
       "      <th>PHIND</th>\n",
       "      <th>PE</th>\n",
       "      <th>NM_M</th>\n",
       "      <th>RELPOS</th>\n",
       "    </tr>\n",
       "  </thead>\n",
       "  <tbody>\n",
       "    <tr>\n",
       "      <th>0</th>\n",
       "      <td>CSiS</td>\n",
       "      <td>A1 SH</td>\n",
       "      <td>NOLAN</td>\n",
       "      <td>2853.5</td>\n",
       "      <td>106.813</td>\n",
       "      <td>0.533</td>\n",
       "      <td>9.339</td>\n",
       "      <td>15.222</td>\n",
       "      <td>3.500</td>\n",
       "      <td>1</td>\n",
       "      <td>1.000</td>\n",
       "    </tr>\n",
       "    <tr>\n",
       "      <th>1</th>\n",
       "      <td>FSiS</td>\n",
       "      <td>A1 SH</td>\n",
       "      <td>NOLAN</td>\n",
       "      <td>2854.0</td>\n",
       "      <td>100.938</td>\n",
       "      <td>0.542</td>\n",
       "      <td>8.857</td>\n",
       "      <td>15.313</td>\n",
       "      <td>3.416</td>\n",
       "      <td>1</td>\n",
       "      <td>0.977</td>\n",
       "    </tr>\n",
       "    <tr>\n",
       "      <th>2</th>\n",
       "      <td>FSiS</td>\n",
       "      <td>A1 SH</td>\n",
       "      <td>NOLAN</td>\n",
       "      <td>2854.5</td>\n",
       "      <td>94.375</td>\n",
       "      <td>0.553</td>\n",
       "      <td>7.097</td>\n",
       "      <td>14.583</td>\n",
       "      <td>3.195</td>\n",
       "      <td>1</td>\n",
       "      <td>0.955</td>\n",
       "    </tr>\n",
       "    <tr>\n",
       "      <th>3</th>\n",
       "      <td>FSiS</td>\n",
       "      <td>A1 SH</td>\n",
       "      <td>NOLAN</td>\n",
       "      <td>2855.0</td>\n",
       "      <td>89.813</td>\n",
       "      <td>0.554</td>\n",
       "      <td>7.081</td>\n",
       "      <td>14.110</td>\n",
       "      <td>2.963</td>\n",
       "      <td>1</td>\n",
       "      <td>0.932</td>\n",
       "    </tr>\n",
       "    <tr>\n",
       "      <th>4</th>\n",
       "      <td>FSiS</td>\n",
       "      <td>A1 SH</td>\n",
       "      <td>NOLAN</td>\n",
       "      <td>2855.5</td>\n",
       "      <td>91.563</td>\n",
       "      <td>0.560</td>\n",
       "      <td>6.733</td>\n",
       "      <td>13.189</td>\n",
       "      <td>2.979</td>\n",
       "      <td>1</td>\n",
       "      <td>0.909</td>\n",
       "    </tr>\n",
       "  </tbody>\n",
       "</table>\n",
       "</div>"
      ],
      "text/plain": [
       "  Facies Formation Well Name   Depth       GR  ILD_log10  DeltaPHI   PHIND  \\\n",
       "0   CSiS     A1 SH     NOLAN  2853.5  106.813      0.533     9.339  15.222   \n",
       "1   FSiS     A1 SH     NOLAN  2854.0  100.938      0.542     8.857  15.313   \n",
       "2   FSiS     A1 SH     NOLAN  2854.5   94.375      0.553     7.097  14.583   \n",
       "3   FSiS     A1 SH     NOLAN  2855.0   89.813      0.554     7.081  14.110   \n",
       "4   FSiS     A1 SH     NOLAN  2855.5   91.563      0.560     6.733  13.189   \n",
       "\n",
       "      PE  NM_M  RELPOS  \n",
       "0  3.500     1   1.000  \n",
       "1  3.416     1   0.977  \n",
       "2  3.195     1   0.955  \n",
       "3  2.963     1   0.932  \n",
       "4  2.979     1   0.909  "
      ]
     },
     "execution_count": 19,
     "metadata": {},
     "output_type": "execute_result"
    }
   ],
   "source": [
    "data_train_unclean.head(5)"
   ]
  },
  {
   "cell_type": "code",
   "execution_count": 20,
   "id": "4d948dfe",
   "metadata": {},
   "outputs": [
    {
     "data": {
      "text/plain": [
       "(404, 11)"
      ]
     },
     "execution_count": 20,
     "metadata": {},
     "output_type": "execute_result"
    }
   ],
   "source": [
    "data_test_unclean.shape"
   ]
  },
  {
   "cell_type": "code",
   "execution_count": 21,
   "id": "80e57be0",
   "metadata": {},
   "outputs": [
    {
     "data": {
      "text/html": [
       "<div>\n",
       "<style scoped>\n",
       "    .dataframe tbody tr th:only-of-type {\n",
       "        vertical-align: middle;\n",
       "    }\n",
       "\n",
       "    .dataframe tbody tr th {\n",
       "        vertical-align: top;\n",
       "    }\n",
       "\n",
       "    .dataframe thead th {\n",
       "        text-align: right;\n",
       "    }\n",
       "</style>\n",
       "<table border=\"1\" class=\"dataframe\">\n",
       "  <thead>\n",
       "    <tr style=\"text-align: right;\">\n",
       "      <th></th>\n",
       "      <th>Facies</th>\n",
       "      <th>Formation</th>\n",
       "      <th>Well Name</th>\n",
       "      <th>Depth</th>\n",
       "      <th>GR</th>\n",
       "      <th>ILD_log10</th>\n",
       "      <th>DeltaPHI</th>\n",
       "      <th>PHIND</th>\n",
       "      <th>PE</th>\n",
       "      <th>NM_M</th>\n",
       "      <th>RELPOS</th>\n",
       "    </tr>\n",
       "  </thead>\n",
       "  <tbody>\n",
       "    <tr>\n",
       "      <th>3279</th>\n",
       "      <td>FSiS</td>\n",
       "      <td>A1 SH</td>\n",
       "      <td>CHURCHMAN BIBLE</td>\n",
       "      <td>2917.5</td>\n",
       "      <td>63.500</td>\n",
       "      <td>0.705</td>\n",
       "      <td>4.916</td>\n",
       "      <td>12.174</td>\n",
       "      <td>3.162</td>\n",
       "      <td>1</td>\n",
       "      <td>1.00</td>\n",
       "    </tr>\n",
       "    <tr>\n",
       "      <th>3280</th>\n",
       "      <td>FSiS</td>\n",
       "      <td>A1 SH</td>\n",
       "      <td>CHURCHMAN BIBLE</td>\n",
       "      <td>2918.0</td>\n",
       "      <td>80.875</td>\n",
       "      <td>0.709</td>\n",
       "      <td>7.514</td>\n",
       "      <td>13.286</td>\n",
       "      <td>2.932</td>\n",
       "      <td>1</td>\n",
       "      <td>0.95</td>\n",
       "    </tr>\n",
       "    <tr>\n",
       "      <th>3281</th>\n",
       "      <td>FSiS</td>\n",
       "      <td>A1 SH</td>\n",
       "      <td>CHURCHMAN BIBLE</td>\n",
       "      <td>2918.5</td>\n",
       "      <td>87.813</td>\n",
       "      <td>0.700</td>\n",
       "      <td>7.785</td>\n",
       "      <td>13.212</td>\n",
       "      <td>2.953</td>\n",
       "      <td>1</td>\n",
       "      <td>0.90</td>\n",
       "    </tr>\n",
       "    <tr>\n",
       "      <th>3282</th>\n",
       "      <td>FSiS</td>\n",
       "      <td>A1 SH</td>\n",
       "      <td>CHURCHMAN BIBLE</td>\n",
       "      <td>2919.0</td>\n",
       "      <td>86.750</td>\n",
       "      <td>0.685</td>\n",
       "      <td>7.547</td>\n",
       "      <td>13.547</td>\n",
       "      <td>3.420</td>\n",
       "      <td>1</td>\n",
       "      <td>0.85</td>\n",
       "    </tr>\n",
       "    <tr>\n",
       "      <th>3283</th>\n",
       "      <td>FSiS</td>\n",
       "      <td>A1 SH</td>\n",
       "      <td>CHURCHMAN BIBLE</td>\n",
       "      <td>2919.5</td>\n",
       "      <td>79.438</td>\n",
       "      <td>0.669</td>\n",
       "      <td>5.912</td>\n",
       "      <td>12.252</td>\n",
       "      <td>3.324</td>\n",
       "      <td>1</td>\n",
       "      <td>0.80</td>\n",
       "    </tr>\n",
       "  </tbody>\n",
       "</table>\n",
       "</div>"
      ],
      "text/plain": [
       "     Facies Formation        Well Name   Depth      GR  ILD_log10  DeltaPHI  \\\n",
       "3279   FSiS     A1 SH  CHURCHMAN BIBLE  2917.5  63.500      0.705     4.916   \n",
       "3280   FSiS     A1 SH  CHURCHMAN BIBLE  2918.0  80.875      0.709     7.514   \n",
       "3281   FSiS     A1 SH  CHURCHMAN BIBLE  2918.5  87.813      0.700     7.785   \n",
       "3282   FSiS     A1 SH  CHURCHMAN BIBLE  2919.0  86.750      0.685     7.547   \n",
       "3283   FSiS     A1 SH  CHURCHMAN BIBLE  2919.5  79.438      0.669     5.912   \n",
       "\n",
       "       PHIND     PE  NM_M  RELPOS  \n",
       "3279  12.174  3.162     1    1.00  \n",
       "3280  13.286  2.932     1    0.95  \n",
       "3281  13.212  2.953     1    0.90  \n",
       "3282  13.547  3.420     1    0.85  \n",
       "3283  12.252  3.324     1    0.80  "
      ]
     },
     "execution_count": 21,
     "metadata": {},
     "output_type": "execute_result"
    }
   ],
   "source": [
    "data_test_unclean.head(5)"
   ]
  },
  {
   "cell_type": "code",
   "execution_count": 22,
   "id": "110f85fa",
   "metadata": {},
   "outputs": [
    {
     "name": "stdout",
     "output_type": "stream",
     "text": [
      "Percentage Train Data : 0.90\n",
      "Percentage Test Data : 0.10\n"
     ]
    }
   ],
   "source": [
    "print(f\"Percentage Train Data : {data_train_unclean.shape[0]/(data_train_unclean.shape[0]+data_test_unclean.shape[0]):.2f}\")\n",
    "print(f\"Percentage Test Data : {data_test_unclean.shape[0]/(data_train_unclean.shape[0]+data_test_unclean.shape[0]):.2f}\")"
   ]
  },
  {
   "cell_type": "code",
   "execution_count": 23,
   "id": "930056eb",
   "metadata": {},
   "outputs": [
    {
     "data": {
      "text/plain": [
       "Facies         0\n",
       "Formation      0\n",
       "Well Name      0\n",
       "Depth          0\n",
       "GR             0\n",
       "ILD_log10      0\n",
       "DeltaPHI       0\n",
       "PHIND          0\n",
       "PE           917\n",
       "NM_M           0\n",
       "RELPOS         0\n",
       "dtype: int64"
      ]
     },
     "execution_count": 23,
     "metadata": {},
     "output_type": "execute_result"
    }
   ],
   "source": [
    "data_train_unclean.isnull().sum()"
   ]
  },
  {
   "cell_type": "code",
   "execution_count": 24,
   "id": "69da1298",
   "metadata": {},
   "outputs": [
    {
     "data": {
      "text/plain": [
       "Facies       0\n",
       "Formation    0\n",
       "Well Name    0\n",
       "Depth        0\n",
       "GR           0\n",
       "ILD_log10    0\n",
       "DeltaPHI     0\n",
       "PHIND        0\n",
       "PE           0\n",
       "NM_M         0\n",
       "RELPOS       0\n",
       "dtype: int64"
      ]
     },
     "execution_count": 24,
     "metadata": {},
     "output_type": "execute_result"
    }
   ],
   "source": [
    "data_test_unclean.isnull().sum()"
   ]
  },
  {
   "cell_type": "markdown",
   "id": "f264ae11",
   "metadata": {},
   "source": [
    "After splitting train and test data, we encounter a null values in train data hence we need to handle this null value through data cleaning"
   ]
  },
  {
   "cell_type": "markdown",
   "id": "ec79ca6d",
   "metadata": {},
   "source": [
    "### B.4 Cleaning Data"
   ]
  },
  {
   "cell_type": "markdown",
   "id": "d35cbecc",
   "metadata": {},
   "source": [
    "From the null identification we know that there are **917 null data** in **PE (Photo Electric)** measurement. I will impute the data by using average value of PE for every facies category, taken from non null PE data"
   ]
  },
  {
   "cell_type": "markdown",
   "id": "b0f9bd7e",
   "metadata": {},
   "source": [
    "#### B.4.1 Cleaning Train Data"
   ]
  },
  {
   "cell_type": "code",
   "execution_count": 25,
   "id": "2f7a63ba",
   "metadata": {},
   "outputs": [],
   "source": [
    "def impute_PE_data_train(data:pd.DataFrame) -> pd.DataFrame:\n",
    "    if data[\"PE\"].isnull().sum() == 0:\n",
    "        pass\n",
    "    else :\n",
    "        PE_mean_data = data.loc[~(data[\"PE\"].isnull()),[\"Facies\",\"PE\"]].groupby(\"Facies\").agg('mean')\n",
    "        PE_nan_data = data.loc[data[\"PE\"].isnull(),[\"Facies\",\"PE\"]]\n",
    "        facies_labels = data[\"Facies\"].unique().tolist()\n",
    "        for facies in facies_labels:\n",
    "            index_PE_nan_by_categories = PE_nan_data[PE_nan_data['Facies']==facies].index.to_list()    \n",
    "            data.loc[index_PE_nan_by_categories,'PE'] = PE_mean_data.loc[facies].values[0]\n",
    "    return data"
   ]
  },
  {
   "cell_type": "code",
   "execution_count": 26,
   "id": "ad63d71d",
   "metadata": {},
   "outputs": [],
   "source": [
    "data_train_clean = impute_PE_data_train(data=data_train_unclean)"
   ]
  },
  {
   "cell_type": "code",
   "execution_count": 27,
   "id": "58f4d8af",
   "metadata": {},
   "outputs": [
    {
     "data": {
      "text/plain": [
       "Facies       0\n",
       "Formation    0\n",
       "Well Name    0\n",
       "Depth        0\n",
       "GR           0\n",
       "ILD_log10    0\n",
       "DeltaPHI     0\n",
       "PHIND        0\n",
       "PE           0\n",
       "NM_M         0\n",
       "RELPOS       0\n",
       "dtype: int64"
      ]
     },
     "execution_count": 27,
     "metadata": {},
     "output_type": "execute_result"
    }
   ],
   "source": [
    "data_train_clean.isnull().sum()"
   ]
  },
  {
   "cell_type": "code",
   "execution_count": 28,
   "id": "570bb417",
   "metadata": {},
   "outputs": [
    {
     "data": {
      "text/plain": [
       "(3745, 11)"
      ]
     },
     "execution_count": 28,
     "metadata": {},
     "output_type": "execute_result"
    }
   ],
   "source": [
    "data_train_clean.shape"
   ]
  },
  {
   "cell_type": "markdown",
   "id": "1695b6c9",
   "metadata": {},
   "source": [
    "#### B.4.2 Cleaning Test Data"
   ]
  },
  {
   "cell_type": "code",
   "execution_count": 29,
   "id": "9599c043",
   "metadata": {},
   "outputs": [],
   "source": [
    "def impute_PE_data_test(data:pd.DataFrame, train_data:pd.DataFrame) -> pd.DataFrame:\n",
    "    if data[\"PE\"].isnull().sum() == 0:\n",
    "        pass\n",
    "    else :\n",
    "        PE_mean_data = train_data.loc[~(train_data[\"PE\"].isnull()),[\"Facies\",\"PE\"]].groupby(\"Facies\").agg('mean')\n",
    "        PE_nan_data = data.loc[data[\"PE\"].isnull(),[\"Facies\",\"PE\"]]\n",
    "        facies_labels = data[\"Facies\"].unique().tolist()\n",
    "        for facies in facies_labels:\n",
    "            index_PE_nan_by_categories = PE_nan_data[PE_nan_data['Facies']==facies].index.to_list()    \n",
    "            data.loc[index_PE_nan_by_categories,'PE'] = PE_mean_data.loc[facies].values[0]\n",
    "    return data"
   ]
  },
  {
   "cell_type": "code",
   "execution_count": 30,
   "id": "da85cbe0",
   "metadata": {},
   "outputs": [],
   "source": [
    "data_test_clean = impute_PE_data_test(data=data_test_unclean, train_data=data_train_unclean)"
   ]
  },
  {
   "cell_type": "code",
   "execution_count": 31,
   "id": "76b169ba",
   "metadata": {},
   "outputs": [
    {
     "data": {
      "text/plain": [
       "Facies       0\n",
       "Formation    0\n",
       "Well Name    0\n",
       "Depth        0\n",
       "GR           0\n",
       "ILD_log10    0\n",
       "DeltaPHI     0\n",
       "PHIND        0\n",
       "PE           0\n",
       "NM_M         0\n",
       "RELPOS       0\n",
       "dtype: int64"
      ]
     },
     "execution_count": 31,
     "metadata": {},
     "output_type": "execute_result"
    }
   ],
   "source": [
    "data_test_clean.isnull().sum()"
   ]
  },
  {
   "cell_type": "code",
   "execution_count": 32,
   "id": "ca4e0826",
   "metadata": {},
   "outputs": [
    {
     "data": {
      "text/plain": [
       "(404, 11)"
      ]
     },
     "execution_count": 32,
     "metadata": {},
     "output_type": "execute_result"
    }
   ],
   "source": [
    "data_test_clean.shape"
   ]
  },
  {
   "cell_type": "markdown",
   "id": "a37cae46",
   "metadata": {},
   "source": [
    "### B.5 Check Data Type"
   ]
  },
  {
   "cell_type": "code",
   "execution_count": 33,
   "id": "9d0e10ff",
   "metadata": {},
   "outputs": [
    {
     "name": "stdout",
     "output_type": "stream",
     "text": [
      "<class 'pandas.core.frame.DataFrame'>\n",
      "Int64Index: 3745 entries, 0 to 4148\n",
      "Data columns (total 11 columns):\n",
      " #   Column     Non-Null Count  Dtype  \n",
      "---  ------     --------------  -----  \n",
      " 0   Facies     3745 non-null   object \n",
      " 1   Formation  3745 non-null   object \n",
      " 2   Well Name  3745 non-null   object \n",
      " 3   Depth      3745 non-null   float64\n",
      " 4   GR         3745 non-null   float64\n",
      " 5   ILD_log10  3745 non-null   float64\n",
      " 6   DeltaPHI   3745 non-null   float64\n",
      " 7   PHIND      3745 non-null   float64\n",
      " 8   PE         3745 non-null   float64\n",
      " 9   NM_M       3745 non-null   int64  \n",
      " 10  RELPOS     3745 non-null   float64\n",
      "dtypes: float64(7), int64(1), object(3)\n",
      "memory usage: 480.1+ KB\n"
     ]
    }
   ],
   "source": [
    "data_train_clean.info()"
   ]
  },
  {
   "cell_type": "code",
   "execution_count": 34,
   "id": "311e0464",
   "metadata": {},
   "outputs": [
    {
     "name": "stdout",
     "output_type": "stream",
     "text": [
      "<class 'pandas.core.frame.DataFrame'>\n",
      "Int64Index: 404 entries, 3279 to 3682\n",
      "Data columns (total 11 columns):\n",
      " #   Column     Non-Null Count  Dtype  \n",
      "---  ------     --------------  -----  \n",
      " 0   Facies     404 non-null    object \n",
      " 1   Formation  404 non-null    object \n",
      " 2   Well Name  404 non-null    object \n",
      " 3   Depth      404 non-null    float64\n",
      " 4   GR         404 non-null    float64\n",
      " 5   ILD_log10  404 non-null    float64\n",
      " 6   DeltaPHI   404 non-null    float64\n",
      " 7   PHIND      404 non-null    float64\n",
      " 8   PE         404 non-null    float64\n",
      " 9   NM_M       404 non-null    int64  \n",
      " 10  RELPOS     404 non-null    float64\n",
      "dtypes: float64(7), int64(1), object(3)\n",
      "memory usage: 37.9+ KB\n"
     ]
    }
   ],
   "source": [
    "data_test_clean.info()"
   ]
  },
  {
   "cell_type": "markdown",
   "id": "b83c9ea2",
   "metadata": {},
   "source": [
    "---\n",
    "## C. Feature Engineering"
   ]
  },
  {
   "cell_type": "markdown",
   "id": "2d195c47",
   "metadata": {},
   "source": [
    "### C.1 Feature Selection"
   ]
  },
  {
   "cell_type": "markdown",
   "id": "8ba9fb49",
   "metadata": {},
   "source": [
    "#### RELPOS Feature"
   ]
  },
  {
   "cell_type": "code",
   "execution_count": 35,
   "id": "8a0d56a5",
   "metadata": {},
   "outputs": [
    {
     "data": {
      "text/html": [
       "<div>\n",
       "<style scoped>\n",
       "    .dataframe tbody tr th:only-of-type {\n",
       "        vertical-align: middle;\n",
       "    }\n",
       "\n",
       "    .dataframe tbody tr th {\n",
       "        vertical-align: top;\n",
       "    }\n",
       "\n",
       "    .dataframe thead tr th {\n",
       "        text-align: left;\n",
       "    }\n",
       "\n",
       "    .dataframe thead tr:last-of-type th {\n",
       "        text-align: right;\n",
       "    }\n",
       "</style>\n",
       "<table border=\"1\" class=\"dataframe\">\n",
       "  <thead>\n",
       "    <tr>\n",
       "      <th></th>\n",
       "      <th></th>\n",
       "      <th colspan=\"2\" halign=\"left\">Depth</th>\n",
       "      <th colspan=\"2\" halign=\"left\">RELPOS</th>\n",
       "    </tr>\n",
       "    <tr>\n",
       "      <th></th>\n",
       "      <th></th>\n",
       "      <th>min</th>\n",
       "      <th>max</th>\n",
       "      <th>min</th>\n",
       "      <th>max</th>\n",
       "    </tr>\n",
       "    <tr>\n",
       "      <th>Well Name</th>\n",
       "      <th>Formation</th>\n",
       "      <th></th>\n",
       "      <th></th>\n",
       "      <th></th>\n",
       "      <th></th>\n",
       "    </tr>\n",
       "  </thead>\n",
       "  <tbody>\n",
       "    <tr>\n",
       "      <th rowspan=\"5\" valign=\"top\">ALEXANDER D</th>\n",
       "      <th>A1 LM</th>\n",
       "      <td>2907.0</td>\n",
       "      <td>2939.0</td>\n",
       "      <td>0.015</td>\n",
       "      <td>1.0</td>\n",
       "    </tr>\n",
       "    <tr>\n",
       "      <th>A1 SH</th>\n",
       "      <td>2887.5</td>\n",
       "      <td>2906.5</td>\n",
       "      <td>0.026</td>\n",
       "      <td>1.0</td>\n",
       "    </tr>\n",
       "    <tr>\n",
       "      <th>B1 LM</th>\n",
       "      <td>2956.0</td>\n",
       "      <td>2966.0</td>\n",
       "      <td>0.048</td>\n",
       "      <td>1.0</td>\n",
       "    </tr>\n",
       "    <tr>\n",
       "      <th>B1 SH</th>\n",
       "      <td>2939.5</td>\n",
       "      <td>2955.5</td>\n",
       "      <td>0.031</td>\n",
       "      <td>1.0</td>\n",
       "    </tr>\n",
       "    <tr>\n",
       "      <th>B2 LM</th>\n",
       "      <td>2978.0</td>\n",
       "      <td>2987.5</td>\n",
       "      <td>0.050</td>\n",
       "      <td>1.0</td>\n",
       "    </tr>\n",
       "    <tr>\n",
       "      <th>...</th>\n",
       "      <th>...</th>\n",
       "      <td>...</td>\n",
       "      <td>...</td>\n",
       "      <td>...</td>\n",
       "      <td>...</td>\n",
       "    </tr>\n",
       "    <tr>\n",
       "      <th rowspan=\"5\" valign=\"top\">SHRIMPLIN</th>\n",
       "      <th>B4 SH</th>\n",
       "      <td>2911.0</td>\n",
       "      <td>2925.0</td>\n",
       "      <td>0.034</td>\n",
       "      <td>1.0</td>\n",
       "    </tr>\n",
       "    <tr>\n",
       "      <th>B5 LM</th>\n",
       "      <td>2938.0</td>\n",
       "      <td>2948.0</td>\n",
       "      <td>0.050</td>\n",
       "      <td>1.0</td>\n",
       "    </tr>\n",
       "    <tr>\n",
       "      <th>B5 SH</th>\n",
       "      <td>2930.0</td>\n",
       "      <td>2937.5</td>\n",
       "      <td>0.118</td>\n",
       "      <td>1.0</td>\n",
       "    </tr>\n",
       "    <tr>\n",
       "      <th>C LM</th>\n",
       "      <td>2977.0</td>\n",
       "      <td>3028.0</td>\n",
       "      <td>0.010</td>\n",
       "      <td>1.0</td>\n",
       "    </tr>\n",
       "    <tr>\n",
       "      <th>C SH</th>\n",
       "      <td>2948.5</td>\n",
       "      <td>2976.5</td>\n",
       "      <td>0.018</td>\n",
       "      <td>1.0</td>\n",
       "    </tr>\n",
       "  </tbody>\n",
       "</table>\n",
       "<p>114 rows × 4 columns</p>\n",
       "</div>"
      ],
      "text/plain": [
       "                        Depth         RELPOS     \n",
       "                          min     max    min  max\n",
       "Well Name   Formation                            \n",
       "ALEXANDER D A1 LM      2907.0  2939.0  0.015  1.0\n",
       "            A1 SH      2887.5  2906.5  0.026  1.0\n",
       "            B1 LM      2956.0  2966.0  0.048  1.0\n",
       "            B1 SH      2939.5  2955.5  0.031  1.0\n",
       "            B2 LM      2978.0  2987.5  0.050  1.0\n",
       "...                       ...     ...    ...  ...\n",
       "SHRIMPLIN   B4 SH      2911.0  2925.0  0.034  1.0\n",
       "            B5 LM      2938.0  2948.0  0.050  1.0\n",
       "            B5 SH      2930.0  2937.5  0.118  1.0\n",
       "            C LM       2977.0  3028.0  0.010  1.0\n",
       "            C SH       2948.5  2976.5  0.018  1.0\n",
       "\n",
       "[114 rows x 4 columns]"
      ]
     },
     "execution_count": 35,
     "metadata": {},
     "output_type": "execute_result"
    }
   ],
   "source": [
    "data_train_clean.groupby([\"Well Name\",\"Formation\"]).aggregate({'Depth':['min','max'],'RELPOS':['min','max']})"
   ]
  },
  {
   "cell_type": "code",
   "execution_count": 36,
   "id": "baa26b3a",
   "metadata": {},
   "outputs": [
    {
     "data": {
      "text/html": [
       "<div>\n",
       "<style scoped>\n",
       "    .dataframe tbody tr th:only-of-type {\n",
       "        vertical-align: middle;\n",
       "    }\n",
       "\n",
       "    .dataframe tbody tr th {\n",
       "        vertical-align: top;\n",
       "    }\n",
       "\n",
       "    .dataframe thead th {\n",
       "        text-align: right;\n",
       "    }\n",
       "</style>\n",
       "<table border=\"1\" class=\"dataframe\">\n",
       "  <thead>\n",
       "    <tr style=\"text-align: right;\">\n",
       "      <th></th>\n",
       "      <th>Depth</th>\n",
       "      <th>RELPOS</th>\n",
       "    </tr>\n",
       "  </thead>\n",
       "  <tbody>\n",
       "    <tr>\n",
       "      <th>Depth</th>\n",
       "      <td>1.0</td>\n",
       "      <td>-1.0</td>\n",
       "    </tr>\n",
       "    <tr>\n",
       "      <th>RELPOS</th>\n",
       "      <td>-1.0</td>\n",
       "      <td>1.0</td>\n",
       "    </tr>\n",
       "  </tbody>\n",
       "</table>\n",
       "</div>"
      ],
      "text/plain": [
       "        Depth  RELPOS\n",
       "Depth     1.0    -1.0\n",
       "RELPOS   -1.0     1.0"
      ]
     },
     "execution_count": 36,
     "metadata": {},
     "output_type": "execute_result"
    }
   ],
   "source": [
    "data_train_clean.loc[(data_train_clean[\"Well Name\"]=='ALEXANDER D') & (data_train_clean[\"Formation\"]=='A1 SH')][['Depth','RELPOS']].corr()"
   ]
  },
  {
   "cell_type": "markdown",
   "id": "ffbdfa52",
   "metadata": {},
   "source": [
    "from this analysis we know that variable depth and RELPOS are strongly correlated, we can say that RELPOS is MinMaxScaller of depth for every formation group, hence for modeling purpose we could drop **Depth, RELPOS and, Formation**"
   ]
  },
  {
   "cell_type": "markdown",
   "id": "02af6b7b",
   "metadata": {},
   "source": [
    "#### Formation Features"
   ]
  },
  {
   "cell_type": "code",
   "execution_count": 37,
   "id": "641c030d",
   "metadata": {},
   "outputs": [
    {
     "data": {
      "text/plain": [
       "array(['A1 SH', 'A1 LM', 'B1 SH', 'B1 LM', 'B2 SH', 'B2 LM', 'B3 SH',\n",
       "       'B3 LM', 'B4 SH', 'B4 LM', 'B5 SH', 'B5 LM', 'C SH', 'C LM'],\n",
       "      dtype=object)"
      ]
     },
     "execution_count": 37,
     "metadata": {},
     "output_type": "execute_result"
    }
   ],
   "source": [
    "data_train_clean[\"Formation\"].unique()"
   ]
  },
  {
   "cell_type": "markdown",
   "id": "096725bf",
   "metadata": {},
   "source": [
    "formation data contains formation name in every well data, this is just a naming convention for labeling the reservoar under the surface. This data is meaningless for lithofacies classification so I would drop it from the feature modeling"
   ]
  },
  {
   "cell_type": "markdown",
   "id": "a321ca71",
   "metadata": {},
   "source": [
    "#### Depth Features"
   ]
  },
  {
   "cell_type": "code",
   "execution_count": 38,
   "id": "60cd4912",
   "metadata": {},
   "outputs": [
    {
     "data": {
      "text/plain": [
       "3745"
      ]
     },
     "execution_count": 38,
     "metadata": {},
     "output_type": "execute_result"
    }
   ],
   "source": [
    "data_train_clean[\"Depth\"].value_counts().sum()"
   ]
  },
  {
   "cell_type": "markdown",
   "id": "98ad74e3",
   "metadata": {},
   "source": [
    "because depth is highly unique, and I know that there are no correlation between depth and lithofacies category, hence for modeling purpose I would drop this features"
   ]
  },
  {
   "cell_type": "markdown",
   "id": "a3d67fd5",
   "metadata": {},
   "source": [
    "#### Well Name Feaures"
   ]
  },
  {
   "cell_type": "code",
   "execution_count": 39,
   "id": "9a3988ad",
   "metadata": {},
   "outputs": [
    {
     "data": {
      "text/plain": [
       "array(['NOLAN', 'LUKE G U', 'CROSS H CATTLE', 'KIMZEY A', 'SHRIMPLIN',\n",
       "       'NEWBY', 'Recruit F9', 'SHANKLE', 'ALEXANDER D'], dtype=object)"
      ]
     },
     "execution_count": 39,
     "metadata": {},
     "output_type": "execute_result"
    }
   ],
   "source": [
    "data_train_clean[\"Well Name\"].unique()"
   ]
  },
  {
   "cell_type": "markdown",
   "id": "4af285a7",
   "metadata": {},
   "source": [
    "well data feature is just an identifier for the source of the data, hence this feature isn't important for this lithofacies classification. From this feature selection activity we know that our input for classification problem is come from wireline measurement feature (GR, ILD_log10, PE, DeltaPHI, PHIND) and the output for classification is Facies Label, the rest of the feature will be dropped from modeling"
   ]
  },
  {
   "cell_type": "code",
   "execution_count": 40,
   "id": "957b907d",
   "metadata": {},
   "outputs": [],
   "source": [
    "def split_input_output_well_data(data:pd.DataFrame):\n",
    "    data = data[[\"GR\",\"ILD_log10\",\"DeltaPHI\",\"PHIND\",\"PE\",\"NM_M\",\"Facies\"]]\n",
    "    y_train = data[\"Facies\"]\n",
    "    X_train_categorical = data[\"NM_M\"]\n",
    "    X_train_numerical = data.drop([\"Facies\",\"NM_M\"], axis=1)\n",
    "    \n",
    "    return X_train_numerical, X_train_categorical, y_train"
   ]
  },
  {
   "cell_type": "code",
   "execution_count": 41,
   "id": "d2b60af1",
   "metadata": {},
   "outputs": [],
   "source": [
    "X_train_numerical, X_train_categorical, y_train = split_input_output_well_data(data=data_train_clean)"
   ]
  },
  {
   "cell_type": "code",
   "execution_count": 42,
   "id": "d6f7fa56",
   "metadata": {},
   "outputs": [
    {
     "data": {
      "text/html": [
       "<div>\n",
       "<style scoped>\n",
       "    .dataframe tbody tr th:only-of-type {\n",
       "        vertical-align: middle;\n",
       "    }\n",
       "\n",
       "    .dataframe tbody tr th {\n",
       "        vertical-align: top;\n",
       "    }\n",
       "\n",
       "    .dataframe thead th {\n",
       "        text-align: right;\n",
       "    }\n",
       "</style>\n",
       "<table border=\"1\" class=\"dataframe\">\n",
       "  <thead>\n",
       "    <tr style=\"text-align: right;\">\n",
       "      <th></th>\n",
       "      <th>GR</th>\n",
       "      <th>ILD_log10</th>\n",
       "      <th>DeltaPHI</th>\n",
       "      <th>PHIND</th>\n",
       "      <th>PE</th>\n",
       "    </tr>\n",
       "  </thead>\n",
       "  <tbody>\n",
       "    <tr>\n",
       "      <th>0</th>\n",
       "      <td>106.813</td>\n",
       "      <td>0.533</td>\n",
       "      <td>9.339</td>\n",
       "      <td>15.222</td>\n",
       "      <td>3.500</td>\n",
       "    </tr>\n",
       "    <tr>\n",
       "      <th>1</th>\n",
       "      <td>100.938</td>\n",
       "      <td>0.542</td>\n",
       "      <td>8.857</td>\n",
       "      <td>15.313</td>\n",
       "      <td>3.416</td>\n",
       "    </tr>\n",
       "    <tr>\n",
       "      <th>2</th>\n",
       "      <td>94.375</td>\n",
       "      <td>0.553</td>\n",
       "      <td>7.097</td>\n",
       "      <td>14.583</td>\n",
       "      <td>3.195</td>\n",
       "    </tr>\n",
       "    <tr>\n",
       "      <th>3</th>\n",
       "      <td>89.813</td>\n",
       "      <td>0.554</td>\n",
       "      <td>7.081</td>\n",
       "      <td>14.110</td>\n",
       "      <td>2.963</td>\n",
       "    </tr>\n",
       "    <tr>\n",
       "      <th>4</th>\n",
       "      <td>91.563</td>\n",
       "      <td>0.560</td>\n",
       "      <td>6.733</td>\n",
       "      <td>13.189</td>\n",
       "      <td>2.979</td>\n",
       "    </tr>\n",
       "  </tbody>\n",
       "</table>\n",
       "</div>"
      ],
      "text/plain": [
       "        GR  ILD_log10  DeltaPHI   PHIND     PE\n",
       "0  106.813      0.533     9.339  15.222  3.500\n",
       "1  100.938      0.542     8.857  15.313  3.416\n",
       "2   94.375      0.553     7.097  14.583  3.195\n",
       "3   89.813      0.554     7.081  14.110  2.963\n",
       "4   91.563      0.560     6.733  13.189  2.979"
      ]
     },
     "execution_count": 42,
     "metadata": {},
     "output_type": "execute_result"
    }
   ],
   "source": [
    "X_train_numerical.head(5)"
   ]
  },
  {
   "cell_type": "code",
   "execution_count": 43,
   "id": "12a97a2f",
   "metadata": {},
   "outputs": [
    {
     "data": {
      "text/plain": [
       "0    1\n",
       "1    1\n",
       "2    1\n",
       "3    1\n",
       "4    1\n",
       "Name: NM_M, dtype: int64"
      ]
     },
     "execution_count": 43,
     "metadata": {},
     "output_type": "execute_result"
    }
   ],
   "source": [
    "X_train_categorical.head(5)"
   ]
  },
  {
   "cell_type": "code",
   "execution_count": 44,
   "id": "52fcb284",
   "metadata": {},
   "outputs": [
    {
     "data": {
      "text/plain": [
       "0    CSiS\n",
       "1    FSiS\n",
       "2    FSiS\n",
       "3    FSiS\n",
       "4    FSiS\n",
       "Name: Facies, dtype: object"
      ]
     },
     "execution_count": 44,
     "metadata": {},
     "output_type": "execute_result"
    }
   ],
   "source": [
    "y_train.head(5)"
   ]
  },
  {
   "cell_type": "markdown",
   "id": "bb8af78a",
   "metadata": {},
   "source": [
    "### C.2 Handling Categorical Data"
   ]
  },
  {
   "cell_type": "code",
   "execution_count": 45,
   "id": "6548c0be",
   "metadata": {},
   "outputs": [],
   "source": [
    "def categorical_handling(data:pd.Series) -> pd.DataFrame:\n",
    "    non_marine_marine_label = {1:\"non_marine\",2:\"marine\"}\n",
    "    data_marine = data.map(non_marine_marine_label)\n",
    "    ohe_train = OneHotEncoder(sparse=False)\n",
    "    ohe_train.fit(np.array([\"non_marine\",\"marine\"]).reshape(-1,1))\n",
    "    ohe_data = ohe_train.transform(np.array(data_marine.to_list()).reshape(-1,1))\n",
    "    ohe_data = pd.DataFrame(data=ohe_data, columns=list(ohe_train.categories_[0]), index=data_marine.index)\n",
    "    \n",
    "    return ohe_data, ohe_train"
   ]
  },
  {
   "cell_type": "code",
   "execution_count": 46,
   "id": "86655a50",
   "metadata": {},
   "outputs": [],
   "source": [
    "X_train_categorical, ohe_train = categorical_handling(data=X_train_categorical)"
   ]
  },
  {
   "cell_type": "code",
   "execution_count": 47,
   "id": "f765007a",
   "metadata": {},
   "outputs": [
    {
     "data": {
      "text/html": [
       "<div>\n",
       "<style scoped>\n",
       "    .dataframe tbody tr th:only-of-type {\n",
       "        vertical-align: middle;\n",
       "    }\n",
       "\n",
       "    .dataframe tbody tr th {\n",
       "        vertical-align: top;\n",
       "    }\n",
       "\n",
       "    .dataframe thead th {\n",
       "        text-align: right;\n",
       "    }\n",
       "</style>\n",
       "<table border=\"1\" class=\"dataframe\">\n",
       "  <thead>\n",
       "    <tr style=\"text-align: right;\">\n",
       "      <th></th>\n",
       "      <th>marine</th>\n",
       "      <th>non_marine</th>\n",
       "    </tr>\n",
       "  </thead>\n",
       "  <tbody>\n",
       "    <tr>\n",
       "      <th>0</th>\n",
       "      <td>0.0</td>\n",
       "      <td>1.0</td>\n",
       "    </tr>\n",
       "    <tr>\n",
       "      <th>1</th>\n",
       "      <td>0.0</td>\n",
       "      <td>1.0</td>\n",
       "    </tr>\n",
       "    <tr>\n",
       "      <th>2</th>\n",
       "      <td>0.0</td>\n",
       "      <td>1.0</td>\n",
       "    </tr>\n",
       "    <tr>\n",
       "      <th>3</th>\n",
       "      <td>0.0</td>\n",
       "      <td>1.0</td>\n",
       "    </tr>\n",
       "    <tr>\n",
       "      <th>4</th>\n",
       "      <td>0.0</td>\n",
       "      <td>1.0</td>\n",
       "    </tr>\n",
       "  </tbody>\n",
       "</table>\n",
       "</div>"
      ],
      "text/plain": [
       "   marine  non_marine\n",
       "0     0.0         1.0\n",
       "1     0.0         1.0\n",
       "2     0.0         1.0\n",
       "3     0.0         1.0\n",
       "4     0.0         1.0"
      ]
     },
     "execution_count": 47,
     "metadata": {},
     "output_type": "execute_result"
    }
   ],
   "source": [
    "X_train_categorical.head(5)"
   ]
  },
  {
   "cell_type": "markdown",
   "id": "6e73f87e",
   "metadata": {},
   "source": [
    "### C.3 Normalize Feature Value"
   ]
  },
  {
   "cell_type": "code",
   "execution_count": 48,
   "id": "905eca35",
   "metadata": {},
   "outputs": [],
   "source": [
    "def normalize_data(numerical_data:pd.DataFrame, categorical_data:pd.DataFrame) -> pd.DataFrame:\n",
    "    data = pd.concat([numerical_data, categorical_data], axis=1)\n",
    "    standard_scaler_train = StandardScaler()\n",
    "    standard_scaler_train.fit(data.values)\n",
    "    normalized_data = standard_scaler_train.transform(data.values)\n",
    "    normalized_data = pd.DataFrame(data=normalized_data, index=data.index, columns=data.columns)\n",
    "    \n",
    "    return normalized_data, standard_scaler_train"
   ]
  },
  {
   "cell_type": "code",
   "execution_count": 49,
   "id": "003d173b",
   "metadata": {
    "scrolled": true
   },
   "outputs": [],
   "source": [
    "X_train, standard_scaler_train = normalize_data(numerical_data=X_train_numerical,\n",
    "                        categorical_data=X_train_categorical)"
   ]
  },
  {
   "cell_type": "markdown",
   "id": "6e91a8d9",
   "metadata": {},
   "source": [
    "after scaling, we could see that for every wireline measurement feature, now they are having standard deviation equal to 1 and mean equal to 0"
   ]
  },
  {
   "cell_type": "code",
   "execution_count": 50,
   "id": "a70830fd",
   "metadata": {},
   "outputs": [
    {
     "data": {
      "text/html": [
       "<div>\n",
       "<style scoped>\n",
       "    .dataframe tbody tr th:only-of-type {\n",
       "        vertical-align: middle;\n",
       "    }\n",
       "\n",
       "    .dataframe tbody tr th {\n",
       "        vertical-align: top;\n",
       "    }\n",
       "\n",
       "    .dataframe thead th {\n",
       "        text-align: right;\n",
       "    }\n",
       "</style>\n",
       "<table border=\"1\" class=\"dataframe\">\n",
       "  <thead>\n",
       "    <tr style=\"text-align: right;\">\n",
       "      <th></th>\n",
       "      <th>GR</th>\n",
       "      <th>ILD_log10</th>\n",
       "      <th>DeltaPHI</th>\n",
       "      <th>PHIND</th>\n",
       "      <th>PE</th>\n",
       "      <th>marine</th>\n",
       "      <th>non_marine</th>\n",
       "    </tr>\n",
       "  </thead>\n",
       "  <tbody>\n",
       "    <tr>\n",
       "      <th>count</th>\n",
       "      <td>3.745000e+03</td>\n",
       "      <td>3.745000e+03</td>\n",
       "      <td>3.745000e+03</td>\n",
       "      <td>3.745000e+03</td>\n",
       "      <td>3.745000e+03</td>\n",
       "      <td>3.745000e+03</td>\n",
       "      <td>3.745000e+03</td>\n",
       "    </tr>\n",
       "    <tr>\n",
       "      <th>mean</th>\n",
       "      <td>3.959450e-16</td>\n",
       "      <td>5.334703e-16</td>\n",
       "      <td>1.440177e-16</td>\n",
       "      <td>1.889454e-16</td>\n",
       "      <td>4.306895e-16</td>\n",
       "      <td>-1.428200e-15</td>\n",
       "      <td>1.191037e-15</td>\n",
       "    </tr>\n",
       "    <tr>\n",
       "      <th>std</th>\n",
       "      <td>1.000134e+00</td>\n",
       "      <td>1.000134e+00</td>\n",
       "      <td>1.000134e+00</td>\n",
       "      <td>1.000134e+00</td>\n",
       "      <td>1.000134e+00</td>\n",
       "      <td>1.000134e+00</td>\n",
       "      <td>1.000134e+00</td>\n",
       "    </tr>\n",
       "    <tr>\n",
       "      <th>min</th>\n",
       "      <td>-1.833418e+00</td>\n",
       "      <td>-2.682445e+00</td>\n",
       "      <td>-4.616491e+00</td>\n",
       "      <td>-1.889120e+00</td>\n",
       "      <td>-4.390288e+00</td>\n",
       "      <td>-9.928162e-01</td>\n",
       "      <td>-1.007236e+00</td>\n",
       "    </tr>\n",
       "    <tr>\n",
       "      <th>25%</th>\n",
       "      <td>-6.344830e-01</td>\n",
       "      <td>-6.354781e-01</td>\n",
       "      <td>-5.269708e-01</td>\n",
       "      <td>-6.786932e-01</td>\n",
       "      <td>-6.894735e-01</td>\n",
       "      <td>-9.928162e-01</td>\n",
       "      <td>-1.007236e+00</td>\n",
       "    </tr>\n",
       "    <tr>\n",
       "      <th>50%</th>\n",
       "      <td>8.716819e-03</td>\n",
       "      <td>-9.772006e-02</td>\n",
       "      <td>-1.711376e-03</td>\n",
       "      <td>-1.443009e-01</td>\n",
       "      <td>-1.792872e-01</td>\n",
       "      <td>-9.928162e-01</td>\n",
       "      <td>9.928162e-01</td>\n",
       "    </tr>\n",
       "    <tr>\n",
       "      <th>75%</th>\n",
       "      <td>4.964497e-01</td>\n",
       "      <td>6.126991e-01</td>\n",
       "      <td>6.008362e-01</td>\n",
       "      <td>4.339975e-01</td>\n",
       "      <td>6.827294e-01</td>\n",
       "      <td>1.007236e+00</td>\n",
       "      <td>9.928162e-01</td>\n",
       "    </tr>\n",
       "    <tr>\n",
       "      <th>max</th>\n",
       "      <td>9.884223e+00</td>\n",
       "      <td>4.575861e+00</td>\n",
       "      <td>2.739392e+00</td>\n",
       "      <td>1.071887e+01</td>\n",
       "      <td>5.386665e+00</td>\n",
       "      <td>1.007236e+00</td>\n",
       "      <td>9.928162e-01</td>\n",
       "    </tr>\n",
       "  </tbody>\n",
       "</table>\n",
       "</div>"
      ],
      "text/plain": [
       "                 GR     ILD_log10      DeltaPHI         PHIND            PE  \\\n",
       "count  3.745000e+03  3.745000e+03  3.745000e+03  3.745000e+03  3.745000e+03   \n",
       "mean   3.959450e-16  5.334703e-16  1.440177e-16  1.889454e-16  4.306895e-16   \n",
       "std    1.000134e+00  1.000134e+00  1.000134e+00  1.000134e+00  1.000134e+00   \n",
       "min   -1.833418e+00 -2.682445e+00 -4.616491e+00 -1.889120e+00 -4.390288e+00   \n",
       "25%   -6.344830e-01 -6.354781e-01 -5.269708e-01 -6.786932e-01 -6.894735e-01   \n",
       "50%    8.716819e-03 -9.772006e-02 -1.711376e-03 -1.443009e-01 -1.792872e-01   \n",
       "75%    4.964497e-01  6.126991e-01  6.008362e-01  4.339975e-01  6.827294e-01   \n",
       "max    9.884223e+00  4.575861e+00  2.739392e+00  1.071887e+01  5.386665e+00   \n",
       "\n",
       "             marine    non_marine  \n",
       "count  3.745000e+03  3.745000e+03  \n",
       "mean  -1.428200e-15  1.191037e-15  \n",
       "std    1.000134e+00  1.000134e+00  \n",
       "min   -9.928162e-01 -1.007236e+00  \n",
       "25%   -9.928162e-01 -1.007236e+00  \n",
       "50%   -9.928162e-01  9.928162e-01  \n",
       "75%    1.007236e+00  9.928162e-01  \n",
       "max    1.007236e+00  9.928162e-01  "
      ]
     },
     "execution_count": 50,
     "metadata": {},
     "output_type": "execute_result"
    }
   ],
   "source": [
    "X_train.describe()"
   ]
  },
  {
   "cell_type": "code",
   "execution_count": 51,
   "id": "0b5e4b7d",
   "metadata": {},
   "outputs": [
    {
     "data": {
      "text/html": [
       "<div>\n",
       "<style scoped>\n",
       "    .dataframe tbody tr th:only-of-type {\n",
       "        vertical-align: middle;\n",
       "    }\n",
       "\n",
       "    .dataframe tbody tr th {\n",
       "        vertical-align: top;\n",
       "    }\n",
       "\n",
       "    .dataframe thead th {\n",
       "        text-align: right;\n",
       "    }\n",
       "</style>\n",
       "<table border=\"1\" class=\"dataframe\">\n",
       "  <thead>\n",
       "    <tr style=\"text-align: right;\">\n",
       "      <th></th>\n",
       "      <th>GR</th>\n",
       "      <th>ILD_log10</th>\n",
       "      <th>DeltaPHI</th>\n",
       "      <th>PHIND</th>\n",
       "      <th>PE</th>\n",
       "      <th>marine</th>\n",
       "      <th>non_marine</th>\n",
       "    </tr>\n",
       "  </thead>\n",
       "  <tbody>\n",
       "    <tr>\n",
       "      <th>0</th>\n",
       "      <td>1.393564</td>\n",
       "      <td>-0.460574</td>\n",
       "      <td>0.868531</td>\n",
       "      <td>0.317015</td>\n",
       "      <td>-0.303140</td>\n",
       "      <td>-0.992816</td>\n",
       "      <td>0.992816</td>\n",
       "    </tr>\n",
       "    <tr>\n",
       "      <th>1</th>\n",
       "      <td>1.197436</td>\n",
       "      <td>-0.424799</td>\n",
       "      <td>0.778111</td>\n",
       "      <td>0.330698</td>\n",
       "      <td>-0.407177</td>\n",
       "      <td>-0.992816</td>\n",
       "      <td>0.992816</td>\n",
       "    </tr>\n",
       "    <tr>\n",
       "      <th>2</th>\n",
       "      <td>0.978341</td>\n",
       "      <td>-0.381073</td>\n",
       "      <td>0.447948</td>\n",
       "      <td>0.220932</td>\n",
       "      <td>-0.680892</td>\n",
       "      <td>-0.992816</td>\n",
       "      <td>0.992816</td>\n",
       "    </tr>\n",
       "    <tr>\n",
       "      <th>3</th>\n",
       "      <td>0.826045</td>\n",
       "      <td>-0.377097</td>\n",
       "      <td>0.444947</td>\n",
       "      <td>0.149810</td>\n",
       "      <td>-0.968231</td>\n",
       "      <td>-0.992816</td>\n",
       "      <td>0.992816</td>\n",
       "    </tr>\n",
       "    <tr>\n",
       "      <th>4</th>\n",
       "      <td>0.884466</td>\n",
       "      <td>-0.353247</td>\n",
       "      <td>0.379664</td>\n",
       "      <td>0.011325</td>\n",
       "      <td>-0.948414</td>\n",
       "      <td>-0.992816</td>\n",
       "      <td>0.992816</td>\n",
       "    </tr>\n",
       "  </tbody>\n",
       "</table>\n",
       "</div>"
      ],
      "text/plain": [
       "         GR  ILD_log10  DeltaPHI     PHIND        PE    marine  non_marine\n",
       "0  1.393564  -0.460574  0.868531  0.317015 -0.303140 -0.992816    0.992816\n",
       "1  1.197436  -0.424799  0.778111  0.330698 -0.407177 -0.992816    0.992816\n",
       "2  0.978341  -0.381073  0.447948  0.220932 -0.680892 -0.992816    0.992816\n",
       "3  0.826045  -0.377097  0.444947  0.149810 -0.968231 -0.992816    0.992816\n",
       "4  0.884466  -0.353247  0.379664  0.011325 -0.948414 -0.992816    0.992816"
      ]
     },
     "execution_count": 51,
     "metadata": {},
     "output_type": "execute_result"
    }
   ],
   "source": [
    "X_train.head(5)"
   ]
  },
  {
   "cell_type": "markdown",
   "id": "91a0db13",
   "metadata": {},
   "source": [
    "### C.4 Label Encoding Output Feature"
   ]
  },
  {
   "cell_type": "code",
   "execution_count": 52,
   "id": "e2fa77a4",
   "metadata": {},
   "outputs": [],
   "source": [
    "def facies_encoder(data:pd.Series) -> pd.Series :\n",
    "    facies_label_encoder = {'SS':0, 'CSiS':1, 'FSiS':2, 'SiSh':3, 'MS':4, 'WS':5, 'D':6, 'PS':7, 'BS':8}\n",
    "    encoded_data = data.map(facies_label_encoder)\n",
    "    \n",
    "    return encoded_data"
   ]
  },
  {
   "cell_type": "code",
   "execution_count": 53,
   "id": "b50558ce",
   "metadata": {},
   "outputs": [],
   "source": [
    "y_train_numerical = facies_encoder(data=y_train)"
   ]
  },
  {
   "cell_type": "code",
   "execution_count": 54,
   "id": "4fdcf7f2",
   "metadata": {},
   "outputs": [
    {
     "data": {
      "text/plain": [
       "0    1\n",
       "1    2\n",
       "2    2\n",
       "3    2\n",
       "4    2\n",
       "Name: Facies, dtype: int64"
      ]
     },
     "execution_count": 54,
     "metadata": {},
     "output_type": "execute_result"
    }
   ],
   "source": [
    "y_train_numerical.head(5)"
   ]
  },
  {
   "cell_type": "markdown",
   "id": "01f3a8a7",
   "metadata": {},
   "source": [
    "as you can see, the facies data now already encoded by using label encoder in dictionary 'facies_label_encoder'"
   ]
  },
  {
   "cell_type": "markdown",
   "id": "2db62a85",
   "metadata": {},
   "source": [
    "### C.5 Balancing Train Data"
   ]
  },
  {
   "cell_type": "markdown",
   "id": "69265919",
   "metadata": {},
   "source": [
    "#### Unbalance Train Data"
   ]
  },
  {
   "cell_type": "code",
   "execution_count": 55,
   "id": "d4dc13c3",
   "metadata": {},
   "outputs": [],
   "source": [
    "inverse_facies_label_encoder = {0:'SS', 1:'CSiS', 2:'FSiS', 3:'SiSh', 4:'MS', 5:'WS', 6:'D', 7:'PS', 8:'BS'}\n",
    "facies_colors_pallete = {'SS':'#F4D03F', 'CSiS':'#F5B041', 'FSiS':'#DC7633','SiSh':'#6E2C00',\n",
    "       'MS':'#1B4F72', 'WS':'#2E86C1', 'D':'#AED6F1', 'PS':'#A569BD', 'BS':'#196F3D'}"
   ]
  },
  {
   "cell_type": "code",
   "execution_count": 56,
   "id": "539667ba",
   "metadata": {},
   "outputs": [
    {
     "data": {
      "text/plain": [
       "CSiS    884\n",
       "FSiS    729\n",
       "PS      611\n",
       "WS      495\n",
       "MS      266\n",
       "SS      260\n",
       "SiSh    258\n",
       "BS      135\n",
       "D       107\n",
       "Name: Facies, dtype: int64"
      ]
     },
     "execution_count": 56,
     "metadata": {},
     "output_type": "execute_result"
    }
   ],
   "source": [
    "y_train.value_counts()"
   ]
  },
  {
   "cell_type": "code",
   "execution_count": 57,
   "id": "ef6c7bd0",
   "metadata": {
    "scrolled": false
   },
   "outputs": [
    {
     "data": {
      "image/png": "[encoded data removed]",
      "text/plain": [
       "<Figure size 432x288 with 1 Axes>"
      ]
     },
     "metadata": {},
     "output_type": "display_data"
    }
   ],
   "source": [
    "sns.set_style('darkgrid')\n",
    "y_train_summary = y_train.value_counts()\n",
    "sns.barplot(x=y_train_summary.index,\n",
    "            y=y_train_summary.values,\n",
    "            palette=facies_colors_pallete,\n",
    "            order=y_train_summary.index)\n",
    "plt.title(\"Facies Distribution on Unbalance Train Data\", fontsize=15)\n",
    "plt.show()"
   ]
  },
  {
   "cell_type": "markdown",
   "id": "af931367",
   "metadata": {},
   "source": [
    "we could see that the categories are not balance each other from the train data, for experiment purpose let's we try unbalance, undersampling, oversampling and smote sampling data to search for best model. I will use x_train, and y_train as unbalance train data"
   ]
  },
  {
   "cell_type": "markdown",
   "id": "650ee855",
   "metadata": {},
   "source": [
    "#### Random Under Sampling Train Data"
   ]
  },
  {
   "cell_type": "code",
   "execution_count": 58,
   "id": "c8aac2f5",
   "metadata": {},
   "outputs": [
    {
     "data": {
      "image/png": "[encoded data removed]",
      "text/plain": [
       "<Figure size 432x288 with 1 Axes>"
      ]
     },
     "metadata": {},
     "output_type": "display_data"
    }
   ],
   "source": [
    "rus = RandomUnderSampler()\n",
    "x_train_rus, y_train_rus = rus.fit_resample(X = X_train.values, y = y_train_numerical)\n",
    "x_train_rus = pd.DataFrame(data=x_train_rus, columns=X_train.columns)\n",
    "y_train_rus_summary = y_train_rus.value_counts()\n",
    "y_train_rus_summary.index = y_train_rus_summary.index.map(inverse_facies_label_encoder)\n",
    "sns.barplot(x=y_train_rus_summary.index,\n",
    "            y=y_train_rus_summary.values,\n",
    "            palette=facies_colors_pallete,\n",
    "            order=y_train_rus_summary.index)\n",
    "plt.title(\"Facies Distribution on Random Under Sampling Train Data\", fontsize=14)\n",
    "plt.show()"
   ]
  },
  {
   "cell_type": "markdown",
   "id": "5e8b0f2a",
   "metadata": {},
   "source": [
    "because the smallest category is D, then the random under sampling algorithm cut the amount of others category to be the same amout as D, hence we will have least input than the unbalance training data."
   ]
  },
  {
   "cell_type": "markdown",
   "id": "b1f87ebb",
   "metadata": {},
   "source": [
    "#### Random Over Sampling Training Data"
   ]
  },
  {
   "cell_type": "code",
   "execution_count": 59,
   "id": "9c074d6d",
   "metadata": {},
   "outputs": [
    {
     "data": {
      "image/png": "[encoded data removed]",
      "text/plain": [
       "<Figure size 432x288 with 1 Axes>"
      ]
     },
     "metadata": {},
     "output_type": "display_data"
    }
   ],
   "source": [
    "ros = RandomOverSampler()\n",
    "x_train_ros, y_train_ros = ros.fit_resample(X = X_train.values, y=y_train_numerical)\n",
    "x_train_ros = pd.DataFrame(data=x_train_ros, columns=X_train.columns)\n",
    "y_train_ros_summary = y_train_ros.value_counts()\n",
    "y_train_ros_summary.index = y_train_ros_summary.index.map(inverse_facies_label_encoder)\n",
    "sns.barplot(x=y_train_ros_summary.index,\n",
    "            y=y_train_ros_summary.values,\n",
    "            palette=facies_colors_pallete,\n",
    "            order=y_train_ros_summary.index)\n",
    "plt.title(\"Facies Distribution on Random Over Sampling Train Data\", fontsize=14)\n",
    "plt.show()"
   ]
  },
  {
   "cell_type": "markdown",
   "id": "daebf5df",
   "metadata": {},
   "source": [
    "because the largest category is CSiS, then the random over sampling algorithm extend the amount of others category to be the same amout as CSiS, hence we will have more input than unblance training data"
   ]
  },
  {
   "cell_type": "markdown",
   "id": "5aff0d1a",
   "metadata": {},
   "source": [
    "#### SMOTE Sampling Training Data"
   ]
  },
  {
   "cell_type": "code",
   "execution_count": 60,
   "id": "16f7924f",
   "metadata": {},
   "outputs": [
    {
     "data": {
      "image/png": "[encoded data removed]",
      "text/plain": [
       "<Figure size 432x288 with 1 Axes>"
      ]
     },
     "metadata": {},
     "output_type": "display_data"
    }
   ],
   "source": [
    "smote = SMOTE()\n",
    "x_train_smote, y_train_smote = smote.fit_resample(X = X_train.values,y = y_train_numerical)\n",
    "x_train_smote = pd.DataFrame(data=x_train_smote, columns=X_train.columns)\n",
    "y_train_smote_summary = y_train_smote.value_counts()\n",
    "y_train_smote_summary.index = y_train_smote_summary.index.map(inverse_facies_label_encoder)\n",
    "sns.barplot(x=y_train_smote_summary.index,\n",
    "            y=y_train_smote_summary.values,\n",
    "            palette=facies_colors_pallete,\n",
    "            order=y_train_smote_summary.index)\n",
    "plt.title(\"Facies Distribution on Smote Sampling Train Data\", fontsize=16)\n",
    "plt.show()"
   ]
  },
  {
   "cell_type": "markdown",
   "id": "e665258a",
   "metadata": {},
   "source": [
    "we will get smote train data as much as over sampling training data, but with much variation in the data"
   ]
  },
  {
   "cell_type": "code",
   "execution_count": 61,
   "id": "0a589ae9",
   "metadata": {},
   "outputs": [],
   "source": [
    "def make_modeling_data(X_data:pd.DataFrame, y_data:pd.DataFrame) -> dict :\n",
    "    rus = RandomUnderSampler()\n",
    "    ros = RandomOverSampler()\n",
    "    smote = SMOTE()\n",
    "    \n",
    "    X_train_rus, y_train_rus = rus.fit_resample(X = X_data.values, y = y_data)\n",
    "    X_train_ros, y_train_ros = ros.fit_resample(X = X_data.values, y=y_data)\n",
    "    X_train_smote, y_train_smote = smote.fit_resample(X = X_data.values,y = y_data)\n",
    "    \n",
    "    X_train_rus = pd.DataFrame(data=X_train_rus, columns=X_data.columns)\n",
    "    X_train_ros = pd.DataFrame(data=X_train_ros, columns=X_data.columns)\n",
    "    X_train_smote = pd.DataFrame(data=X_train_smote, columns=X_data.columns)\n",
    "    \n",
    "    modeling_data = {\"X_train\":{\"unbalance\":X_data, \"rus\":X_train_rus, \"ros\":X_train_ros, \"smote\": X_train_smote},\n",
    "                     \"y_train\":{\"unbalance\":y_data, \"rus\":y_train_rus, \"ros\":y_train_ros, \"smote\": y_train_smote}}\n",
    "    \n",
    "    return modeling_data"
   ]
  },
  {
   "cell_type": "code",
   "execution_count": 62,
   "id": "3f9f991d",
   "metadata": {},
   "outputs": [],
   "source": [
    "train_data = make_modeling_data(X_data=X_train, y_data=y_train_numerical)"
   ]
  },
  {
   "cell_type": "code",
   "execution_count": 63,
   "id": "30dccecf",
   "metadata": {},
   "outputs": [
    {
     "data": {
      "text/plain": [
       "{'X_train': {'unbalance':             GR  ILD_log10  DeltaPHI     PHIND        PE    marine  non_marine\n",
       "  0     1.393564  -0.460574  0.868531  0.317015 -0.303140 -0.992816    0.992816\n",
       "  1     1.197436  -0.424799  0.778111  0.330698 -0.407177 -0.992816    0.992816\n",
       "  2     0.978341  -0.381073  0.447948  0.220932 -0.680892 -0.992816    0.992816\n",
       "  3     0.826045  -0.377097  0.444947  0.149810 -0.968231 -0.992816    0.992816\n",
       "  4     0.884466  -0.353247  0.379664  0.011325 -0.948414 -0.992816    0.992816\n",
       "  ...        ...        ...       ...       ...       ...       ...         ...\n",
       "  4144  0.109201   1.038033 -1.221064 -0.759138  1.003790  1.007236   -1.007236\n",
       "  4145  0.093511   1.101635 -0.545730 -0.742598  1.003790  1.007236   -1.007236\n",
       "  4146  0.031084   1.109585  0.298437 -0.687715  1.003790  1.007236   -1.007236\n",
       "  4147  0.077487   0.990332  0.917493 -0.505023  1.003790  1.007236   -1.007236\n",
       "  4148  0.384281   0.799528  1.386474 -0.345638  1.003790  1.007236   -1.007236\n",
       "  \n",
       "  [3745 rows x 7 columns],\n",
       "  'rus':            GR  ILD_log10  DeltaPHI     PHIND        PE    marine  non_marine\n",
       "  0   -0.521513  -0.603407 -0.677045 -0.611030 -0.549608 -0.992816    0.992816\n",
       "  1   -0.308894   0.608724 -0.864450  0.186123 -1.023066 -0.992816    0.992816\n",
       "  2    0.302859  -1.065766 -0.076748 -0.069721 -0.864194 -0.992816    0.992816\n",
       "  3   -0.148987   0.018431  0.148363 -0.415557 -0.875341 -0.992816    0.992816\n",
       "  4    0.378506  -1.583854  0.035807  0.396407 -1.072267 -0.992816    0.992816\n",
       "  ..        ...        ...       ...       ...       ...       ...         ...\n",
       "  958 -1.086229   0.867105 -0.887524 -0.110920  1.467957  1.007236   -1.007236\n",
       "  959  0.298152   0.473571 -0.837812 -0.517804  2.386946  1.007236   -1.007236\n",
       "  960 -0.736737  -1.454346 -0.728070  0.634883  3.079284  1.007236   -1.007236\n",
       "  961 -0.905724  -1.990983 -0.262840  0.475047  3.712173  1.007236   -1.007236\n",
       "  962 -1.283926   2.480990 -0.526033 -1.384650  1.128600  1.007236   -1.007236\n",
       "  \n",
       "  [963 rows x 7 columns],\n",
       "  'ros':             GR  ILD_log10  DeltaPHI     PHIND        PE    marine  non_marine\n",
       "  0     1.393564  -0.460574  0.868531  0.317015 -0.303140 -0.992816    0.992816\n",
       "  1     1.197436  -0.424799  0.778111  0.330698 -0.407177 -0.992816    0.992816\n",
       "  2     0.978341  -0.381073  0.447948  0.220932 -0.680892 -0.992816    0.992816\n",
       "  3     0.826045  -0.377097  0.444947  0.149810 -0.968231 -0.992816    0.992816\n",
       "  4     0.884466  -0.353247  0.379664  0.011325 -0.948414 -0.992816    0.992816\n",
       "  ...        ...        ...       ...       ...       ...       ...         ...\n",
       "  7951 -0.951726   0.390094 -0.508212 -0.686963  1.926213  1.007236   -1.007236\n",
       "  7952 -0.726788   0.437795  0.355277 -0.641929  1.813853  1.007236   -1.007236\n",
       "  7953 -1.283926   2.480990 -0.526033 -1.384650  1.128600  1.007236   -1.007236\n",
       "  7954 -1.676816   0.918781 -1.821360 -1.114748  1.554654  1.007236   -1.007236\n",
       "  7955 -0.929727  -1.195965 -0.757335  0.885991  1.733003  1.007236   -1.007236\n",
       "  \n",
       "  [7956 rows x 7 columns],\n",
       "  'smote':             GR  ILD_log10  DeltaPHI     PHIND        PE    marine  non_marine\n",
       "  0     1.393564  -0.460574  0.868531  0.317015 -0.303140 -0.992816    0.992816\n",
       "  1     1.197436  -0.424799  0.778111  0.330698 -0.407177 -0.992816    0.992816\n",
       "  2     0.978341  -0.381073  0.447948  0.220932 -0.680892 -0.992816    0.992816\n",
       "  3     0.826045  -0.377097  0.444947  0.149810 -0.968231 -0.992816    0.992816\n",
       "  4     0.884466  -0.353247  0.379664  0.011325 -0.948414 -0.992816    0.992816\n",
       "  ...        ...        ...       ...       ...       ...       ...         ...\n",
       "  7951 -0.951726   0.390094 -0.508212 -0.686963  1.926213  1.007236   -1.007236\n",
       "  7952 -1.057200   0.580797 -1.366438 -0.524908  1.396904  1.007236   -1.007236\n",
       "  7953 -0.998547   0.360452 -0.529733 -0.601143  1.961735  1.007236   -1.007236\n",
       "  7954 -1.305265   0.236828 -0.807934 -0.161560  1.865691  1.007236   -1.007236\n",
       "  7955 -0.010979  -0.758706  1.949252 -0.061451  1.813853  1.007236   -1.007236\n",
       "  \n",
       "  [7956 rows x 7 columns]},\n",
       " 'y_train': {'unbalance': 0       1\n",
       "  1       2\n",
       "  2       2\n",
       "  3       2\n",
       "  4       2\n",
       "         ..\n",
       "  4144    7\n",
       "  4145    7\n",
       "  4146    7\n",
       "  4147    7\n",
       "  4148    7\n",
       "  Name: Facies, Length: 3745, dtype: int64,\n",
       "  'rus': 0      0\n",
       "  1      0\n",
       "  2      0\n",
       "  3      0\n",
       "  4      0\n",
       "        ..\n",
       "  958    8\n",
       "  959    8\n",
       "  960    8\n",
       "  961    8\n",
       "  962    8\n",
       "  Name: Facies, Length: 963, dtype: int64,\n",
       "  'ros': 0       1\n",
       "  1       2\n",
       "  2       2\n",
       "  3       2\n",
       "  4       2\n",
       "         ..\n",
       "  7951    8\n",
       "  7952    8\n",
       "  7953    8\n",
       "  7954    8\n",
       "  7955    8\n",
       "  Name: Facies, Length: 7956, dtype: int64,\n",
       "  'smote': 0       1\n",
       "  1       2\n",
       "  2       2\n",
       "  3       2\n",
       "  4       2\n",
       "         ..\n",
       "  7951    8\n",
       "  7952    8\n",
       "  7953    8\n",
       "  7954    8\n",
       "  7955    8\n",
       "  Name: Facies, Length: 7956, dtype: int64}}"
      ]
     },
     "execution_count": 63,
     "metadata": {},
     "output_type": "execute_result"
    }
   ],
   "source": [
    "train_data"
   ]
  },
  {
   "cell_type": "markdown",
   "id": "2a904007",
   "metadata": {},
   "source": [
    "this **train_data** dictionary will consist of X_train and y_train for unbalance, undersampling, oversampling, and SMOTE train data. I will try this all sampling into machine learning model"
   ]
  },
  {
   "cell_type": "markdown",
   "id": "bdc282a9",
   "metadata": {},
   "source": [
    "### C.6 Feature Engineering on Test Data"
   ]
  },
  {
   "cell_type": "markdown",
   "id": "9ea918e1",
   "metadata": {},
   "source": [
    "we will do what has been done on the training data into the testing data"
   ]
  },
  {
   "cell_type": "code",
   "execution_count": 64,
   "id": "e0efb447",
   "metadata": {},
   "outputs": [],
   "source": [
    "X_test_numerical, X_test_categorical, y_test = split_input_output_well_data(data=data_test_clean)"
   ]
  },
  {
   "cell_type": "code",
   "execution_count": 65,
   "id": "d7bc4cd7",
   "metadata": {},
   "outputs": [
    {
     "data": {
      "text/html": [
       "<div>\n",
       "<style scoped>\n",
       "    .dataframe tbody tr th:only-of-type {\n",
       "        vertical-align: middle;\n",
       "    }\n",
       "\n",
       "    .dataframe tbody tr th {\n",
       "        vertical-align: top;\n",
       "    }\n",
       "\n",
       "    .dataframe thead th {\n",
       "        text-align: right;\n",
       "    }\n",
       "</style>\n",
       "<table border=\"1\" class=\"dataframe\">\n",
       "  <thead>\n",
       "    <tr style=\"text-align: right;\">\n",
       "      <th></th>\n",
       "      <th>GR</th>\n",
       "      <th>ILD_log10</th>\n",
       "      <th>DeltaPHI</th>\n",
       "      <th>PHIND</th>\n",
       "      <th>PE</th>\n",
       "    </tr>\n",
       "  </thead>\n",
       "  <tbody>\n",
       "    <tr>\n",
       "      <th>3279</th>\n",
       "      <td>63.500</td>\n",
       "      <td>0.705</td>\n",
       "      <td>4.916</td>\n",
       "      <td>12.174</td>\n",
       "      <td>3.162</td>\n",
       "    </tr>\n",
       "    <tr>\n",
       "      <th>3280</th>\n",
       "      <td>80.875</td>\n",
       "      <td>0.709</td>\n",
       "      <td>7.514</td>\n",
       "      <td>13.286</td>\n",
       "      <td>2.932</td>\n",
       "    </tr>\n",
       "    <tr>\n",
       "      <th>3281</th>\n",
       "      <td>87.813</td>\n",
       "      <td>0.700</td>\n",
       "      <td>7.785</td>\n",
       "      <td>13.212</td>\n",
       "      <td>2.953</td>\n",
       "    </tr>\n",
       "    <tr>\n",
       "      <th>3282</th>\n",
       "      <td>86.750</td>\n",
       "      <td>0.685</td>\n",
       "      <td>7.547</td>\n",
       "      <td>13.547</td>\n",
       "      <td>3.420</td>\n",
       "    </tr>\n",
       "    <tr>\n",
       "      <th>3283</th>\n",
       "      <td>79.438</td>\n",
       "      <td>0.669</td>\n",
       "      <td>5.912</td>\n",
       "      <td>12.252</td>\n",
       "      <td>3.324</td>\n",
       "    </tr>\n",
       "  </tbody>\n",
       "</table>\n",
       "</div>"
      ],
      "text/plain": [
       "          GR  ILD_log10  DeltaPHI   PHIND     PE\n",
       "3279  63.500      0.705     4.916  12.174  3.162\n",
       "3280  80.875      0.709     7.514  13.286  2.932\n",
       "3281  87.813      0.700     7.785  13.212  2.953\n",
       "3282  86.750      0.685     7.547  13.547  3.420\n",
       "3283  79.438      0.669     5.912  12.252  3.324"
      ]
     },
     "execution_count": 65,
     "metadata": {},
     "output_type": "execute_result"
    }
   ],
   "source": [
    "X_test_numerical.head(5)"
   ]
  },
  {
   "cell_type": "code",
   "execution_count": 66,
   "id": "b0b85963",
   "metadata": {},
   "outputs": [
    {
     "data": {
      "text/plain": [
       "3279    1\n",
       "3280    1\n",
       "3281    1\n",
       "3282    1\n",
       "3283    1\n",
       "Name: NM_M, dtype: int64"
      ]
     },
     "execution_count": 66,
     "metadata": {},
     "output_type": "execute_result"
    }
   ],
   "source": [
    "X_test_categorical.head(5)"
   ]
  },
  {
   "cell_type": "code",
   "execution_count": 67,
   "id": "17f1e577",
   "metadata": {
    "scrolled": true
   },
   "outputs": [
    {
     "data": {
      "text/plain": [
       "3279    FSiS\n",
       "3280    FSiS\n",
       "3281    FSiS\n",
       "3282    FSiS\n",
       "3283    FSiS\n",
       "Name: Facies, dtype: object"
      ]
     },
     "execution_count": 67,
     "metadata": {},
     "output_type": "execute_result"
    }
   ],
   "source": [
    "y_test.head(5)"
   ]
  },
  {
   "cell_type": "code",
   "execution_count": 68,
   "id": "edb89a53",
   "metadata": {},
   "outputs": [
    {
     "data": {
      "text/plain": [
       "array(['FSiS', 'CSiS', 'SS', 'PS', 'WS', 'MS', 'SiSh', 'D', 'BS'],\n",
       "      dtype=object)"
      ]
     },
     "execution_count": 68,
     "metadata": {},
     "output_type": "execute_result"
    }
   ],
   "source": [
    "y_test.unique()"
   ]
  },
  {
   "cell_type": "code",
   "execution_count": 69,
   "id": "9ac6a5f3",
   "metadata": {},
   "outputs": [],
   "source": [
    "def categorical_handling_test_data(data:pd.Series, ohe:OneHotEncoder) -> pd.DataFrame:\n",
    "    non_marine_marine_label = {1:\"non_marine\",2:\"marine\"}\n",
    "    data_marine = data.map(non_marine_marine_label)\n",
    "    ohe_data = ohe.transform(np.array(data_marine.to_list()).reshape(-1,1))\n",
    "    ohe_data = pd.DataFrame(data=ohe_data, columns=list(ohe_train.categories_[0]), index=data_marine.index)\n",
    "    \n",
    "    return ohe_data"
   ]
  },
  {
   "cell_type": "code",
   "execution_count": 70,
   "id": "10d71eee",
   "metadata": {},
   "outputs": [],
   "source": [
    "X_test_categorical = categorical_handling_test_data(data=X_test_categorical, ohe=ohe_train)"
   ]
  },
  {
   "cell_type": "code",
   "execution_count": 71,
   "id": "7d705a88",
   "metadata": {},
   "outputs": [
    {
     "data": {
      "text/html": [
       "<div>\n",
       "<style scoped>\n",
       "    .dataframe tbody tr th:only-of-type {\n",
       "        vertical-align: middle;\n",
       "    }\n",
       "\n",
       "    .dataframe tbody tr th {\n",
       "        vertical-align: top;\n",
       "    }\n",
       "\n",
       "    .dataframe thead th {\n",
       "        text-align: right;\n",
       "    }\n",
       "</style>\n",
       "<table border=\"1\" class=\"dataframe\">\n",
       "  <thead>\n",
       "    <tr style=\"text-align: right;\">\n",
       "      <th></th>\n",
       "      <th>marine</th>\n",
       "      <th>non_marine</th>\n",
       "    </tr>\n",
       "  </thead>\n",
       "  <tbody>\n",
       "    <tr>\n",
       "      <th>3279</th>\n",
       "      <td>0.0</td>\n",
       "      <td>1.0</td>\n",
       "    </tr>\n",
       "    <tr>\n",
       "      <th>3280</th>\n",
       "      <td>0.0</td>\n",
       "      <td>1.0</td>\n",
       "    </tr>\n",
       "    <tr>\n",
       "      <th>3281</th>\n",
       "      <td>0.0</td>\n",
       "      <td>1.0</td>\n",
       "    </tr>\n",
       "    <tr>\n",
       "      <th>3282</th>\n",
       "      <td>0.0</td>\n",
       "      <td>1.0</td>\n",
       "    </tr>\n",
       "    <tr>\n",
       "      <th>3283</th>\n",
       "      <td>0.0</td>\n",
       "      <td>1.0</td>\n",
       "    </tr>\n",
       "  </tbody>\n",
       "</table>\n",
       "</div>"
      ],
      "text/plain": [
       "      marine  non_marine\n",
       "3279     0.0         1.0\n",
       "3280     0.0         1.0\n",
       "3281     0.0         1.0\n",
       "3282     0.0         1.0\n",
       "3283     0.0         1.0"
      ]
     },
     "execution_count": 71,
     "metadata": {},
     "output_type": "execute_result"
    }
   ],
   "source": [
    "X_test_categorical.head(5)"
   ]
  },
  {
   "cell_type": "code",
   "execution_count": 72,
   "id": "3b9ef7f0",
   "metadata": {},
   "outputs": [],
   "source": [
    "def normalize_test_data(numerical_data:pd.DataFrame, categorical_data:pd.DataFrame, scaler:StandardScaler) -> pd.DataFrame:\n",
    "    data = pd.concat([numerical_data, categorical_data], axis=1)\n",
    "    normalized_data = scaler.transform(data.values)\n",
    "    normalized_data = pd.DataFrame(data=normalized_data, index=data.index, columns=data.columns)\n",
    "    \n",
    "    return normalized_data"
   ]
  },
  {
   "cell_type": "code",
   "execution_count": 73,
   "id": "8982c618",
   "metadata": {},
   "outputs": [],
   "source": [
    "X_test = normalize_test_data(numerical_data=X_test_numerical,\n",
    "                            categorical_data=X_test_categorical,\n",
    "                            scaler=standard_scaler_train)"
   ]
  },
  {
   "cell_type": "code",
   "execution_count": 74,
   "id": "f675b0e7",
   "metadata": {},
   "outputs": [
    {
     "data": {
      "text/html": [
       "<div>\n",
       "<style scoped>\n",
       "    .dataframe tbody tr th:only-of-type {\n",
       "        vertical-align: middle;\n",
       "    }\n",
       "\n",
       "    .dataframe tbody tr th {\n",
       "        vertical-align: top;\n",
       "    }\n",
       "\n",
       "    .dataframe thead th {\n",
       "        text-align: right;\n",
       "    }\n",
       "</style>\n",
       "<table border=\"1\" class=\"dataframe\">\n",
       "  <thead>\n",
       "    <tr style=\"text-align: right;\">\n",
       "      <th></th>\n",
       "      <th>GR</th>\n",
       "      <th>ILD_log10</th>\n",
       "      <th>DeltaPHI</th>\n",
       "      <th>PHIND</th>\n",
       "      <th>PE</th>\n",
       "      <th>marine</th>\n",
       "      <th>non_marine</th>\n",
       "    </tr>\n",
       "  </thead>\n",
       "  <tbody>\n",
       "    <tr>\n",
       "      <th>3279</th>\n",
       "      <td>-0.052375</td>\n",
       "      <td>0.223141</td>\n",
       "      <td>0.038809</td>\n",
       "      <td>-0.141294</td>\n",
       "      <td>-0.721763</td>\n",
       "      <td>-0.992816</td>\n",
       "      <td>0.992816</td>\n",
       "    </tr>\n",
       "    <tr>\n",
       "      <th>3280</th>\n",
       "      <td>0.527663</td>\n",
       "      <td>0.239041</td>\n",
       "      <td>0.526174</td>\n",
       "      <td>0.025911</td>\n",
       "      <td>-1.006625</td>\n",
       "      <td>-0.992816</td>\n",
       "      <td>0.992816</td>\n",
       "    </tr>\n",
       "    <tr>\n",
       "      <th>3281</th>\n",
       "      <td>0.759278</td>\n",
       "      <td>0.203265</td>\n",
       "      <td>0.577012</td>\n",
       "      <td>0.014784</td>\n",
       "      <td>-0.980616</td>\n",
       "      <td>-0.992816</td>\n",
       "      <td>0.992816</td>\n",
       "    </tr>\n",
       "    <tr>\n",
       "      <th>3282</th>\n",
       "      <td>0.723791</td>\n",
       "      <td>0.143639</td>\n",
       "      <td>0.532365</td>\n",
       "      <td>0.065156</td>\n",
       "      <td>-0.402222</td>\n",
       "      <td>-0.992816</td>\n",
       "      <td>0.992816</td>\n",
       "    </tr>\n",
       "    <tr>\n",
       "      <th>3283</th>\n",
       "      <td>0.479691</td>\n",
       "      <td>0.080037</td>\n",
       "      <td>0.225651</td>\n",
       "      <td>-0.129565</td>\n",
       "      <td>-0.521121</td>\n",
       "      <td>-0.992816</td>\n",
       "      <td>0.992816</td>\n",
       "    </tr>\n",
       "  </tbody>\n",
       "</table>\n",
       "</div>"
      ],
      "text/plain": [
       "            GR  ILD_log10  DeltaPHI     PHIND        PE    marine  non_marine\n",
       "3279 -0.052375   0.223141  0.038809 -0.141294 -0.721763 -0.992816    0.992816\n",
       "3280  0.527663   0.239041  0.526174  0.025911 -1.006625 -0.992816    0.992816\n",
       "3281  0.759278   0.203265  0.577012  0.014784 -0.980616 -0.992816    0.992816\n",
       "3282  0.723791   0.143639  0.532365  0.065156 -0.402222 -0.992816    0.992816\n",
       "3283  0.479691   0.080037  0.225651 -0.129565 -0.521121 -0.992816    0.992816"
      ]
     },
     "execution_count": 74,
     "metadata": {},
     "output_type": "execute_result"
    }
   ],
   "source": [
    "X_test.head(5)"
   ]
  },
  {
   "cell_type": "code",
   "execution_count": 75,
   "id": "de2f7005",
   "metadata": {},
   "outputs": [
    {
     "data": {
      "text/html": [
       "<div>\n",
       "<style scoped>\n",
       "    .dataframe tbody tr th:only-of-type {\n",
       "        vertical-align: middle;\n",
       "    }\n",
       "\n",
       "    .dataframe tbody tr th {\n",
       "        vertical-align: top;\n",
       "    }\n",
       "\n",
       "    .dataframe thead th {\n",
       "        text-align: right;\n",
       "    }\n",
       "</style>\n",
       "<table border=\"1\" class=\"dataframe\">\n",
       "  <thead>\n",
       "    <tr style=\"text-align: right;\">\n",
       "      <th></th>\n",
       "      <th>GR</th>\n",
       "      <th>ILD_log10</th>\n",
       "      <th>DeltaPHI</th>\n",
       "      <th>PHIND</th>\n",
       "      <th>PE</th>\n",
       "      <th>marine</th>\n",
       "      <th>non_marine</th>\n",
       "    </tr>\n",
       "  </thead>\n",
       "  <tbody>\n",
       "    <tr>\n",
       "      <th>count</th>\n",
       "      <td>404.000000</td>\n",
       "      <td>404.000000</td>\n",
       "      <td>404.000000</td>\n",
       "      <td>404.000000</td>\n",
       "      <td>404.000000</td>\n",
       "      <td>404.000000</td>\n",
       "      <td>404.000000</td>\n",
       "    </tr>\n",
       "    <tr>\n",
       "      <th>mean</th>\n",
       "      <td>-0.046251</td>\n",
       "      <td>0.436831</td>\n",
       "      <td>-0.590752</td>\n",
       "      <td>0.134942</td>\n",
       "      <td>0.055941</td>\n",
       "      <td>0.452766</td>\n",
       "      <td>-0.452766</td>\n",
       "    </tr>\n",
       "    <tr>\n",
       "      <th>std</th>\n",
       "      <td>1.112805</td>\n",
       "      <td>0.959453</td>\n",
       "      <td>0.685595</td>\n",
       "      <td>1.590764</td>\n",
       "      <td>1.353359</td>\n",
       "      <td>0.896393</td>\n",
       "      <td>0.896393</td>\n",
       "    </tr>\n",
       "    <tr>\n",
       "      <th>min</th>\n",
       "      <td>-1.689201</td>\n",
       "      <td>-2.181787</td>\n",
       "      <td>-4.978920</td>\n",
       "      <td>-1.622977</td>\n",
       "      <td>-2.823548</td>\n",
       "      <td>-0.992816</td>\n",
       "      <td>-1.007236</td>\n",
       "    </tr>\n",
       "    <tr>\n",
       "      <th>25%</th>\n",
       "      <td>-0.790968</td>\n",
       "      <td>-0.055115</td>\n",
       "      <td>-0.813800</td>\n",
       "      <td>-0.906532</td>\n",
       "      <td>-0.809699</td>\n",
       "      <td>-0.992816</td>\n",
       "      <td>-1.007236</td>\n",
       "    </tr>\n",
       "    <tr>\n",
       "      <th>50%</th>\n",
       "      <td>-0.195824</td>\n",
       "      <td>0.501397</td>\n",
       "      <td>-0.522375</td>\n",
       "      <td>-0.367666</td>\n",
       "      <td>-0.005893</td>\n",
       "      <td>1.007236</td>\n",
       "      <td>-1.007236</td>\n",
       "    </tr>\n",
       "    <tr>\n",
       "      <th>75%</th>\n",
       "      <td>0.308584</td>\n",
       "      <td>1.134429</td>\n",
       "      <td>-0.214113</td>\n",
       "      <td>0.506586</td>\n",
       "      <td>0.960160</td>\n",
       "      <td>1.007236</td>\n",
       "      <td>0.992816</td>\n",
       "    </tr>\n",
       "    <tr>\n",
       "      <th>max</th>\n",
       "      <td>5.255601</td>\n",
       "      <td>2.620118</td>\n",
       "      <td>0.598585</td>\n",
       "      <td>6.099398</td>\n",
       "      <td>5.386665</td>\n",
       "      <td>1.007236</td>\n",
       "      <td>0.992816</td>\n",
       "    </tr>\n",
       "  </tbody>\n",
       "</table>\n",
       "</div>"
      ],
      "text/plain": [
       "               GR   ILD_log10    DeltaPHI       PHIND          PE      marine  \\\n",
       "count  404.000000  404.000000  404.000000  404.000000  404.000000  404.000000   \n",
       "mean    -0.046251    0.436831   -0.590752    0.134942    0.055941    0.452766   \n",
       "std      1.112805    0.959453    0.685595    1.590764    1.353359    0.896393   \n",
       "min     -1.689201   -2.181787   -4.978920   -1.622977   -2.823548   -0.992816   \n",
       "25%     -0.790968   -0.055115   -0.813800   -0.906532   -0.809699   -0.992816   \n",
       "50%     -0.195824    0.501397   -0.522375   -0.367666   -0.005893    1.007236   \n",
       "75%      0.308584    1.134429   -0.214113    0.506586    0.960160    1.007236   \n",
       "max      5.255601    2.620118    0.598585    6.099398    5.386665    1.007236   \n",
       "\n",
       "       non_marine  \n",
       "count  404.000000  \n",
       "mean    -0.452766  \n",
       "std      0.896393  \n",
       "min     -1.007236  \n",
       "25%     -1.007236  \n",
       "50%     -1.007236  \n",
       "75%      0.992816  \n",
       "max      0.992816  "
      ]
     },
     "execution_count": 75,
     "metadata": {},
     "output_type": "execute_result"
    }
   ],
   "source": [
    "X_test.describe()"
   ]
  },
  {
   "cell_type": "code",
   "execution_count": 76,
   "id": "132cbb25",
   "metadata": {},
   "outputs": [],
   "source": [
    "y_test_numerical = facies_encoder(y_test)"
   ]
  },
  {
   "cell_type": "code",
   "execution_count": 77,
   "id": "a6c7b56b",
   "metadata": {},
   "outputs": [
    {
     "data": {
      "text/plain": [
       "3279    2\n",
       "3280    2\n",
       "3281    2\n",
       "3282    2\n",
       "3283    2\n",
       "Name: Facies, dtype: int64"
      ]
     },
     "execution_count": 77,
     "metadata": {},
     "output_type": "execute_result"
    }
   ],
   "source": [
    "y_test_numerical.head(5)"
   ]
  },
  {
   "cell_type": "code",
   "execution_count": 78,
   "id": "5f1915cd",
   "metadata": {},
   "outputs": [],
   "source": [
    "def create_test_data (X_data:pd.DataFrame, y_data:pd.DataFrame) -> dict:\n",
    "    test_data = {'X_test':X_data, 'y_test':y_data}\n",
    "    return test_data"
   ]
  },
  {
   "cell_type": "code",
   "execution_count": 79,
   "id": "2fedea17",
   "metadata": {
    "scrolled": true
   },
   "outputs": [],
   "source": [
    "test_data = create_test_data(X_data=X_test,\n",
    "                            y_data=y_test_numerical)"
   ]
  },
  {
   "cell_type": "markdown",
   "id": "59bf815f",
   "metadata": {},
   "source": [
    "---\n",
    "## D. Modeling"
   ]
  },
  {
   "cell_type": "markdown",
   "id": "6ccb80c1",
   "metadata": {},
   "source": [
    "### D.1. Baseline Model"
   ]
  },
  {
   "cell_type": "code",
   "execution_count": 80,
   "id": "304a311a",
   "metadata": {},
   "outputs": [],
   "source": [
    "dummy_clf = DummyClassifier(strategy=\"most_frequent\")\n",
    "dummy_clf.fit(X=train_data[\"X_train\"][\"unbalance\"],\n",
    "              y=train_data[\"y_train\"][\"unbalance\"])\n",
    "y_pred_dummy = dummy_clf.predict(train_data[\"X_train\"][\"unbalance\"])"
   ]
  },
  {
   "cell_type": "code",
   "execution_count": 81,
   "id": "c8907d45",
   "metadata": {},
   "outputs": [
    {
     "name": "stdout",
     "output_type": "stream",
     "text": [
      "     Pred    SS  CSiS  FSiS  SiSh    MS    WS     D    PS    BS Total\n",
      "     True\n",
      "       SS     0   260     0     0     0     0     0     0     0   260\n",
      "     CSiS     0   884     0     0     0     0     0     0     0   884\n",
      "     FSiS     0   729     0     0     0     0     0     0     0   729\n",
      "     SiSh     0   258     0     0     0     0     0     0     0   258\n",
      "       MS     0   266     0     0     0     0     0     0     0   266\n",
      "       WS     0   495     0     0     0     0     0     0     0   495\n",
      "        D     0   107     0     0     0     0     0     0     0   107\n",
      "       PS     0   611     0     0     0     0     0     0     0   611\n",
      "       BS     0   135     0     0     0     0     0     0     0   135\n",
      "\n",
      "Precision  0.00  0.24  0.00  0.00  0.00  0.00  0.00  0.00  0.00  0.06\n",
      "   Recall  0.00  1.00  0.00  0.00  0.00  0.00  0.00  0.00  0.00  0.24\n",
      "       F1  0.00  0.38  0.00  0.00  0.00  0.00  0.00  0.00  0.00  0.09\n",
      "Facies classification accuracy = 0.24\n",
      "---------------------------------------------------------------------\n",
      "     Pred    SS  CSiS  FSiS  SiSh    MS    WS     D    PS    BS Total\n",
      "     True\n",
      "       SS   260     0     0     0     0     0     0     0     0   260\n",
      "     CSiS     0   884     0     0     0     0     0     0     0   884\n",
      "     FSiS     0     0   729     0     0     0     0     0     0   729\n",
      "     SiSh     0   258     0     0     0     0     0     0     0   258\n",
      "       MS     0   266     0     0     0     0     0     0     0   266\n",
      "       WS     0   495     0     0     0     0     0     0     0   495\n",
      "        D     0   107     0     0     0     0     0     0     0   107\n",
      "       PS     0   611     0     0     0     0     0     0     0   611\n",
      "       BS     0   135     0     0     0     0     0     0     0   135\n",
      "Adjacent facies classification accuracy = 0.50\n"
     ]
    }
   ],
   "source": [
    "dummy_conf_matrix = confusion_matrix(y_true=train_data[\"y_train\"][\"unbalance\"], \n",
    "                                     y_pred=y_pred_dummy)\n",
    "display_cm(dummy_conf_matrix, hide_zeros=False, display_metrics=True)\n",
    "print('Facies classification accuracy = %.2f' % accuracy(dummy_conf_matrix))\n",
    "print(\"---------------------------------------------------------------------\")\n",
    "display_adj_cm(cm=dummy_conf_matrix)\n",
    "print('Adjacent facies classification accuracy = %.2f' % accuracy_adjacent(dummy_conf_matrix))"
   ]
  },
  {
   "cell_type": "markdown",
   "id": "86afa284",
   "metadata": {},
   "source": [
    "From this dummy classifier model, we know that we need to make machine learning model with accuracy for more than 24% and adjacent accuracy for more than 50% for facies classification"
   ]
  },
  {
   "cell_type": "markdown",
   "id": "b6da0156",
   "metadata": {},
   "source": [
    "### D.2. Create Model Object"
   ]
  },
  {
   "cell_type": "code",
   "execution_count": 82,
   "id": "617917c1",
   "metadata": {},
   "outputs": [],
   "source": [
    "knn = KNeighborsClassifier()       # create object k-nearest neighbors classifier\n",
    "dct = DecisionTreeClassifier()     # create object decision tree classifier\n",
    "bagt = BaggingClassifier()         # create object bagging tree classifier\n",
    "logreg = LogisticRegression()      # create object logistic regression\n",
    "svm = SVC()                        # create object support vector machine\n",
    "rfc = RandomForestClassifier()     # create object random forest classifier\n",
    "xgb = XGBClassifier()              # create object extreme gradient boosting classifier"
   ]
  },
  {
   "cell_type": "code",
   "execution_count": 83,
   "id": "118d3b30",
   "metadata": {},
   "outputs": [],
   "source": [
    "def model_hyperparameter(model_name:str) -> dict:\n",
    "    knn_hyper_parameter = {\n",
    "        \"algorithm\" : [\"ball_tree\", \"kd_tree\", \"brute\"],\n",
    "        \"n_neighbors\" : [2, 5, 10, 25],\n",
    "        \"leaf_size\" : [2, 5, 10, 25],\n",
    "    }\n",
    "    dct_hyper_parameter = {\n",
    "        \"criterion\" : [\"gini\", \"entropy\", \"log_loss\"],\n",
    "        \"max_depth\" : [1,5,10],\n",
    "        \"min_samples_split\" : [2, 5, 10],\n",
    "        \"min_samples_leaf\" : [1, 2, 4]\n",
    "    }\n",
    "    bagging_tree_hyper_parameter = {\n",
    "        \"n_estimators\" : [5,10,20,100]\n",
    "    }\n",
    "    logreg_hyper_parameter = {\n",
    "        \"penalty\" : [\"l2\",\"l1\",\"elasticnet\"],\n",
    "        \"C\" : [0.01, 0.05, 0.1, 0.5, 1, 5, 10],\n",
    "        \"max_iter\" : np.arange(100,210,10)    \n",
    "    }\n",
    "    svm_hyper_parameter = {\n",
    "        \"C\" : [0.001, 0.05, 0.1, 1, 5, 10, 25, 50],\n",
    "        \"kernel\" : [\"linear\",\"rbf\"]\n",
    "    }\n",
    "    rfc_hyper_parameter = {\n",
    "        \"criterion\" : [\"gini\", \"entropy\", \"log_loss\"],\n",
    "        \"n_estimators\" : [1,5,10],\n",
    "        \"min_samples_split\" : [2, 5, 10],\n",
    "        \"min_samples_leaf\" : [1, 2, 4]\n",
    "    }\n",
    "    xgb_hyper_parameter = {\n",
    "        \"n_estimators\" : [1,5,10,25,50,100]\n",
    "    }\n",
    "        \n",
    "    list_of_hyper_parameter = {\n",
    "        \"KNeighborsClassifier\" : knn_hyper_parameter,\n",
    "        \"DecisionTreeClassifier\" : dct_hyper_parameter,\n",
    "        \"BaggingClassifier\" : bagging_tree_hyper_parameter,\n",
    "        \"LogisticRegression\" : logreg_hyper_parameter,\n",
    "        \"SVC\" : svm_hyper_parameter,\n",
    "        \"RandomForestClassifier\" : rfc_hyper_parameter,\n",
    "        \"XGBClassifier\" : xgb_hyper_parameter\n",
    "    }\n",
    "    \n",
    "    return list_of_hyper_parameter[model_name]"
   ]
  },
  {
   "cell_type": "markdown",
   "id": "cf7b79ab",
   "metadata": {},
   "source": [
    "### D.3. K-Nearest-Neighbor Modeling"
   ]
  },
  {
   "cell_type": "code",
   "execution_count": 84,
   "id": "786c7845",
   "metadata": {},
   "outputs": [],
   "source": [
    "def k_neighbors_modeling(train_data:dict,\n",
    "                                test_data:dict,\n",
    "                                estimator:KNeighborsClassifier,\n",
    "                                hyper_parameter:dict) -> dict:\n",
    "    knn_summary={}\n",
    "    knn_highest_accuracy=0     # container for highest value of accuracy \n",
    "    for data_type in [\"unbalance\",\"rus\",\"ros\",\"smote\"]:\n",
    "        # Experiment by GridSearch CV\n",
    "        knn_cv = GridSearchCV(estimator=estimator, param_grid=hyper_parameter, cv=10)\n",
    "        knn_cv.fit(X = train_data[\"X_train\"][data_type].values, y=train_data[\"y_train\"][data_type])\n",
    "        \n",
    "        # Create the model with best params\n",
    "        knn_model = KNeighborsClassifier(algorithm = knn_cv.best_params_['algorithm'],\n",
    "                                              n_neighbors = knn_cv.best_params_['n_neighbors'],\n",
    "                                              leaf_size = knn_cv.best_params_['leaf_size'])\n",
    "        \n",
    "        # Fit best model to train data\n",
    "        knn_model.fit(X=train_data[\"X_train\"][data_type].values,\n",
    "                      y=train_data[\"y_train\"][data_type])\n",
    "        \n",
    "        # Predict output using train data\n",
    "        y_train_pred  = knn_model.predict(train_data[\"X_train\"][data_type].values)\n",
    "        \n",
    "        # create confusion matrix for training data\n",
    "        conf_train = confusion_matrix(y_true=train_data[\"y_train\"][data_type],\n",
    "                                      y_pred=y_train_pred)\n",
    "        \n",
    "        # Predict output using test data\n",
    "        y_test_pred = knn_model.predict(test_data['X_test'].values)\n",
    "        \n",
    "        \n",
    "        # create confusion matrix for testing data\n",
    "        conf_test = confusion_matrix(y_true=test_data['y_test'], \n",
    "                                     y_pred=y_test_pred)\n",
    "        \n",
    "        # summarize the modeling\n",
    "        knn_summary[data_type] = {\"model\":knn_model, \n",
    "                                 \"cv_score\":knn_cv.best_score_,\n",
    "                                 \"acc_train\":accuracy(conf_train), \n",
    "                                 \"adj_acc_train\":accuracy_adjacent(conf_train),\n",
    "                                 \"acc_test\": accuracy(conf_test),\n",
    "                                 \"adj_acc_test\":accuracy_adjacent(conf_test)}\n",
    "        \n",
    "        # get the best model from accuracy value\n",
    "        if knn_summary[data_type][\"acc_test\"] > knn_highest_accuracy:\n",
    "            knn_highest_accuracy = knn_summary[data_type][\"acc_test\"]     # pass the accuracy value into a variable\n",
    "            knn_best_model = knn_summary[data_type]['model']\n",
    "            knn_best_data = data_type\n",
    "            knn_best_score = {\"cv_score\" : knn_summary[data_type][\"cv_score\"],\n",
    "                              \"acc_test\" : knn_summary[data_type][\"acc_test\"],\n",
    "                              \"adj_acc_test\" : knn_summary[data_type][\"adj_acc_test\"]}\n",
    "            \n",
    "    return knn_summary, knn_best_model, knn_best_data, knn_best_score"
   ]
  },
  {
   "cell_type": "code",
   "execution_count": 85,
   "id": "15a572a5",
   "metadata": {
    "scrolled": true
   },
   "outputs": [],
   "source": [
    "knn_summary, knn_model, knn_data, knn_score = k_neighbors_modeling(train_data=train_data, test_data=test_data, estimator=knn, hyper_parameter=model_hyperparameter('KNeighborsClassifier'))"
   ]
  },
  {
   "cell_type": "code",
   "execution_count": 194,
   "id": "ece96e53",
   "metadata": {},
   "outputs": [
    {
     "data": {
      "text/html": [
       "<style>#sk-container-id-13 {color: black;background-color: white;}#sk-container-id-13 pre{padding: 0;}#sk-container-id-13 div.sk-toggleable {background-color: white;}#sk-container-id-13 label.sk-toggleable__label {cursor: pointer;display: block;width: 100%;margin-bottom: 0;padding: 0.3em;box-sizing: border-box;text-align: center;}#sk-container-id-13 label.sk-toggleable__label-arrow:before {content: \"▸\";float: left;margin-right: 0.25em;color: #696969;}#sk-container-id-13 label.sk-toggleable__label-arrow:hover:before {color: black;}#sk-container-id-13 div.sk-estimator:hover label.sk-toggleable__label-arrow:before {color: black;}#sk-container-id-13 div.sk-toggleable__content {max-height: 0;max-width: 0;overflow: hidden;text-align: left;background-color: #f0f8ff;}#sk-container-id-13 div.sk-toggleable__content pre {margin: 0.2em;color: black;border-radius: 0.25em;background-color: #f0f8ff;}#sk-container-id-13 input.sk-toggleable__control:checked~div.sk-toggleable__content {max-height: 200px;max-width: 100%;overflow: auto;}#sk-container-id-13 input.sk-toggleable__control:checked~label.sk-toggleable__label-arrow:before {content: \"▾\";}#sk-container-id-13 div.sk-estimator input.sk-toggleable__control:checked~label.sk-toggleable__label {background-color: #d4ebff;}#sk-container-id-13 div.sk-label input.sk-toggleable__control:checked~label.sk-toggleable__label {background-color: #d4ebff;}#sk-container-id-13 input.sk-hidden--visually {border: 0;clip: rect(1px 1px 1px 1px);clip: rect(1px, 1px, 1px, 1px);height: 1px;margin: -1px;overflow: hidden;padding: 0;position: absolute;width: 1px;}#sk-container-id-13 div.sk-estimator {font-family: monospace;background-color: #f0f8ff;border: 1px dotted black;border-radius: 0.25em;box-sizing: border-box;margin-bottom: 0.5em;}#sk-container-id-13 div.sk-estimator:hover {background-color: #d4ebff;}#sk-container-id-13 div.sk-parallel-item::after {content: \"\";width: 100%;border-bottom: 1px solid gray;flex-grow: 1;}#sk-container-id-13 div.sk-label:hover label.sk-toggleable__label {background-color: #d4ebff;}#sk-container-id-13 div.sk-serial::before {content: \"\";position: absolute;border-left: 1px solid gray;box-sizing: border-box;top: 0;bottom: 0;left: 50%;z-index: 0;}#sk-container-id-13 div.sk-serial {display: flex;flex-direction: column;align-items: center;background-color: white;padding-right: 0.2em;padding-left: 0.2em;position: relative;}#sk-container-id-13 div.sk-item {position: relative;z-index: 1;}#sk-container-id-13 div.sk-parallel {display: flex;align-items: stretch;justify-content: center;background-color: white;position: relative;}#sk-container-id-13 div.sk-item::before, #sk-container-id-13 div.sk-parallel-item::before {content: \"\";position: absolute;border-left: 1px solid gray;box-sizing: border-box;top: 0;bottom: 0;left: 50%;z-index: -1;}#sk-container-id-13 div.sk-parallel-item {display: flex;flex-direction: column;z-index: 1;position: relative;background-color: white;}#sk-container-id-13 div.sk-parallel-item:first-child::after {align-self: flex-end;width: 50%;}#sk-container-id-13 div.sk-parallel-item:last-child::after {align-self: flex-start;width: 50%;}#sk-container-id-13 div.sk-parallel-item:only-child::after {width: 0;}#sk-container-id-13 div.sk-dashed-wrapped {border: 1px dashed gray;margin: 0 0.4em 0.5em 0.4em;box-sizing: border-box;padding-bottom: 0.4em;background-color: white;}#sk-container-id-13 div.sk-label label {font-family: monospace;font-weight: bold;display: inline-block;line-height: 1.2em;}#sk-container-id-13 div.sk-label-container {text-align: center;}#sk-container-id-13 div.sk-container {/* jupyter's `normalize.less` sets `[hidden] { display: none; }` but bootstrap.min.css set `[hidden] { display: none !important; }` so we also need the `!important` here to be able to override the default hidden behavior on the sphinx rendered scikit-learn.org. See: https://github.com/scikit-learn/scikit-learn/issues/21755 */display: inline-block !important;position: relative;}#sk-container-id-13 div.sk-text-repr-fallback {display: none;}</style><div id=\"sk-container-id-13\" class=\"sk-top-container\"><div class=\"sk-text-repr-fallback\"><pre>KNeighborsClassifier(algorithm=&#x27;ball_tree&#x27;, leaf_size=2, n_neighbors=25)</pre><b>In a Jupyter environment, please rerun this cell to show the HTML representation or trust the notebook. <br />On GitHub, the HTML representation is unable to render, please try loading this page with nbviewer.org.</b></div><div class=\"sk-container\" hidden><div class=\"sk-item\"><div class=\"sk-estimator sk-toggleable\"><input class=\"sk-toggleable__control sk-hidden--visually\" id=\"sk-estimator-id-17\" type=\"checkbox\" checked><label for=\"sk-estimator-id-17\" class=\"sk-toggleable__label sk-toggleable__label-arrow\">KNeighborsClassifier</label><div class=\"sk-toggleable__content\"><pre>KNeighborsClassifier(algorithm=&#x27;ball_tree&#x27;, leaf_size=2, n_neighbors=25)</pre></div></div></div></div></div>"
      ],
      "text/plain": [
       "KNeighborsClassifier(algorithm='ball_tree', leaf_size=2, n_neighbors=25)"
      ]
     },
     "execution_count": 194,
     "metadata": {},
     "output_type": "execute_result"
    }
   ],
   "source": [
    "joblib.dump(value=knn_model, filename='pickle_data/knn_model.pkl')\n",
    "knn_model"
   ]
  },
  {
   "cell_type": "code",
   "execution_count": 125,
   "id": "03d23673",
   "metadata": {},
   "outputs": [
    {
     "data": {
      "image/png": "[encoded data removed]",
      "text/plain": [
       "<Figure size 504x504 with 1 Axes>"
      ]
     },
     "metadata": {},
     "output_type": "display_data"
    }
   ],
   "source": [
    "knn_score['roc_auc_micro'], knn_score ['roc_auc_macro'] = roc_auc_model_plot(model=knn_model, data_type=knn_data, model_name=\"K-Nearest Neighbor\")"
   ]
  },
  {
   "cell_type": "code",
   "execution_count": 399,
   "id": "dd210cb3",
   "metadata": {},
   "outputs": [
    {
     "data": {
      "text/plain": [
       "{'cv_score': 0.4913654188948307,\n",
       " 'acc_test': 0.4752475247524752,\n",
       " 'adj_acc_test': 0.8118811881188119,\n",
       " 'roc_auc_micro': 0.8691040553622192,\n",
       " 'roc_auc_macro': 0.8557756063400587}"
      ]
     },
     "execution_count": 399,
     "metadata": {},
     "output_type": "execute_result"
    }
   ],
   "source": [
    "knn_score"
   ]
  },
  {
   "cell_type": "markdown",
   "id": "4d37e609",
   "metadata": {},
   "source": [
    "### D.4. Decision Tree Classification Modeling"
   ]
  },
  {
   "cell_type": "code",
   "execution_count": 89,
   "id": "b9be2bcd",
   "metadata": {},
   "outputs": [],
   "source": [
    "def decision_tree_modeling(train_data:dict,\n",
    "                           test_data:dict,\n",
    "                           estimator:DecisionTreeClassifier,\n",
    "                           hyper_parameter:dict) -> dict:\n",
    "    dct_summary={}\n",
    "    dct_highest_accuracy=0     # container for highest value of accuracy \n",
    "    for data_type in [\"unbalance\",\"rus\",\"ros\",\"smote\"]:\n",
    "        # Experiment by GridSearch CV\n",
    "        decition_tree_cv = GridSearchCV(estimator=estimator, param_grid=hyper_parameter, cv=10)\n",
    "        decition_tree_cv.fit(X = train_data[\"X_train\"][data_type].values, y=train_data[\"y_train\"][data_type])\n",
    "        \n",
    "        # Create the model with best params\n",
    "        dct_model = DecisionTreeClassifier(criterion = decition_tree_cv.best_params_['criterion'],\n",
    "                                      max_depth = decition_tree_cv.best_params_['max_depth'],\n",
    "                                      min_samples_leaf = decition_tree_cv.best_params_['min_samples_leaf'],\n",
    "                                      min_samples_split = decition_tree_cv.best_params_['min_samples_split'])\n",
    "        \n",
    "        # Fit best model to train data\n",
    "        dct_model.fit(X=train_data[\"X_train\"][data_type].values,\n",
    "                           y=train_data[\"y_train\"][data_type])\n",
    "        \n",
    "        # Predict output using train data\n",
    "        y_train_pred  = dct_model.predict(train_data[\"X_train\"][data_type].values)\n",
    "        \n",
    "        # create confusion matrix for training data\n",
    "        conf_train = confusion_matrix(y_true=train_data[\"y_train\"][data_type],\n",
    "                                      y_pred=y_train_pred)\n",
    "        \n",
    "        # Predict output using test data\n",
    "        y_test_pred = dct_model.predict(test_data['X_test'].values)\n",
    "        \n",
    "        \n",
    "        # create confusion matrix for testing data\n",
    "        conf_test = confusion_matrix(y_true=test_data['y_test'], \n",
    "                                     y_pred=y_test_pred)\n",
    "        \n",
    "        # summarize the modeling\n",
    "        dct_summary[data_type] = {\"model\":dct_model, \n",
    "                                 \"cv_score\":decition_tree_cv.best_score_,\n",
    "                                 \"acc_train\":accuracy(conf_train), \n",
    "                                 \"adj_acc_train\":accuracy_adjacent(conf_train),\n",
    "                                 \"acc_test\": accuracy(conf_test),\n",
    "                                 \"adj_acc_test\":accuracy_adjacent(conf_test)}\n",
    "        \n",
    "        # get the best model from accuracy value\n",
    "        if dct_summary[data_type][\"acc_test\"] > dct_highest_accuracy:\n",
    "            dct_highest_accuracy = dct_summary[data_type][\"acc_test\"]     # pass the accuracy value into a variable\n",
    "            dct_best_model = dct_summary[data_type]['model']\n",
    "            dct_best_data = data_type\n",
    "            dct_best_score = {\"cv_score\" : dct_summary[data_type][\"cv_score\"],\n",
    "                            \"acc_test\" : dct_summary[data_type][\"acc_test\"],\n",
    "                           \"adj_acc_test\" : dct_summary[data_type][\"adj_acc_test\"]}\n",
    "            \n",
    "    return dct_summary, dct_best_model, dct_best_data, dct_best_score"
   ]
  },
  {
   "cell_type": "code",
   "execution_count": 90,
   "id": "cb24449b",
   "metadata": {
    "scrolled": true
   },
   "outputs": [],
   "source": [
    "dct_summary, dct_model, dct_data, dct_score = decision_tree_modeling(train_data=train_data,\n",
    "                                                                   test_data=test_data,\n",
    "                                                                   estimator=dct,\n",
    "                                                                   hyper_parameter=model_hyperparameter(\"DecisionTreeClassifier\"))"
   ]
  },
  {
   "cell_type": "code",
   "execution_count": 193,
   "id": "1a8402b9",
   "metadata": {
    "scrolled": false
   },
   "outputs": [
    {
     "data": {
      "text/html": [
       "<style>#sk-container-id-12 {color: black;background-color: white;}#sk-container-id-12 pre{padding: 0;}#sk-container-id-12 div.sk-toggleable {background-color: white;}#sk-container-id-12 label.sk-toggleable__label {cursor: pointer;display: block;width: 100%;margin-bottom: 0;padding: 0.3em;box-sizing: border-box;text-align: center;}#sk-container-id-12 label.sk-toggleable__label-arrow:before {content: \"▸\";float: left;margin-right: 0.25em;color: #696969;}#sk-container-id-12 label.sk-toggleable__label-arrow:hover:before {color: black;}#sk-container-id-12 div.sk-estimator:hover label.sk-toggleable__label-arrow:before {color: black;}#sk-container-id-12 div.sk-toggleable__content {max-height: 0;max-width: 0;overflow: hidden;text-align: left;background-color: #f0f8ff;}#sk-container-id-12 div.sk-toggleable__content pre {margin: 0.2em;color: black;border-radius: 0.25em;background-color: #f0f8ff;}#sk-container-id-12 input.sk-toggleable__control:checked~div.sk-toggleable__content {max-height: 200px;max-width: 100%;overflow: auto;}#sk-container-id-12 input.sk-toggleable__control:checked~label.sk-toggleable__label-arrow:before {content: \"▾\";}#sk-container-id-12 div.sk-estimator input.sk-toggleable__control:checked~label.sk-toggleable__label {background-color: #d4ebff;}#sk-container-id-12 div.sk-label input.sk-toggleable__control:checked~label.sk-toggleable__label {background-color: #d4ebff;}#sk-container-id-12 input.sk-hidden--visually {border: 0;clip: rect(1px 1px 1px 1px);clip: rect(1px, 1px, 1px, 1px);height: 1px;margin: -1px;overflow: hidden;padding: 0;position: absolute;width: 1px;}#sk-container-id-12 div.sk-estimator {font-family: monospace;background-color: #f0f8ff;border: 1px dotted black;border-radius: 0.25em;box-sizing: border-box;margin-bottom: 0.5em;}#sk-container-id-12 div.sk-estimator:hover {background-color: #d4ebff;}#sk-container-id-12 div.sk-parallel-item::after {content: \"\";width: 100%;border-bottom: 1px solid gray;flex-grow: 1;}#sk-container-id-12 div.sk-label:hover label.sk-toggleable__label {background-color: #d4ebff;}#sk-container-id-12 div.sk-serial::before {content: \"\";position: absolute;border-left: 1px solid gray;box-sizing: border-box;top: 0;bottom: 0;left: 50%;z-index: 0;}#sk-container-id-12 div.sk-serial {display: flex;flex-direction: column;align-items: center;background-color: white;padding-right: 0.2em;padding-left: 0.2em;position: relative;}#sk-container-id-12 div.sk-item {position: relative;z-index: 1;}#sk-container-id-12 div.sk-parallel {display: flex;align-items: stretch;justify-content: center;background-color: white;position: relative;}#sk-container-id-12 div.sk-item::before, #sk-container-id-12 div.sk-parallel-item::before {content: \"\";position: absolute;border-left: 1px solid gray;box-sizing: border-box;top: 0;bottom: 0;left: 50%;z-index: -1;}#sk-container-id-12 div.sk-parallel-item {display: flex;flex-direction: column;z-index: 1;position: relative;background-color: white;}#sk-container-id-12 div.sk-parallel-item:first-child::after {align-self: flex-end;width: 50%;}#sk-container-id-12 div.sk-parallel-item:last-child::after {align-self: flex-start;width: 50%;}#sk-container-id-12 div.sk-parallel-item:only-child::after {width: 0;}#sk-container-id-12 div.sk-dashed-wrapped {border: 1px dashed gray;margin: 0 0.4em 0.5em 0.4em;box-sizing: border-box;padding-bottom: 0.4em;background-color: white;}#sk-container-id-12 div.sk-label label {font-family: monospace;font-weight: bold;display: inline-block;line-height: 1.2em;}#sk-container-id-12 div.sk-label-container {text-align: center;}#sk-container-id-12 div.sk-container {/* jupyter's `normalize.less` sets `[hidden] { display: none; }` but bootstrap.min.css set `[hidden] { display: none !important; }` so we also need the `!important` here to be able to override the default hidden behavior on the sphinx rendered scikit-learn.org. See: https://github.com/scikit-learn/scikit-learn/issues/21755 */display: inline-block !important;position: relative;}#sk-container-id-12 div.sk-text-repr-fallback {display: none;}</style><div id=\"sk-container-id-12\" class=\"sk-top-container\"><div class=\"sk-text-repr-fallback\"><pre>DecisionTreeClassifier(max_depth=5, min_samples_leaf=4, min_samples_split=10)</pre><b>In a Jupyter environment, please rerun this cell to show the HTML representation or trust the notebook. <br />On GitHub, the HTML representation is unable to render, please try loading this page with nbviewer.org.</b></div><div class=\"sk-container\" hidden><div class=\"sk-item\"><div class=\"sk-estimator sk-toggleable\"><input class=\"sk-toggleable__control sk-hidden--visually\" id=\"sk-estimator-id-16\" type=\"checkbox\" checked><label for=\"sk-estimator-id-16\" class=\"sk-toggleable__label sk-toggleable__label-arrow\">DecisionTreeClassifier</label><div class=\"sk-toggleable__content\"><pre>DecisionTreeClassifier(max_depth=5, min_samples_leaf=4, min_samples_split=10)</pre></div></div></div></div></div>"
      ],
      "text/plain": [
       "DecisionTreeClassifier(max_depth=5, min_samples_leaf=4, min_samples_split=10)"
      ]
     },
     "execution_count": 193,
     "metadata": {},
     "output_type": "execute_result"
    }
   ],
   "source": [
    "joblib.dump(value=dct_model, filename='pickle_data/dct_model.pkl')\n",
    "dct_model"
   ]
  },
  {
   "cell_type": "code",
   "execution_count": 127,
   "id": "17509ea2",
   "metadata": {},
   "outputs": [
    {
     "data": {
      "image/png": "[encoded data removed]",
      "text/plain": [
       "<Figure size 504x504 with 1 Axes>"
      ]
     },
     "metadata": {},
     "output_type": "display_data"
    }
   ],
   "source": [
    "dct_score['roc_auc_micro'], dct_score ['roc_auc_macro'] = roc_auc_model_plot(model=dct_model, data_type=dct_data, model_name=\"Decision Tree Classifier\")"
   ]
  },
  {
   "cell_type": "code",
   "execution_count": 400,
   "id": "3a2959aa",
   "metadata": {},
   "outputs": [
    {
     "data": {
      "text/plain": [
       "{'cv_score': 0.5367871657754011,\n",
       " 'acc_test': 0.46534653465346537,\n",
       " 'adj_acc_test': 0.801980198019802,\n",
       " 'roc_auc_micro': 0.8454643693020292,\n",
       " 'roc_auc_macro': 0.8188730390841004}"
      ]
     },
     "execution_count": 400,
     "metadata": {},
     "output_type": "execute_result"
    }
   ],
   "source": [
    "dct_score"
   ]
  },
  {
   "cell_type": "markdown",
   "id": "4cf2a909",
   "metadata": {},
   "source": [
    "### D.5. Bagging Classifier Modeling"
   ]
  },
  {
   "cell_type": "code",
   "execution_count": 94,
   "id": "3255fa35",
   "metadata": {},
   "outputs": [],
   "source": [
    "def bagging_tree_modeling(train_data:dict,\n",
    "                          test_data:dict,\n",
    "                          estimator:dict,\n",
    "                          hyper_parameter:dict) -> dict:\n",
    "    bagging_summary={}\n",
    "    bagging_highest_accuracy=0\n",
    "    for data_type in [\"unbalance\",\"rus\",\"ros\",\"smote\"]:\n",
    "        # Experiment by GridSearch CV\n",
    "        bagging_tree = BaggingClassifier(base_estimator = estimator[data_type]['model'])\n",
    "        bagging_tree_cv = GridSearchCV(estimator = bagging_tree,param_grid = hyper_parameter,cv=10)\n",
    "        bagging_tree_cv.fit(X = train_data[\"X_train\"][data_type].values,\n",
    "                            y=train_data[\"y_train\"][data_type])\n",
    "        \n",
    "        # Create the model with best params\n",
    "        bagging_tree_model = BaggingClassifier(base_estimator = estimator[data_type]['model'],\n",
    "                                                     n_estimators = bagging_tree_cv.best_params_['n_estimators'])\n",
    "        # Fit best model to train data\n",
    "        bagging_tree_model.fit(X=train_data[\"X_train\"][data_type].values,\n",
    "                                    y=train_data[\"y_train\"][data_type])\n",
    "        \n",
    "        # Predict output using train data\n",
    "        y_train_pred  = bagging_tree_model.predict(train_data[\"X_train\"][data_type].values)\n",
    "        \n",
    "        # create confusion matrix for training data\n",
    "        conf_train = confusion_matrix(y_true=train_data[\"y_train\"][data_type],\n",
    "                                      y_pred=y_train_pred)\n",
    "        \n",
    "        # Predict output using test data\n",
    "        y_test_pred = bagging_tree_model.predict(test_data['X_test'].values)\n",
    "        \n",
    "        \n",
    "        # create confusion matrix for testing data\n",
    "        conf_test = confusion_matrix(y_true=test_data['y_test'], \n",
    "                                     y_pred=y_test_pred)\n",
    "        \n",
    "        # summarize the modeling\n",
    "        bagging_summary[data_type] = {\"model\":bagging_tree_model, \n",
    "                                           \"cv_score\":bagging_tree_cv.best_score_,\n",
    "                                           \"acc_train\":accuracy(conf_train), \n",
    "                                           \"adj_acc_train\":accuracy_adjacent(conf_train),\n",
    "                                           \"acc_test\": accuracy(conf_test),\n",
    "                                           \"adj_acc_test\":accuracy_adjacent(conf_test)}\n",
    "        \n",
    "        # get the best model from accuracy value\n",
    "        if bagging_summary[data_type][\"acc_test\"] > bagging_highest_accuracy:\n",
    "            bagging_highest_accuracy = bagging_summary[data_type][\"acc_test\"]     # pass the accuracy value into a variable\n",
    "            bagging_best_model = bagging_summary[data_type]['model']\n",
    "            bagging_best_data = data_type\n",
    "            bagging_best_score = {\"cv_score\" : bagging_summary[data_type][\"cv_score\"],\n",
    "                                  \"acc_test\" : bagging_summary[data_type][\"acc_test\"],\n",
    "                                  \"adj_acc_test\" : bagging_summary[data_type][\"adj_acc_test\"]}\n",
    "            \n",
    "    return bagging_summary, bagging_best_model, bagging_best_data, bagging_best_score"
   ]
  },
  {
   "cell_type": "code",
   "execution_count": 95,
   "id": "e4cceb54",
   "metadata": {},
   "outputs": [],
   "source": [
    "bagging_summary, bagging_model, bagging_data, bagging_score = bagging_tree_modeling(train_data=train_data,\n",
    "                                                                                  test_data=test_data,\n",
    "                                                                                  estimator=dct_summary,\n",
    "                                                                                  hyper_parameter=model_hyperparameter(\"BaggingClassifier\"))"
   ]
  },
  {
   "cell_type": "code",
   "execution_count": 192,
   "id": "880ccaf7",
   "metadata": {},
   "outputs": [
    {
     "data": {
      "text/html": [
       "<style>#sk-container-id-11 {color: black;background-color: white;}#sk-container-id-11 pre{padding: 0;}#sk-container-id-11 div.sk-toggleable {background-color: white;}#sk-container-id-11 label.sk-toggleable__label {cursor: pointer;display: block;width: 100%;margin-bottom: 0;padding: 0.3em;box-sizing: border-box;text-align: center;}#sk-container-id-11 label.sk-toggleable__label-arrow:before {content: \"▸\";float: left;margin-right: 0.25em;color: #696969;}#sk-container-id-11 label.sk-toggleable__label-arrow:hover:before {color: black;}#sk-container-id-11 div.sk-estimator:hover label.sk-toggleable__label-arrow:before {color: black;}#sk-container-id-11 div.sk-toggleable__content {max-height: 0;max-width: 0;overflow: hidden;text-align: left;background-color: #f0f8ff;}#sk-container-id-11 div.sk-toggleable__content pre {margin: 0.2em;color: black;border-radius: 0.25em;background-color: #f0f8ff;}#sk-container-id-11 input.sk-toggleable__control:checked~div.sk-toggleable__content {max-height: 200px;max-width: 100%;overflow: auto;}#sk-container-id-11 input.sk-toggleable__control:checked~label.sk-toggleable__label-arrow:before {content: \"▾\";}#sk-container-id-11 div.sk-estimator input.sk-toggleable__control:checked~label.sk-toggleable__label {background-color: #d4ebff;}#sk-container-id-11 div.sk-label input.sk-toggleable__control:checked~label.sk-toggleable__label {background-color: #d4ebff;}#sk-container-id-11 input.sk-hidden--visually {border: 0;clip: rect(1px 1px 1px 1px);clip: rect(1px, 1px, 1px, 1px);height: 1px;margin: -1px;overflow: hidden;padding: 0;position: absolute;width: 1px;}#sk-container-id-11 div.sk-estimator {font-family: monospace;background-color: #f0f8ff;border: 1px dotted black;border-radius: 0.25em;box-sizing: border-box;margin-bottom: 0.5em;}#sk-container-id-11 div.sk-estimator:hover {background-color: #d4ebff;}#sk-container-id-11 div.sk-parallel-item::after {content: \"\";width: 100%;border-bottom: 1px solid gray;flex-grow: 1;}#sk-container-id-11 div.sk-label:hover label.sk-toggleable__label {background-color: #d4ebff;}#sk-container-id-11 div.sk-serial::before {content: \"\";position: absolute;border-left: 1px solid gray;box-sizing: border-box;top: 0;bottom: 0;left: 50%;z-index: 0;}#sk-container-id-11 div.sk-serial {display: flex;flex-direction: column;align-items: center;background-color: white;padding-right: 0.2em;padding-left: 0.2em;position: relative;}#sk-container-id-11 div.sk-item {position: relative;z-index: 1;}#sk-container-id-11 div.sk-parallel {display: flex;align-items: stretch;justify-content: center;background-color: white;position: relative;}#sk-container-id-11 div.sk-item::before, #sk-container-id-11 div.sk-parallel-item::before {content: \"\";position: absolute;border-left: 1px solid gray;box-sizing: border-box;top: 0;bottom: 0;left: 50%;z-index: -1;}#sk-container-id-11 div.sk-parallel-item {display: flex;flex-direction: column;z-index: 1;position: relative;background-color: white;}#sk-container-id-11 div.sk-parallel-item:first-child::after {align-self: flex-end;width: 50%;}#sk-container-id-11 div.sk-parallel-item:last-child::after {align-self: flex-start;width: 50%;}#sk-container-id-11 div.sk-parallel-item:only-child::after {width: 0;}#sk-container-id-11 div.sk-dashed-wrapped {border: 1px dashed gray;margin: 0 0.4em 0.5em 0.4em;box-sizing: border-box;padding-bottom: 0.4em;background-color: white;}#sk-container-id-11 div.sk-label label {font-family: monospace;font-weight: bold;display: inline-block;line-height: 1.2em;}#sk-container-id-11 div.sk-label-container {text-align: center;}#sk-container-id-11 div.sk-container {/* jupyter's `normalize.less` sets `[hidden] { display: none; }` but bootstrap.min.css set `[hidden] { display: none !important; }` so we also need the `!important` here to be able to override the default hidden behavior on the sphinx rendered scikit-learn.org. See: https://github.com/scikit-learn/scikit-learn/issues/21755 */display: inline-block !important;position: relative;}#sk-container-id-11 div.sk-text-repr-fallback {display: none;}</style><div id=\"sk-container-id-11\" class=\"sk-top-container\"><div class=\"sk-text-repr-fallback\"><pre>BaggingClassifier(base_estimator=DecisionTreeClassifier(max_depth=5,\n",
       "                                                        min_samples_leaf=4,\n",
       "                                                        min_samples_split=10),\n",
       "                  n_estimators=100)</pre><b>In a Jupyter environment, please rerun this cell to show the HTML representation or trust the notebook. <br />On GitHub, the HTML representation is unable to render, please try loading this page with nbviewer.org.</b></div><div class=\"sk-container\" hidden><div class=\"sk-item sk-dashed-wrapped\"><div class=\"sk-label-container\"><div class=\"sk-label sk-toggleable\"><input class=\"sk-toggleable__control sk-hidden--visually\" id=\"sk-estimator-id-13\" type=\"checkbox\" ><label for=\"sk-estimator-id-13\" class=\"sk-toggleable__label sk-toggleable__label-arrow\">BaggingClassifier</label><div class=\"sk-toggleable__content\"><pre>BaggingClassifier(base_estimator=DecisionTreeClassifier(max_depth=5,\n",
       "                                                        min_samples_leaf=4,\n",
       "                                                        min_samples_split=10),\n",
       "                  n_estimators=100)</pre></div></div></div><div class=\"sk-parallel\"><div class=\"sk-parallel-item\"><div class=\"sk-item\"><div class=\"sk-label-container\"><div class=\"sk-label sk-toggleable\"><input class=\"sk-toggleable__control sk-hidden--visually\" id=\"sk-estimator-id-14\" type=\"checkbox\" ><label for=\"sk-estimator-id-14\" class=\"sk-toggleable__label sk-toggleable__label-arrow\">base_estimator: DecisionTreeClassifier</label><div class=\"sk-toggleable__content\"><pre>DecisionTreeClassifier(max_depth=5, min_samples_leaf=4, min_samples_split=10)</pre></div></div></div><div class=\"sk-serial\"><div class=\"sk-item\"><div class=\"sk-estimator sk-toggleable\"><input class=\"sk-toggleable__control sk-hidden--visually\" id=\"sk-estimator-id-15\" type=\"checkbox\" ><label for=\"sk-estimator-id-15\" class=\"sk-toggleable__label sk-toggleable__label-arrow\">DecisionTreeClassifier</label><div class=\"sk-toggleable__content\"><pre>DecisionTreeClassifier(max_depth=5, min_samples_leaf=4, min_samples_split=10)</pre></div></div></div></div></div></div></div></div></div></div>"
      ],
      "text/plain": [
       "BaggingClassifier(base_estimator=DecisionTreeClassifier(max_depth=5,\n",
       "                                                        min_samples_leaf=4,\n",
       "                                                        min_samples_split=10),\n",
       "                  n_estimators=100)"
      ]
     },
     "execution_count": 192,
     "metadata": {},
     "output_type": "execute_result"
    }
   ],
   "source": [
    "joblib.dump(value=bagging_model, filename='pickle_data/bagging_model.pkl')\n",
    "bagging_model"
   ]
  },
  {
   "cell_type": "code",
   "execution_count": 129,
   "id": "b99af545",
   "metadata": {},
   "outputs": [
    {
     "data": {
      "image/png": "[encoded data removed]",
      "text/plain": [
       "<Figure size 504x504 with 1 Axes>"
      ]
     },
     "metadata": {},
     "output_type": "display_data"
    }
   ],
   "source": [
    "bagging_score['roc_auc_micro'], bagging_score ['roc_auc_macro'] = roc_auc_model_plot(model=bagging_model, data_type=bagging_data, model_name=\"Bagging Classifier\")"
   ]
  },
  {
   "cell_type": "code",
   "execution_count": 401,
   "id": "210cee4f",
   "metadata": {},
   "outputs": [
    {
     "data": {
      "text/plain": [
       "{'cv_score': 0.561075935828877,\n",
       " 'acc_test': 0.5099009900990099,\n",
       " 'adj_acc_test': 0.8316831683168316,\n",
       " 'roc_auc_micro': 0.884003789456916,\n",
       " 'roc_auc_macro': 0.8619980428877464}"
      ]
     },
     "execution_count": 401,
     "metadata": {},
     "output_type": "execute_result"
    }
   ],
   "source": [
    "bagging_score"
   ]
  },
  {
   "cell_type": "markdown",
   "id": "9900b6d3",
   "metadata": {},
   "source": [
    "### D.6. Logistic Regression Modeling"
   ]
  },
  {
   "cell_type": "code",
   "execution_count": 99,
   "id": "a05d98e6",
   "metadata": {},
   "outputs": [],
   "source": [
    "def logistic_regression_modeling(train_data:dict,\n",
    "                                 test_data:dict,\n",
    "                                 estimator:LogisticRegression,\n",
    "                                 hyper_parameter:dict) -> dict:\n",
    "    logreg_summary={}\n",
    "    logreg_highest_accuracy=0\n",
    "    for data_type in [\"unbalance\",\"rus\",\"ros\",\"smote\"]:\n",
    "        # Experiment by GridSearch CV\n",
    "        logreg_cv = GridSearchCV(estimator=estimator, param_grid=hyper_parameter, cv=10)\n",
    "        logreg_cv.fit(X = train_data[\"X_train\"][data_type].values, y=train_data[\"y_train\"][data_type])\n",
    "        \n",
    "        # Create the model with best params\n",
    "        logreg_model = LogisticRegression(penalty = logreg_cv.best_params_[\"penalty\"],\n",
    "                           max_iter = logreg_cv.best_params_[\"max_iter\"],\n",
    "                           C = logreg_cv.best_params_[\"C\"])\n",
    "        \n",
    "        # Fit best model to train data\n",
    "        logreg_model.fit(X=train_data[\"X_train\"][data_type].values,\n",
    "                           y=train_data[\"y_train\"][data_type])\n",
    "        \n",
    "        # Predict output using train data\n",
    "        y_train_pred  = logreg_model.predict(train_data[\"X_train\"][data_type].values)\n",
    "        \n",
    "        # create confusion matrix for training data\n",
    "        conf_train = confusion_matrix(y_true=train_data[\"y_train\"][data_type],\n",
    "                                      y_pred=y_train_pred)\n",
    "        \n",
    "        # Predict output using test data\n",
    "        y_test_pred = logreg_model.predict(test_data['X_test'].values)\n",
    "        \n",
    "        \n",
    "        # create confusion matrix for testing data\n",
    "        conf_test = confusion_matrix(y_true=test_data['y_test'], \n",
    "                                     y_pred=y_test_pred)\n",
    "        \n",
    "        # summarize the modeling\n",
    "        logreg_summary[data_type] = {\"model\":logreg_model, \n",
    "                                     \"cv_score\":logreg_cv.best_score_,\n",
    "                                     \"acc_train\":accuracy(conf_train), \n",
    "                                     \"adj_acc_train\":accuracy_adjacent(conf_train),\n",
    "                                     \"acc_test\": accuracy(conf_test),\n",
    "                                     \"adj_acc_test\":accuracy_adjacent(conf_test)}\n",
    "        \n",
    "        # get the best model from accuracy value\n",
    "        if logreg_summary[data_type][\"acc_test\"] > logreg_highest_accuracy:\n",
    "            logreg_highest_accuracy = logreg_summary[data_type][\"acc_test\"]     # pass the accuracy value into a variable\n",
    "            logreg_best_model = logreg_summary[data_type]['model']\n",
    "            logreg_best_data = data_type\n",
    "            logreg_best_score = {\"cv_score\" : logreg_summary[data_type][\"cv_score\"],\n",
    "                               \"acc_test\" : logreg_summary[data_type][\"acc_test\"],\n",
    "                               \"adj_acc_test\" : logreg_summary[data_type][\"adj_acc_test\"]}\n",
    "            \n",
    "    return logreg_summary, logreg_best_model, logreg_best_data, logreg_best_score"
   ]
  },
  {
   "cell_type": "code",
   "execution_count": 100,
   "id": "52873ed8",
   "metadata": {
    "scrolled": true
   },
   "outputs": [],
   "source": [
    "logreg_summary, logreg_model, logreg_data, logreg_score = logistic_regression_modeling(train_data=train_data,\n",
    "                                                                                     test_data=test_data,\n",
    "                                                                                     estimator=logreg,\n",
    "                                                                                     hyper_parameter=model_hyperparameter(\"LogisticRegression\"))"
   ]
  },
  {
   "cell_type": "code",
   "execution_count": 191,
   "id": "46cec581",
   "metadata": {},
   "outputs": [
    {
     "data": {
      "text/html": [
       "<style>#sk-container-id-10 {color: black;background-color: white;}#sk-container-id-10 pre{padding: 0;}#sk-container-id-10 div.sk-toggleable {background-color: white;}#sk-container-id-10 label.sk-toggleable__label {cursor: pointer;display: block;width: 100%;margin-bottom: 0;padding: 0.3em;box-sizing: border-box;text-align: center;}#sk-container-id-10 label.sk-toggleable__label-arrow:before {content: \"▸\";float: left;margin-right: 0.25em;color: #696969;}#sk-container-id-10 label.sk-toggleable__label-arrow:hover:before {color: black;}#sk-container-id-10 div.sk-estimator:hover label.sk-toggleable__label-arrow:before {color: black;}#sk-container-id-10 div.sk-toggleable__content {max-height: 0;max-width: 0;overflow: hidden;text-align: left;background-color: #f0f8ff;}#sk-container-id-10 div.sk-toggleable__content pre {margin: 0.2em;color: black;border-radius: 0.25em;background-color: #f0f8ff;}#sk-container-id-10 input.sk-toggleable__control:checked~div.sk-toggleable__content {max-height: 200px;max-width: 100%;overflow: auto;}#sk-container-id-10 input.sk-toggleable__control:checked~label.sk-toggleable__label-arrow:before {content: \"▾\";}#sk-container-id-10 div.sk-estimator input.sk-toggleable__control:checked~label.sk-toggleable__label {background-color: #d4ebff;}#sk-container-id-10 div.sk-label input.sk-toggleable__control:checked~label.sk-toggleable__label {background-color: #d4ebff;}#sk-container-id-10 input.sk-hidden--visually {border: 0;clip: rect(1px 1px 1px 1px);clip: rect(1px, 1px, 1px, 1px);height: 1px;margin: -1px;overflow: hidden;padding: 0;position: absolute;width: 1px;}#sk-container-id-10 div.sk-estimator {font-family: monospace;background-color: #f0f8ff;border: 1px dotted black;border-radius: 0.25em;box-sizing: border-box;margin-bottom: 0.5em;}#sk-container-id-10 div.sk-estimator:hover {background-color: #d4ebff;}#sk-container-id-10 div.sk-parallel-item::after {content: \"\";width: 100%;border-bottom: 1px solid gray;flex-grow: 1;}#sk-container-id-10 div.sk-label:hover label.sk-toggleable__label {background-color: #d4ebff;}#sk-container-id-10 div.sk-serial::before {content: \"\";position: absolute;border-left: 1px solid gray;box-sizing: border-box;top: 0;bottom: 0;left: 50%;z-index: 0;}#sk-container-id-10 div.sk-serial {display: flex;flex-direction: column;align-items: center;background-color: white;padding-right: 0.2em;padding-left: 0.2em;position: relative;}#sk-container-id-10 div.sk-item {position: relative;z-index: 1;}#sk-container-id-10 div.sk-parallel {display: flex;align-items: stretch;justify-content: center;background-color: white;position: relative;}#sk-container-id-10 div.sk-item::before, #sk-container-id-10 div.sk-parallel-item::before {content: \"\";position: absolute;border-left: 1px solid gray;box-sizing: border-box;top: 0;bottom: 0;left: 50%;z-index: -1;}#sk-container-id-10 div.sk-parallel-item {display: flex;flex-direction: column;z-index: 1;position: relative;background-color: white;}#sk-container-id-10 div.sk-parallel-item:first-child::after {align-self: flex-end;width: 50%;}#sk-container-id-10 div.sk-parallel-item:last-child::after {align-self: flex-start;width: 50%;}#sk-container-id-10 div.sk-parallel-item:only-child::after {width: 0;}#sk-container-id-10 div.sk-dashed-wrapped {border: 1px dashed gray;margin: 0 0.4em 0.5em 0.4em;box-sizing: border-box;padding-bottom: 0.4em;background-color: white;}#sk-container-id-10 div.sk-label label {font-family: monospace;font-weight: bold;display: inline-block;line-height: 1.2em;}#sk-container-id-10 div.sk-label-container {text-align: center;}#sk-container-id-10 div.sk-container {/* jupyter's `normalize.less` sets `[hidden] { display: none; }` but bootstrap.min.css set `[hidden] { display: none !important; }` so we also need the `!important` here to be able to override the default hidden behavior on the sphinx rendered scikit-learn.org. See: https://github.com/scikit-learn/scikit-learn/issues/21755 */display: inline-block !important;position: relative;}#sk-container-id-10 div.sk-text-repr-fallback {display: none;}</style><div id=\"sk-container-id-10\" class=\"sk-top-container\"><div class=\"sk-text-repr-fallback\"><pre>LogisticRegression(C=10)</pre><b>In a Jupyter environment, please rerun this cell to show the HTML representation or trust the notebook. <br />On GitHub, the HTML representation is unable to render, please try loading this page with nbviewer.org.</b></div><div class=\"sk-container\" hidden><div class=\"sk-item\"><div class=\"sk-estimator sk-toggleable\"><input class=\"sk-toggleable__control sk-hidden--visually\" id=\"sk-estimator-id-12\" type=\"checkbox\" checked><label for=\"sk-estimator-id-12\" class=\"sk-toggleable__label sk-toggleable__label-arrow\">LogisticRegression</label><div class=\"sk-toggleable__content\"><pre>LogisticRegression(C=10)</pre></div></div></div></div></div>"
      ],
      "text/plain": [
       "LogisticRegression(C=10)"
      ]
     },
     "execution_count": 191,
     "metadata": {},
     "output_type": "execute_result"
    }
   ],
   "source": [
    "joblib.dump(value=dct_model, filename='pickle_data/logreg_model.pkl')\n",
    "logreg_model"
   ]
  },
  {
   "cell_type": "code",
   "execution_count": 131,
   "id": "deb0cc42",
   "metadata": {},
   "outputs": [
    {
     "data": {
      "image/png": "[encoded data removed]",
      "text/plain": [
       "<Figure size 504x504 with 1 Axes>"
      ]
     },
     "metadata": {},
     "output_type": "display_data"
    }
   ],
   "source": [
    "logreg_score['roc_auc_micro'], logreg_score ['roc_auc_macro'] = roc_auc_model_plot(model=logreg_model, data_type=logreg_data, model_name=\"Logistic Regression Classifier\")"
   ]
  },
  {
   "cell_type": "code",
   "execution_count": 402,
   "id": "b7edd6c0",
   "metadata": {},
   "outputs": [
    {
     "data": {
      "text/plain": [
       "{'cv_score': 0.5927717202364021,\n",
       " 'acc_test': 0.4975247524752475,\n",
       " 'adj_acc_test': 0.8168316831683168,\n",
       " 'roc_auc_micro': 0.8641723237917851,\n",
       " 'roc_auc_macro': 0.8638372187754658}"
      ]
     },
     "execution_count": 402,
     "metadata": {},
     "output_type": "execute_result"
    }
   ],
   "source": [
    "logreg_score"
   ]
  },
  {
   "cell_type": "markdown",
   "id": "a359c08a",
   "metadata": {},
   "source": [
    "### D.7. Support Vector Machine Modeling"
   ]
  },
  {
   "cell_type": "code",
   "execution_count": 104,
   "id": "d7b483a9",
   "metadata": {},
   "outputs": [],
   "source": [
    "def svm_modeling(train_data:dict,\n",
    "                 test_data:dict,\n",
    "                 estimator:SVC,\n",
    "                 hyper_parameter:dict) -> dict:\n",
    "    svm_summary={}\n",
    "    svm_highest_accuracy=0;\n",
    "    for data_type in [\"unbalance\",\"rus\",\"ros\",\"smote\"]:\n",
    "        # Experiment by GridSearch CV\n",
    "        svm_cv = GridSearchCV(estimator=estimator, param_grid=hyper_parameter, cv=10)\n",
    "        svm_cv.fit(X = train_data[\"X_train\"][data_type].values, y=train_data[\"y_train\"][data_type])\n",
    "        \n",
    "        # Create the model with best params\n",
    "        svm_model = SVC(C=svm_cv.best_params_[\"C\"],\n",
    "                             kernel=svm_cv.best_params_[\"kernel\"])\n",
    "        \n",
    "        # Fit best model to train data\n",
    "        svm_model.fit(X=train_data[\"X_train\"][data_type].values,\n",
    "                           y=train_data[\"y_train\"][data_type])\n",
    "        \n",
    "        # Predict output using train data\n",
    "        y_train_pred  = svm_model.predict(train_data[\"X_train\"][data_type].values)\n",
    "        \n",
    "        # create confusion matrix for training data\n",
    "        conf_train = confusion_matrix(y_true=train_data[\"y_train\"][data_type],\n",
    "                                      y_pred=y_train_pred)\n",
    "        \n",
    "        # Predict output using test data\n",
    "        y_test_pred = svm_model.predict(test_data['X_test'].values)\n",
    "        \n",
    "        \n",
    "        # create confusion matrix for testing data\n",
    "        conf_test = confusion_matrix(y_true=test_data['y_test'], \n",
    "                                     y_pred=y_test_pred)\n",
    "        \n",
    "        # summarize the modeling\n",
    "        svm_summary[data_type] = {\"model\":svm_model, \n",
    "                                     \"cv_score\":svm_cv.best_score_,\n",
    "                                     \"acc_train\":accuracy(conf_train), \n",
    "                                     \"adj_acc_train\":accuracy_adjacent(conf_train),\n",
    "                                     \"acc_test\": accuracy(conf_test),\n",
    "                                     \"adj_acc_test\":accuracy_adjacent(conf_test)}\n",
    "        \n",
    "        # get the best model from accuracy value\n",
    "        if svm_summary[data_type][\"acc_test\"] > svm_highest_accuracy:\n",
    "            svm_highest_accuracy = svm_summary[data_type][\"acc_test\"]     # pass the accuracy value into a variable\n",
    "            svm_best_model = svm_summary[data_type]['model']\n",
    "            svm_best_data = data_type\n",
    "            svm_best_score = {\"cv_score\" : svm_summary[data_type][\"cv_score\"],\n",
    "                            \"acc_test\" : svm_summary[data_type][\"acc_test\"],\n",
    "                            \"adj_acc_test\" : svm_summary[data_type][\"adj_acc_test\"]}\n",
    "            \n",
    "    return svm_summary, svm_best_model, svm_best_data, svm_best_score"
   ]
  },
  {
   "cell_type": "code",
   "execution_count": 105,
   "id": "f667f975",
   "metadata": {
    "scrolled": true
   },
   "outputs": [],
   "source": [
    "svm_summary, svm_model, svm_data, svm_score =svm_modeling(train_data=train_data,\n",
    "                                                        test_data=test_data,\n",
    "                                                        estimator=svm,\n",
    "                                                        hyper_parameter=model_hyperparameter(\"SVC\"))"
   ]
  },
  {
   "cell_type": "code",
   "execution_count": 190,
   "id": "dbec9633",
   "metadata": {},
   "outputs": [
    {
     "data": {
      "text/html": [
       "<style>#sk-container-id-9 {color: black;background-color: white;}#sk-container-id-9 pre{padding: 0;}#sk-container-id-9 div.sk-toggleable {background-color: white;}#sk-container-id-9 label.sk-toggleable__label {cursor: pointer;display: block;width: 100%;margin-bottom: 0;padding: 0.3em;box-sizing: border-box;text-align: center;}#sk-container-id-9 label.sk-toggleable__label-arrow:before {content: \"▸\";float: left;margin-right: 0.25em;color: #696969;}#sk-container-id-9 label.sk-toggleable__label-arrow:hover:before {color: black;}#sk-container-id-9 div.sk-estimator:hover label.sk-toggleable__label-arrow:before {color: black;}#sk-container-id-9 div.sk-toggleable__content {max-height: 0;max-width: 0;overflow: hidden;text-align: left;background-color: #f0f8ff;}#sk-container-id-9 div.sk-toggleable__content pre {margin: 0.2em;color: black;border-radius: 0.25em;background-color: #f0f8ff;}#sk-container-id-9 input.sk-toggleable__control:checked~div.sk-toggleable__content {max-height: 200px;max-width: 100%;overflow: auto;}#sk-container-id-9 input.sk-toggleable__control:checked~label.sk-toggleable__label-arrow:before {content: \"▾\";}#sk-container-id-9 div.sk-estimator input.sk-toggleable__control:checked~label.sk-toggleable__label {background-color: #d4ebff;}#sk-container-id-9 div.sk-label input.sk-toggleable__control:checked~label.sk-toggleable__label {background-color: #d4ebff;}#sk-container-id-9 input.sk-hidden--visually {border: 0;clip: rect(1px 1px 1px 1px);clip: rect(1px, 1px, 1px, 1px);height: 1px;margin: -1px;overflow: hidden;padding: 0;position: absolute;width: 1px;}#sk-container-id-9 div.sk-estimator {font-family: monospace;background-color: #f0f8ff;border: 1px dotted black;border-radius: 0.25em;box-sizing: border-box;margin-bottom: 0.5em;}#sk-container-id-9 div.sk-estimator:hover {background-color: #d4ebff;}#sk-container-id-9 div.sk-parallel-item::after {content: \"\";width: 100%;border-bottom: 1px solid gray;flex-grow: 1;}#sk-container-id-9 div.sk-label:hover label.sk-toggleable__label {background-color: #d4ebff;}#sk-container-id-9 div.sk-serial::before {content: \"\";position: absolute;border-left: 1px solid gray;box-sizing: border-box;top: 0;bottom: 0;left: 50%;z-index: 0;}#sk-container-id-9 div.sk-serial {display: flex;flex-direction: column;align-items: center;background-color: white;padding-right: 0.2em;padding-left: 0.2em;position: relative;}#sk-container-id-9 div.sk-item {position: relative;z-index: 1;}#sk-container-id-9 div.sk-parallel {display: flex;align-items: stretch;justify-content: center;background-color: white;position: relative;}#sk-container-id-9 div.sk-item::before, #sk-container-id-9 div.sk-parallel-item::before {content: \"\";position: absolute;border-left: 1px solid gray;box-sizing: border-box;top: 0;bottom: 0;left: 50%;z-index: -1;}#sk-container-id-9 div.sk-parallel-item {display: flex;flex-direction: column;z-index: 1;position: relative;background-color: white;}#sk-container-id-9 div.sk-parallel-item:first-child::after {align-self: flex-end;width: 50%;}#sk-container-id-9 div.sk-parallel-item:last-child::after {align-self: flex-start;width: 50%;}#sk-container-id-9 div.sk-parallel-item:only-child::after {width: 0;}#sk-container-id-9 div.sk-dashed-wrapped {border: 1px dashed gray;margin: 0 0.4em 0.5em 0.4em;box-sizing: border-box;padding-bottom: 0.4em;background-color: white;}#sk-container-id-9 div.sk-label label {font-family: monospace;font-weight: bold;display: inline-block;line-height: 1.2em;}#sk-container-id-9 div.sk-label-container {text-align: center;}#sk-container-id-9 div.sk-container {/* jupyter's `normalize.less` sets `[hidden] { display: none; }` but bootstrap.min.css set `[hidden] { display: none !important; }` so we also need the `!important` here to be able to override the default hidden behavior on the sphinx rendered scikit-learn.org. See: https://github.com/scikit-learn/scikit-learn/issues/21755 */display: inline-block !important;position: relative;}#sk-container-id-9 div.sk-text-repr-fallback {display: none;}</style><div id=\"sk-container-id-9\" class=\"sk-top-container\"><div class=\"sk-text-repr-fallback\"><pre>SVC(C=50)</pre><b>In a Jupyter environment, please rerun this cell to show the HTML representation or trust the notebook. <br />On GitHub, the HTML representation is unable to render, please try loading this page with nbviewer.org.</b></div><div class=\"sk-container\" hidden><div class=\"sk-item\"><div class=\"sk-estimator sk-toggleable\"><input class=\"sk-toggleable__control sk-hidden--visually\" id=\"sk-estimator-id-11\" type=\"checkbox\" checked><label for=\"sk-estimator-id-11\" class=\"sk-toggleable__label sk-toggleable__label-arrow\">SVC</label><div class=\"sk-toggleable__content\"><pre>SVC(C=50)</pre></div></div></div></div></div>"
      ],
      "text/plain": [
       "SVC(C=50)"
      ]
     },
     "execution_count": 190,
     "metadata": {},
     "output_type": "execute_result"
    }
   ],
   "source": [
    "joblib.dump(value=svm_model, filename='pickle_data/svm_model.pkl')\n",
    "svm_model"
   ]
  },
  {
   "cell_type": "code",
   "execution_count": 133,
   "id": "09e34be7",
   "metadata": {},
   "outputs": [
    {
     "data": {
      "image/png": "[encoded data removed]",
      "text/plain": [
       "<Figure size 504x504 with 1 Axes>"
      ]
     },
     "metadata": {},
     "output_type": "display_data"
    }
   ],
   "source": [
    "svm_score['roc_auc_micro'], svm_score ['roc_auc_macro'] = roc_auc_model_plot(model=svm_model, data_type=svm_data, model_name=\"Support Vector Machine Classifier\")"
   ]
  },
  {
   "cell_type": "code",
   "execution_count": 403,
   "id": "408b639c",
   "metadata": {},
   "outputs": [
    {
     "data": {
      "text/plain": [
       "{'cv_score': 0.7043924022628867,\n",
       " 'acc_test': 0.4801980198019802,\n",
       " 'adj_acc_test': 0.8168316831683168,\n",
       " 'roc_auc_micro': 0.8349357599745123,\n",
       " 'roc_auc_macro': 0.8466910514575334}"
      ]
     },
     "execution_count": 403,
     "metadata": {},
     "output_type": "execute_result"
    }
   ],
   "source": [
    "svm_score"
   ]
  },
  {
   "cell_type": "markdown",
   "id": "7c277960",
   "metadata": {},
   "source": [
    "### D.8. Random Forest Modeling"
   ]
  },
  {
   "cell_type": "code",
   "execution_count": 109,
   "id": "4f9e994a",
   "metadata": {},
   "outputs": [],
   "source": [
    "def random_forest_modeling(train_data:dict,\n",
    "                                 test_data:dict,\n",
    "                                 estimator:RandomForestClassifier,\n",
    "                                 hyper_parameter:dict) -> dict:\n",
    "    rfc_summary={}\n",
    "    rfc_highest_accuracy=0;\n",
    "    for data_type in [\"unbalance\",\"rus\",\"ros\",\"smote\"]:\n",
    "        # Experiment by GridSearch CV\n",
    "        rfc_cv = GridSearchCV(estimator=estimator, param_grid=hyper_parameter, cv=10)\n",
    "        rfc_cv.fit(X = train_data[\"X_train\"][data_type].values, y=train_data[\"y_train\"][data_type])\n",
    "        \n",
    "        # Create the model with best params\n",
    "        rfc_model = RandomForestClassifier(n_estimators=rfc_cv.best_params_[\"n_estimators\"],\n",
    "                                                criterion=rfc_cv.best_params_[\"criterion\"],\n",
    "                                                min_samples_leaf=rfc_cv.best_params_[\"min_samples_leaf\"],\n",
    "                                                min_samples_split = rfc_cv.best_params_['min_samples_split'])\n",
    "        \n",
    "        # Fit best model to train data\n",
    "        rfc_model.fit(X=train_data[\"X_train\"][data_type].values,\n",
    "                           y=train_data[\"y_train\"][data_type])\n",
    "        \n",
    "        # Predict output using train data\n",
    "        y_train_pred  = rfc_model.predict(train_data[\"X_train\"][data_type].values)\n",
    "        \n",
    "        # create confusion matrix for training data\n",
    "        conf_train = confusion_matrix(y_true=train_data[\"y_train\"][data_type],\n",
    "                                      y_pred=y_train_pred)\n",
    "        \n",
    "        # Predict output using test data\n",
    "        y_test_pred = rfc_model.predict(test_data['X_test'].values)\n",
    "        \n",
    "        \n",
    "        # create confusion matrix for testing data\n",
    "        conf_test = confusion_matrix(y_true=test_data['y_test'], \n",
    "                                     y_pred=y_test_pred)\n",
    "        \n",
    "        # summarize the modeling\n",
    "        rfc_summary[data_type] = {\"model\":rfc_model, \n",
    "                                     \"cv_score\":rfc_cv.best_score_,\n",
    "                                     \"acc_train\":accuracy(conf_train), \n",
    "                                     \"adj_acc_train\":accuracy_adjacent(conf_train),\n",
    "                                     \"acc_test\": accuracy(conf_test),\n",
    "                                     \"adj_acc_test\":accuracy_adjacent(conf_test)}\n",
    "        \n",
    "        # get the best model from accuracy value\n",
    "        if rfc_summary[data_type][\"acc_test\"] > rfc_highest_accuracy:\n",
    "            rfc_highest_accuracy = rfc_summary[data_type][\"acc_test\"]     # pass the accuracy value into a variable\n",
    "            rfc_best_model = rfc_summary[data_type]['model']\n",
    "            rfc_best_data = data_type\n",
    "            rfc_best_score = {\"cv_score\" : rfc_summary[data_type][\"cv_score\"],\n",
    "                            \"acc_test\" : rfc_summary[data_type][\"acc_test\"],\n",
    "                            \"adj_acc_test\" : rfc_summary[data_type][\"adj_acc_test\"]}\n",
    "            \n",
    "    return rfc_summary, rfc_best_model, rfc_best_data, rfc_best_score"
   ]
  },
  {
   "cell_type": "code",
   "execution_count": 110,
   "id": "5e3cf005",
   "metadata": {
    "scrolled": true
   },
   "outputs": [],
   "source": [
    "rfc_summary, rfc_model, rfc_data, rfc_score = random_forest_modeling(train_data=train_data,\n",
    "                                                                   test_data=test_data,\n",
    "                                                                   estimator=rfc,\n",
    "                                                                   hyper_parameter=model_hyperparameter('RandomForestClassifier'))"
   ]
  },
  {
   "cell_type": "code",
   "execution_count": 189,
   "id": "6713aa89",
   "metadata": {},
   "outputs": [
    {
     "data": {
      "text/html": [
       "<style>#sk-container-id-8 {color: black;background-color: white;}#sk-container-id-8 pre{padding: 0;}#sk-container-id-8 div.sk-toggleable {background-color: white;}#sk-container-id-8 label.sk-toggleable__label {cursor: pointer;display: block;width: 100%;margin-bottom: 0;padding: 0.3em;box-sizing: border-box;text-align: center;}#sk-container-id-8 label.sk-toggleable__label-arrow:before {content: \"▸\";float: left;margin-right: 0.25em;color: #696969;}#sk-container-id-8 label.sk-toggleable__label-arrow:hover:before {color: black;}#sk-container-id-8 div.sk-estimator:hover label.sk-toggleable__label-arrow:before {color: black;}#sk-container-id-8 div.sk-toggleable__content {max-height: 0;max-width: 0;overflow: hidden;text-align: left;background-color: #f0f8ff;}#sk-container-id-8 div.sk-toggleable__content pre {margin: 0.2em;color: black;border-radius: 0.25em;background-color: #f0f8ff;}#sk-container-id-8 input.sk-toggleable__control:checked~div.sk-toggleable__content {max-height: 200px;max-width: 100%;overflow: auto;}#sk-container-id-8 input.sk-toggleable__control:checked~label.sk-toggleable__label-arrow:before {content: \"▾\";}#sk-container-id-8 div.sk-estimator input.sk-toggleable__control:checked~label.sk-toggleable__label {background-color: #d4ebff;}#sk-container-id-8 div.sk-label input.sk-toggleable__control:checked~label.sk-toggleable__label {background-color: #d4ebff;}#sk-container-id-8 input.sk-hidden--visually {border: 0;clip: rect(1px 1px 1px 1px);clip: rect(1px, 1px, 1px, 1px);height: 1px;margin: -1px;overflow: hidden;padding: 0;position: absolute;width: 1px;}#sk-container-id-8 div.sk-estimator {font-family: monospace;background-color: #f0f8ff;border: 1px dotted black;border-radius: 0.25em;box-sizing: border-box;margin-bottom: 0.5em;}#sk-container-id-8 div.sk-estimator:hover {background-color: #d4ebff;}#sk-container-id-8 div.sk-parallel-item::after {content: \"\";width: 100%;border-bottom: 1px solid gray;flex-grow: 1;}#sk-container-id-8 div.sk-label:hover label.sk-toggleable__label {background-color: #d4ebff;}#sk-container-id-8 div.sk-serial::before {content: \"\";position: absolute;border-left: 1px solid gray;box-sizing: border-box;top: 0;bottom: 0;left: 50%;z-index: 0;}#sk-container-id-8 div.sk-serial {display: flex;flex-direction: column;align-items: center;background-color: white;padding-right: 0.2em;padding-left: 0.2em;position: relative;}#sk-container-id-8 div.sk-item {position: relative;z-index: 1;}#sk-container-id-8 div.sk-parallel {display: flex;align-items: stretch;justify-content: center;background-color: white;position: relative;}#sk-container-id-8 div.sk-item::before, #sk-container-id-8 div.sk-parallel-item::before {content: \"\";position: absolute;border-left: 1px solid gray;box-sizing: border-box;top: 0;bottom: 0;left: 50%;z-index: -1;}#sk-container-id-8 div.sk-parallel-item {display: flex;flex-direction: column;z-index: 1;position: relative;background-color: white;}#sk-container-id-8 div.sk-parallel-item:first-child::after {align-self: flex-end;width: 50%;}#sk-container-id-8 div.sk-parallel-item:last-child::after {align-self: flex-start;width: 50%;}#sk-container-id-8 div.sk-parallel-item:only-child::after {width: 0;}#sk-container-id-8 div.sk-dashed-wrapped {border: 1px dashed gray;margin: 0 0.4em 0.5em 0.4em;box-sizing: border-box;padding-bottom: 0.4em;background-color: white;}#sk-container-id-8 div.sk-label label {font-family: monospace;font-weight: bold;display: inline-block;line-height: 1.2em;}#sk-container-id-8 div.sk-label-container {text-align: center;}#sk-container-id-8 div.sk-container {/* jupyter's `normalize.less` sets `[hidden] { display: none; }` but bootstrap.min.css set `[hidden] { display: none !important; }` so we also need the `!important` here to be able to override the default hidden behavior on the sphinx rendered scikit-learn.org. See: https://github.com/scikit-learn/scikit-learn/issues/21755 */display: inline-block !important;position: relative;}#sk-container-id-8 div.sk-text-repr-fallback {display: none;}</style><div id=\"sk-container-id-8\" class=\"sk-top-container\"><div class=\"sk-text-repr-fallback\"><pre>RandomForestClassifier(n_estimators=10)</pre><b>In a Jupyter environment, please rerun this cell to show the HTML representation or trust the notebook. <br />On GitHub, the HTML representation is unable to render, please try loading this page with nbviewer.org.</b></div><div class=\"sk-container\" hidden><div class=\"sk-item\"><div class=\"sk-estimator sk-toggleable\"><input class=\"sk-toggleable__control sk-hidden--visually\" id=\"sk-estimator-id-10\" type=\"checkbox\" checked><label for=\"sk-estimator-id-10\" class=\"sk-toggleable__label sk-toggleable__label-arrow\">RandomForestClassifier</label><div class=\"sk-toggleable__content\"><pre>RandomForestClassifier(n_estimators=10)</pre></div></div></div></div></div>"
      ],
      "text/plain": [
       "RandomForestClassifier(n_estimators=10)"
      ]
     },
     "execution_count": 189,
     "metadata": {},
     "output_type": "execute_result"
    }
   ],
   "source": [
    "joblib.dump(value=rfc_model, filename='pickle_data/rfc_model.pkl')\n",
    "rfc_model"
   ]
  },
  {
   "cell_type": "code",
   "execution_count": 135,
   "id": "7f85af7b",
   "metadata": {},
   "outputs": [
    {
     "data": {
      "image/png": "[encoded data removed]",
      "text/plain": [
       "<Figure size 504x504 with 1 Axes>"
      ]
     },
     "metadata": {},
     "output_type": "display_data"
    }
   ],
   "source": [
    "rfc_score['roc_auc_micro'], rfc_score ['roc_auc_macro'] = roc_auc_model_plot(model=rfc_model, data_type=rfc_data, model_name=\"Random Forest Classifier\")"
   ]
  },
  {
   "cell_type": "code",
   "execution_count": 404,
   "id": "cf5287f5",
   "metadata": {},
   "outputs": [
    {
     "data": {
      "text/plain": [
       "{'cv_score': 0.8934417369868211,\n",
       " 'acc_test': 0.5074257425742574,\n",
       " 'adj_acc_test': 0.8242574257425742,\n",
       " 'roc_auc_micro': 0.8467456468728556,\n",
       " 'roc_auc_macro': 0.8301369948439172}"
      ]
     },
     "execution_count": 404,
     "metadata": {},
     "output_type": "execute_result"
    }
   ],
   "source": [
    "rfc_score"
   ]
  },
  {
   "cell_type": "markdown",
   "id": "e9139eb2",
   "metadata": {},
   "source": [
    "### D.9. Extreme Gradient Boosting Modeling"
   ]
  },
  {
   "cell_type": "code",
   "execution_count": 117,
   "id": "358794d5",
   "metadata": {},
   "outputs": [],
   "source": [
    "def extreme_gradient_boosting_modeling(train_data:dict,\n",
    "                                 test_data:dict,\n",
    "                                 estimator:XGBClassifier,\n",
    "                                 hyper_parameter:dict) -> dict:\n",
    "    xgb_summary={}\n",
    "    xgb_highest_accuracy=0;\n",
    "    for data_type in [\"unbalance\",\"rus\",\"ros\",\"smote\"]:\n",
    "        # Experiment by GridSearch CV\n",
    "        xgb_cv = GridSearchCV(estimator=estimator, param_grid=hyper_parameter, cv=10)\n",
    "        xgb_cv.fit(X = train_data[\"X_train\"][data_type].values, y=train_data[\"y_train\"][data_type])\n",
    "        \n",
    "        # Create the model with best params\n",
    "        xgb_model = XGBClassifier(n_estimators=xgb_cv.best_params_[\"n_estimators\"],\n",
    "                                       num_class=9)\n",
    "        \n",
    "        # Fit best model to train data\n",
    "        xgb_model.fit(X=train_data[\"X_train\"][data_type].values,\n",
    "                           y=train_data[\"y_train\"][data_type])\n",
    "        \n",
    "        # Predict output using train data\n",
    "        y_train_pred  = xgb_model.predict(train_data[\"X_train\"][data_type].values)\n",
    "        \n",
    "        # create confusion matrix for training data\n",
    "        conf_train = confusion_matrix(y_true=train_data[\"y_train\"][data_type],\n",
    "                                      y_pred=y_train_pred)\n",
    "        \n",
    "        # Predict output using test data\n",
    "        y_test_pred = xgb_model.predict(test_data['X_test'].values)\n",
    "        \n",
    "        \n",
    "        # create confusion matrix for testing data\n",
    "        conf_test = confusion_matrix(y_true=test_data['y_test'], \n",
    "                                     y_pred=y_test_pred)\n",
    "        \n",
    "        # summarize the modeling\n",
    "        xgb_summary[data_type] = {\"model\":xgb_model, \n",
    "                                     \"cv_score\":xgb_cv.best_score_,\n",
    "                                     \"acc_train\":accuracy(conf_train), \n",
    "                                     \"adj_acc_train\":accuracy_adjacent(conf_train),\n",
    "                                     \"acc_test\": accuracy(conf_test),\n",
    "                                     \"adj_acc_test\":accuracy_adjacent(conf_test)}\n",
    "        \n",
    "        # get the best model from accuracy value\n",
    "        if xgb_summary[data_type][\"acc_test\"] > xgb_highest_accuracy:\n",
    "            xgb_highest_accuracy = xgb_summary[data_type][\"acc_test\"]     # pass the accuracy value into a variable\n",
    "            xgb_best_model = xgb_summary[data_type]['model']\n",
    "            xgb_best_data = data_type\n",
    "            xgb_best_score = {\"cv_score\" : xgb_summary[data_type][\"cv_score\"],\n",
    "                            \"acc_test\" : xgb_summary[data_type][\"acc_test\"],\n",
    "                            \"adj_acc_test\" : xgb_summary[data_type][\"adj_acc_test\"]}\n",
    "            \n",
    "    return xgb_summary, xgb_best_model, xgb_best_data, xgb_best_score"
   ]
  },
  {
   "cell_type": "code",
   "execution_count": 118,
   "id": "eb689c30",
   "metadata": {
    "scrolled": true
   },
   "outputs": [],
   "source": [
    "xgb_summary, xgb_model, xgb_data, xgb_score = extreme_gradient_boosting_modeling(train_data=train_data,\n",
    "                                                                               test_data=test_data,\n",
    "                                                                               estimator=xgb,\n",
    "                                                                               hyper_parameter=model_hyperparameter(\"XGBClassifier\"))"
   ]
  },
  {
   "cell_type": "code",
   "execution_count": 195,
   "id": "e62f1860",
   "metadata": {},
   "outputs": [
    {
     "data": {
      "text/html": [
       "<style>#sk-container-id-14 {color: black;background-color: white;}#sk-container-id-14 pre{padding: 0;}#sk-container-id-14 div.sk-toggleable {background-color: white;}#sk-container-id-14 label.sk-toggleable__label {cursor: pointer;display: block;width: 100%;margin-bottom: 0;padding: 0.3em;box-sizing: border-box;text-align: center;}#sk-container-id-14 label.sk-toggleable__label-arrow:before {content: \"▸\";float: left;margin-right: 0.25em;color: #696969;}#sk-container-id-14 label.sk-toggleable__label-arrow:hover:before {color: black;}#sk-container-id-14 div.sk-estimator:hover label.sk-toggleable__label-arrow:before {color: black;}#sk-container-id-14 div.sk-toggleable__content {max-height: 0;max-width: 0;overflow: hidden;text-align: left;background-color: #f0f8ff;}#sk-container-id-14 div.sk-toggleable__content pre {margin: 0.2em;color: black;border-radius: 0.25em;background-color: #f0f8ff;}#sk-container-id-14 input.sk-toggleable__control:checked~div.sk-toggleable__content {max-height: 200px;max-width: 100%;overflow: auto;}#sk-container-id-14 input.sk-toggleable__control:checked~label.sk-toggleable__label-arrow:before {content: \"▾\";}#sk-container-id-14 div.sk-estimator input.sk-toggleable__control:checked~label.sk-toggleable__label {background-color: #d4ebff;}#sk-container-id-14 div.sk-label input.sk-toggleable__control:checked~label.sk-toggleable__label {background-color: #d4ebff;}#sk-container-id-14 input.sk-hidden--visually {border: 0;clip: rect(1px 1px 1px 1px);clip: rect(1px, 1px, 1px, 1px);height: 1px;margin: -1px;overflow: hidden;padding: 0;position: absolute;width: 1px;}#sk-container-id-14 div.sk-estimator {font-family: monospace;background-color: #f0f8ff;border: 1px dotted black;border-radius: 0.25em;box-sizing: border-box;margin-bottom: 0.5em;}#sk-container-id-14 div.sk-estimator:hover {background-color: #d4ebff;}#sk-container-id-14 div.sk-parallel-item::after {content: \"\";width: 100%;border-bottom: 1px solid gray;flex-grow: 1;}#sk-container-id-14 div.sk-label:hover label.sk-toggleable__label {background-color: #d4ebff;}#sk-container-id-14 div.sk-serial::before {content: \"\";position: absolute;border-left: 1px solid gray;box-sizing: border-box;top: 0;bottom: 0;left: 50%;z-index: 0;}#sk-container-id-14 div.sk-serial {display: flex;flex-direction: column;align-items: center;background-color: white;padding-right: 0.2em;padding-left: 0.2em;position: relative;}#sk-container-id-14 div.sk-item {position: relative;z-index: 1;}#sk-container-id-14 div.sk-parallel {display: flex;align-items: stretch;justify-content: center;background-color: white;position: relative;}#sk-container-id-14 div.sk-item::before, #sk-container-id-14 div.sk-parallel-item::before {content: \"\";position: absolute;border-left: 1px solid gray;box-sizing: border-box;top: 0;bottom: 0;left: 50%;z-index: -1;}#sk-container-id-14 div.sk-parallel-item {display: flex;flex-direction: column;z-index: 1;position: relative;background-color: white;}#sk-container-id-14 div.sk-parallel-item:first-child::after {align-self: flex-end;width: 50%;}#sk-container-id-14 div.sk-parallel-item:last-child::after {align-self: flex-start;width: 50%;}#sk-container-id-14 div.sk-parallel-item:only-child::after {width: 0;}#sk-container-id-14 div.sk-dashed-wrapped {border: 1px dashed gray;margin: 0 0.4em 0.5em 0.4em;box-sizing: border-box;padding-bottom: 0.4em;background-color: white;}#sk-container-id-14 div.sk-label label {font-family: monospace;font-weight: bold;display: inline-block;line-height: 1.2em;}#sk-container-id-14 div.sk-label-container {text-align: center;}#sk-container-id-14 div.sk-container {/* jupyter's `normalize.less` sets `[hidden] { display: none; }` but bootstrap.min.css set `[hidden] { display: none !important; }` so we also need the `!important` here to be able to override the default hidden behavior on the sphinx rendered scikit-learn.org. See: https://github.com/scikit-learn/scikit-learn/issues/21755 */display: inline-block !important;position: relative;}#sk-container-id-14 div.sk-text-repr-fallback {display: none;}</style><div id=\"sk-container-id-14\" class=\"sk-top-container\"><div class=\"sk-text-repr-fallback\"><pre>XGBClassifier(base_score=0.5, booster=&#x27;gbtree&#x27;, callbacks=None,\n",
       "              colsample_bylevel=1, colsample_bynode=1, colsample_bytree=1,\n",
       "              early_stopping_rounds=None, enable_categorical=False,\n",
       "              eval_metric=None, feature_types=None, gamma=0, gpu_id=-1,\n",
       "              grow_policy=&#x27;depthwise&#x27;, importance_type=None,\n",
       "              interaction_constraints=&#x27;&#x27;, learning_rate=0.300000012,\n",
       "              max_bin=256, max_cat_threshold=64, max_cat_to_onehot=4,\n",
       "              max_delta_step=0, max_depth=6, max_leaves=0, min_child_weight=1,\n",
       "              missing=nan, monotone_constraints=&#x27;()&#x27;, n_estimators=5, n_jobs=0,\n",
       "              num_class=9, num_parallel_tree=1, objective=&#x27;multi:softprob&#x27;, ...)</pre><b>In a Jupyter environment, please rerun this cell to show the HTML representation or trust the notebook. <br />On GitHub, the HTML representation is unable to render, please try loading this page with nbviewer.org.</b></div><div class=\"sk-container\" hidden><div class=\"sk-item\"><div class=\"sk-estimator sk-toggleable\"><input class=\"sk-toggleable__control sk-hidden--visually\" id=\"sk-estimator-id-18\" type=\"checkbox\" checked><label for=\"sk-estimator-id-18\" class=\"sk-toggleable__label sk-toggleable__label-arrow\">XGBClassifier</label><div class=\"sk-toggleable__content\"><pre>XGBClassifier(base_score=0.5, booster=&#x27;gbtree&#x27;, callbacks=None,\n",
       "              colsample_bylevel=1, colsample_bynode=1, colsample_bytree=1,\n",
       "              early_stopping_rounds=None, enable_categorical=False,\n",
       "              eval_metric=None, feature_types=None, gamma=0, gpu_id=-1,\n",
       "              grow_policy=&#x27;depthwise&#x27;, importance_type=None,\n",
       "              interaction_constraints=&#x27;&#x27;, learning_rate=0.300000012,\n",
       "              max_bin=256, max_cat_threshold=64, max_cat_to_onehot=4,\n",
       "              max_delta_step=0, max_depth=6, max_leaves=0, min_child_weight=1,\n",
       "              missing=nan, monotone_constraints=&#x27;()&#x27;, n_estimators=5, n_jobs=0,\n",
       "              num_class=9, num_parallel_tree=1, objective=&#x27;multi:softprob&#x27;, ...)</pre></div></div></div></div></div>"
      ],
      "text/plain": [
       "XGBClassifier(base_score=0.5, booster='gbtree', callbacks=None,\n",
       "              colsample_bylevel=1, colsample_bynode=1, colsample_bytree=1,\n",
       "              early_stopping_rounds=None, enable_categorical=False,\n",
       "              eval_metric=None, feature_types=None, gamma=0, gpu_id=-1,\n",
       "              grow_policy='depthwise', importance_type=None,\n",
       "              interaction_constraints='', learning_rate=0.300000012,\n",
       "              max_bin=256, max_cat_threshold=64, max_cat_to_onehot=4,\n",
       "              max_delta_step=0, max_depth=6, max_leaves=0, min_child_weight=1,\n",
       "              missing=nan, monotone_constraints='()', n_estimators=5, n_jobs=0,\n",
       "              num_class=9, num_parallel_tree=1, objective='multi:softprob', ...)"
      ]
     },
     "execution_count": 195,
     "metadata": {},
     "output_type": "execute_result"
    }
   ],
   "source": [
    "joblib.dump(value=xgb_model, filename='pickle_data/xgb_model.pkl')\n",
    "xgb_model"
   ]
  },
  {
   "cell_type": "code",
   "execution_count": 137,
   "id": "d04727e6",
   "metadata": {},
   "outputs": [
    {
     "data": {
      "image/png": "[encoded data removed]",
      "text/plain": [
       "<Figure size 504x504 with 1 Axes>"
      ]
     },
     "metadata": {},
     "output_type": "display_data"
    }
   ],
   "source": [
    "xgb_score['roc_auc_micro'], xgb_score ['roc_auc_macro'] = roc_auc_model_plot(model=xgb_model, data_type=xgb_data, model_name=\"XGBoost Classifier\")"
   ]
  },
  {
   "cell_type": "code",
   "execution_count": 405,
   "id": "722b46fb",
   "metadata": {},
   "outputs": [
    {
     "data": {
      "text/plain": [
       "{'cv_score': 0.6085975044563281,\n",
       " 'acc_test': 0.5272277227722773,\n",
       " 'adj_acc_test': 0.8688118811881188,\n",
       " 'roc_auc_micro': 0.8893433395010294,\n",
       " 'roc_auc_macro': 0.8655005726467812}"
      ]
     },
     "execution_count": 405,
     "metadata": {},
     "output_type": "execute_result"
    }
   ],
   "source": [
    "xgb_score"
   ]
  },
  {
   "cell_type": "markdown",
   "id": "2fab5081",
   "metadata": {},
   "source": [
    "---\n",
    "## E. Summarize The Result of Modeling"
   ]
  },
  {
   "cell_type": "markdown",
   "id": "baabda38",
   "metadata": {},
   "source": [
    "### E.1 Populate Modeling Result"
   ]
  },
  {
   "cell_type": "code",
   "execution_count": 139,
   "id": "57ea8c36",
   "metadata": {},
   "outputs": [],
   "source": [
    "modeling_result = {\"KNeighborsClassifier\":{\"model\":knn_model, \"accuracy\":knn_score},\n",
    "                  \"DecisionTreeClassifier\":{\"model\":dct_model, \"accuracy\":dct_score},\n",
    "                  \"BaggingClassifier\":{\"model\":bagging_model, \"accuracy\":bagging_score},\n",
    "                  \"LogisticRegression\":{\"model\":logreg_model, \"accuracy\":logreg_score},\n",
    "                  \"SVC\":{\"model\":svm_model, \"accuracy\":svm_score},\n",
    "                  \"RandomForestClassifier\":{\"model\":rfc_model, \"accuracy\":rfc_score},\n",
    "                  \"XGBClassifier\":{\"model\":xgb_model, \"accuracy\":xgb_score}}"
   ]
  },
  {
   "cell_type": "code",
   "execution_count": 196,
   "id": "b2056b05",
   "metadata": {},
   "outputs": [
    {
     "data": {
      "text/plain": [
       "{'KNeighborsClassifier': {'model': KNeighborsClassifier(algorithm='ball_tree', leaf_size=2, n_neighbors=25),\n",
       "  'accuracy': {'cv_score': 0.4913654188948307,\n",
       "   'acc_test': 0.4752475247524752,\n",
       "   'adj_acc_test': 0.8118811881188119,\n",
       "   'roc_auc_micro': 0.8691040553622192,\n",
       "   'roc_auc_macro': 0.8557756063400587}},\n",
       " 'DecisionTreeClassifier': {'model': DecisionTreeClassifier(max_depth=5, min_samples_leaf=4, min_samples_split=10),\n",
       "  'accuracy': {'cv_score': 0.5367871657754011,\n",
       "   'acc_test': 0.46534653465346537,\n",
       "   'adj_acc_test': 0.801980198019802,\n",
       "   'roc_auc_micro': 0.8454643693020292,\n",
       "   'roc_auc_macro': 0.8188730390841004}},\n",
       " 'BaggingClassifier': {'model': BaggingClassifier(base_estimator=DecisionTreeClassifier(max_depth=5,\n",
       "                                                          min_samples_leaf=4,\n",
       "                                                          min_samples_split=10),\n",
       "                    n_estimators=100),\n",
       "  'accuracy': {'cv_score': 0.561075935828877,\n",
       "   'acc_test': 0.5099009900990099,\n",
       "   'adj_acc_test': 0.8316831683168316,\n",
       "   'roc_auc_micro': 0.884003789456916,\n",
       "   'roc_auc_macro': 0.8619980428877464}},\n",
       " 'LogisticRegression': {'model': LogisticRegression(C=10),\n",
       "  'accuracy': {'cv_score': 0.5927717202364021,\n",
       "   'acc_test': 0.4975247524752475,\n",
       "   'adj_acc_test': 0.8168316831683168,\n",
       "   'roc_auc_micro': 0.8641723237917851,\n",
       "   'roc_auc_macro': 0.8638372187754658}},\n",
       " 'SVC': {'model': SVC(C=50),\n",
       "  'accuracy': {'cv_score': 0.7043924022628867,\n",
       "   'acc_test': 0.4801980198019802,\n",
       "   'adj_acc_test': 0.8168316831683168,\n",
       "   'roc_auc_micro': 0.8349357599745123,\n",
       "   'roc_auc_macro': 0.8466910514575334}},\n",
       " 'RandomForestClassifier': {'model': RandomForestClassifier(n_estimators=10),\n",
       "  'accuracy': {'cv_score': 0.8934417369868211,\n",
       "   'acc_test': 0.5074257425742574,\n",
       "   'adj_acc_test': 0.8242574257425742,\n",
       "   'roc_auc_micro': 0.8467456468728556,\n",
       "   'roc_auc_macro': 0.8301369948439172}},\n",
       " 'XGBClassifier': {'model': XGBClassifier(base_score=0.5, booster='gbtree', callbacks=None,\n",
       "                colsample_bylevel=1, colsample_bynode=1, colsample_bytree=1,\n",
       "                early_stopping_rounds=None, enable_categorical=False,\n",
       "                eval_metric=None, feature_types=None, gamma=0, gpu_id=-1,\n",
       "                grow_policy='depthwise', importance_type=None,\n",
       "                interaction_constraints='', learning_rate=0.300000012,\n",
       "                max_bin=256, max_cat_threshold=64, max_cat_to_onehot=4,\n",
       "                max_delta_step=0, max_depth=6, max_leaves=0, min_child_weight=1,\n",
       "                missing=nan, monotone_constraints='()', n_estimators=5, n_jobs=0,\n",
       "                num_class=9, num_parallel_tree=1, objective='multi:softprob', ...),\n",
       "  'accuracy': {'cv_score': 0.6085975044563281,\n",
       "   'acc_test': 0.5272277227722773,\n",
       "   'adj_acc_test': 0.8688118811881188,\n",
       "   'roc_auc_micro': 0.8893433395010294,\n",
       "   'roc_auc_macro': 0.8655005726467812}}}"
      ]
     },
     "execution_count": 196,
     "metadata": {},
     "output_type": "execute_result"
    }
   ],
   "source": [
    "joblib.dump(value=modeling_result, filename='pickle_data/modeling_result.pkl')\n",
    "modeling_result"
   ]
  },
  {
   "cell_type": "markdown",
   "id": "a940210c",
   "metadata": {},
   "source": [
    "### E.2. Comparing Accuracy"
   ]
  },
  {
   "cell_type": "code",
   "execution_count": 165,
   "id": "ed8642e3",
   "metadata": {},
   "outputs": [],
   "source": [
    "model_pallet = {'XGBClassifier' : '#228B22',\n",
    "               'BaggingClassifier' : '#20B2AA',\n",
    "               'RandomForestClassifier': '#DC143C',\n",
    "               'LogisticRegression' : '#663399',\n",
    "               'SVC' : '#778899',\n",
    "               'KNeighborsClassifier' : '#A0522D',\n",
    "               'DecisionTreeClassifier' : '#1E90FF'}"
   ]
  },
  {
   "cell_type": "code",
   "execution_count": 141,
   "id": "a915ecbf",
   "metadata": {},
   "outputs": [],
   "source": [
    "def gather_accuracy_data(modeling_result:dict) -> pd.DataFrame:\n",
    "    data_accuracy = {}\n",
    "    for model_name in modeling_result.keys():\n",
    "        data_accuracy[model_name] = modeling_result[model_name]['accuracy']['acc_test']\n",
    "    data_accuracy = pd.DataFrame({\"Model\" : data_accuracy.keys(),\n",
    "                                  \"Accuracy\" : data_accuracy.values()})\n",
    "    return data_accuracy"
   ]
  },
  {
   "cell_type": "code",
   "execution_count": 142,
   "id": "7a88c9e4",
   "metadata": {
    "scrolled": true
   },
   "outputs": [],
   "source": [
    "accuracy_data = gather_accuracy_data(modeling_result)"
   ]
  },
  {
   "cell_type": "code",
   "execution_count": 176,
   "id": "feb0d01d",
   "metadata": {},
   "outputs": [
    {
     "data": {
      "text/plain": [
       "Text(0.5, 1.0, 'Accuracy for Every Model')"
      ]
     },
     "execution_count": 176,
     "metadata": {},
     "output_type": "execute_result"
    },
    {
     "data": {
      "image/png": "[encoded data removed]",
      "text/plain": [
       "<Figure size 432x288 with 1 Axes>"
      ]
     },
     "metadata": {},
     "output_type": "display_data"
    }
   ],
   "source": [
    "sns.barplot(data=accuracy_data, y=\"Model\", x=\"Accuracy\",\n",
    "            order=accuracy_data.sort_values('Accuracy', ascending=False)[\"Model\"],\n",
    "            palette=model_pallet)\n",
    "plt.title(\"Accuracy for Every Model\", size=16)"
   ]
  },
  {
   "cell_type": "markdown",
   "id": "6e6a76dd",
   "metadata": {},
   "source": [
    "The result of the evaluation shows that at well test data (CHURCHMAN BIBLE) all model has accuracy beneath 0.6. This is still acceptable since at the actual facies there are blended rock. From the comparison XGBClassifier has the highest accuracy on test data for 52.7% and Decision Tree Classifier has the smallest accuracy on test data for 46.5%. "
   ]
  },
  {
   "cell_type": "markdown",
   "id": "955e926c",
   "metadata": {},
   "source": [
    "### E.3. Comparing Adjacent Accuracy"
   ]
  },
  {
   "cell_type": "code",
   "execution_count": 144,
   "id": "1c1d8c46",
   "metadata": {},
   "outputs": [],
   "source": [
    "def gather_adjacent_accuracy_data(modeling_result:dict) -> pd.DataFrame:\n",
    "    data_adjacent_accuracy = {}\n",
    "    for model_name in modeling_result.keys():\n",
    "        data_adjacent_accuracy[model_name] = modeling_result[model_name]['accuracy']['adj_acc_test']\n",
    "    data_adjacent_accuracy = pd.DataFrame({\"Model\" : data_adjacent_accuracy.keys(),\n",
    "                                  \"Adjacent_Accuracy\" : data_adjacent_accuracy.values()})\n",
    "    return data_adjacent_accuracy"
   ]
  },
  {
   "cell_type": "code",
   "execution_count": 145,
   "id": "309dc386",
   "metadata": {},
   "outputs": [],
   "source": [
    "adjacent_accuracy_data = gather_adjacent_accuracy_data(modeling_result)"
   ]
  },
  {
   "cell_type": "code",
   "execution_count": 175,
   "id": "66cc935a",
   "metadata": {},
   "outputs": [
    {
     "data": {
      "text/plain": [
       "Text(0.5, 1.0, 'Adjacent Accuracy for Every Model')"
      ]
     },
     "execution_count": 175,
     "metadata": {},
     "output_type": "execute_result"
    },
    {
     "data": {
      "image/png": "[encoded data removed]",
      "text/plain": [
       "<Figure size 432x288 with 1 Axes>"
      ]
     },
     "metadata": {},
     "output_type": "display_data"
    }
   ],
   "source": [
    "sns.barplot(data=adjacent_accuracy_data, y=\"Model\", x=\"Adjacent_Accuracy\",\n",
    "            order=adjacent_accuracy_data.sort_values('Adjacent_Accuracy', ascending=False)[\"Model\"],\n",
    "            palette=model_pallet)\n",
    "plt.title(\"Adjacent Accuracy for Every Model\", size=16)"
   ]
  },
  {
   "cell_type": "markdown",
   "id": "d40986ba",
   "metadata": {},
   "source": [
    "Adjacent accuracy on test data has higher value than just accuracy on test data. For all model trained the value is roughly more than 80% for adjacent facies accuracy. XGB Classifier again has the highest adjacent facies value for 86,8% and  again Decision Tree Classifier become the model with the smallest adjacent accuracy on test data for 80,2% "
   ]
  },
  {
   "cell_type": "markdown",
   "id": "f14bff33",
   "metadata": {},
   "source": [
    "### E.4. Comparing Cross Validation Score"
   ]
  },
  {
   "cell_type": "code",
   "execution_count": 147,
   "id": "52515cf8",
   "metadata": {},
   "outputs": [],
   "source": [
    "def gather_cv_score_data(modeling_result:dict) -> pd.DataFrame:\n",
    "    data_cv_score = {}\n",
    "    for model_name in modeling_result.keys():\n",
    "        data_cv_score[model_name] = modeling_result[model_name]['accuracy']['cv_score']\n",
    "    data_cv_score = pd.DataFrame({\"Model\" : data_cv_score.keys(),\n",
    "                                  \"cv_score\" : data_cv_score.values()})\n",
    "    return data_cv_score"
   ]
  },
  {
   "cell_type": "code",
   "execution_count": 149,
   "id": "e1c2d9c1",
   "metadata": {},
   "outputs": [],
   "source": [
    "cv_score_data = gather_cv_score_data(modeling_result)"
   ]
  },
  {
   "cell_type": "code",
   "execution_count": 174,
   "id": "8ee4a6db",
   "metadata": {},
   "outputs": [
    {
     "data": {
      "text/plain": [
       "Text(0.5, 1.0, 'CV Score for Every Model')"
      ]
     },
     "execution_count": 174,
     "metadata": {},
     "output_type": "execute_result"
    },
    {
     "data": {
      "image/png": "[encoded data removed]",
      "text/plain": [
       "<Figure size 432x288 with 1 Axes>"
      ]
     },
     "metadata": {},
     "output_type": "display_data"
    }
   ],
   "source": [
    "sns.barplot(data=cv_score_data, y=\"Model\", x=\"cv_score\",\n",
    "            order=cv_score_data.sort_values('cv_score', ascending=False)[\"Model\"],\n",
    "            palette=model_pallet)\n",
    "plt.title(\"CV Score for Every Model\", size=16)"
   ]
  },
  {
   "cell_type": "markdown",
   "id": "90ae92c7",
   "metadata": {},
   "source": [
    "Cross-validation score show us that Random Forest Classifier has the highest cv-score for 89.34%, whereas KNN has the smallest cv-score for 49,1%. If we compare this cv score with the accuracy score there are much different in value from Random Forest classifier and Support Vector Machine. This is because this two model overfit in train data, hence when tested on the test data the accuracy drop from its cross validation score. There are not much different for the rest of the model, this means that the models are well trained by using train data. If we exclude the Random Forest Classifier and Support Vector Machine, XGB Classifier has the highest cv score for 60.85% where as KNN has the smallest cv score for 49,1%. "
   ]
  },
  {
   "cell_type": "markdown",
   "id": "4f844037",
   "metadata": {},
   "source": [
    "### E.5. Comparing ROC AUC Score"
   ]
  },
  {
   "cell_type": "code",
   "execution_count": 154,
   "id": "427da744",
   "metadata": {},
   "outputs": [],
   "source": [
    "def gather_roc_auc_macro_score_data(modeling_result:dict) -> pd.DataFrame:\n",
    "    data_roc_auc_macro = {}\n",
    "    for model_name in modeling_result.keys():\n",
    "        data_roc_auc_macro[model_name] = modeling_result[model_name]['accuracy']['roc_auc_macro']\n",
    "    data_roc_auc_macro = pd.DataFrame({\"Model\" : data_roc_auc_macro.keys(),\n",
    "                                  \"roc_auc_macro\" : data_roc_auc_macro.values()})\n",
    "    return data_roc_auc_macro"
   ]
  },
  {
   "cell_type": "code",
   "execution_count": 160,
   "id": "25386e18",
   "metadata": {},
   "outputs": [],
   "source": [
    "roc_auc_macro_data = gather_roc_auc_macro_score_data(modeling_result)"
   ]
  },
  {
   "cell_type": "code",
   "execution_count": 173,
   "id": "4f312232",
   "metadata": {},
   "outputs": [
    {
     "data": {
      "text/plain": [
       "Text(0.5, 1.0, 'ROC AUC Macro Average Value for Every Model')"
      ]
     },
     "execution_count": 173,
     "metadata": {},
     "output_type": "execute_result"
    },
    {
     "data": {
      "image/png": "[encoded data removed]",
      "text/plain": [
       "<Figure size 432x288 with 1 Axes>"
      ]
     },
     "metadata": {},
     "output_type": "display_data"
    }
   ],
   "source": [
    "sns.barplot(data=roc_auc_macro_data, y=\"Model\", x=\"roc_auc_macro\",\n",
    "            order=roc_auc_macro_data.sort_values(\"roc_auc_macro\", ascending=False)[\"Model\"],\n",
    "            palette=model_pallet)\n",
    "plt.title(\"ROC AUC Macro Average Value for Every Model\", size=16)"
   ]
  },
  {
   "cell_type": "markdown",
   "id": "2ecb75a7",
   "metadata": {},
   "source": [
    "---\n",
    "## F. Test the Model"
   ]
  },
  {
   "cell_type": "code",
   "execution_count": 382,
   "id": "7b3aa09b",
   "metadata": {},
   "outputs": [],
   "source": [
    "facies_label_encoder = {'SS':0, 'CSiS':1, 'FSiS':2, 'SiSh':3, 'MS':4, 'WS':5, 'D':6, 'PS':7, 'BS':8}\n",
    "well_test = raw_data[raw_data['Well Name']==\"CHURCHMAN BIBLE\"]\n",
    "well_test['Facies'] = well_test['Facies'].map(facies_label_encoder)"
   ]
  },
  {
   "cell_type": "code",
   "execution_count": 383,
   "id": "7a72a99f",
   "metadata": {},
   "outputs": [],
   "source": [
    "def predict_facies(well_test:pd.DataFrame, test_data:dict, modeling_result:dict) -> pd.DataFrame:\n",
    "    name = ['KNN','DCT','BAGT','LOGREG','SVM',\"RFC\",\"XGB\"]\n",
    "    for label, model_name in zip(name,modeling_result):\n",
    "        well_test[label] = modeling_result[model_name]['model'].predict(test_data['X_test'].values)\n",
    "    return well_test"
   ]
  },
  {
   "cell_type": "code",
   "execution_count": 385,
   "id": "f26abb08",
   "metadata": {},
   "outputs": [],
   "source": [
    "well_test = predict_facies(well_test=well_test, test_data=test_data, modeling_result=modeling_result)"
   ]
  },
  {
   "cell_type": "code",
   "execution_count": 398,
   "id": "d102deec",
   "metadata": {},
   "outputs": [
    {
     "data": {
      "image/png": "[encoded data removed]",
      "text/plain": [
       "<Figure size 1080x864 with 14 Axes>"
      ]
     },
     "metadata": {},
     "output_type": "display_data"
    }
   ],
   "source": [
    "compare_facies_plot(well_test,\"XGB\",\"RFC\",\"SVM\",\"LOGREG\",\"BAGT\",\"DCT\",\"KNN\")"
   ]
  }
 ],
 "metadata": {
  "kernelspec": {
   "display_name": "Python 3 (ipykernel)",
   "language": "python",
   "name": "python3"
  },
  "language_info": {
   "codemirror_mode": {
    "name": "ipython",
    "version": 3
   },
   "file_extension": ".py",
   "mimetype": "text/x-python",
   "name": "python",
   "nbconvert_exporter": "python",
   "pygments_lexer": "ipython3",
   "version": "3.9.12"
  }
 },
 "nbformat": 4,
 "nbformat_minor": 5
}
