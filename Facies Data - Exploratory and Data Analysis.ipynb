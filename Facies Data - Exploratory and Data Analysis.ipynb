{
 "cells": [
  {
   "cell_type": "markdown",
   "id": "515662dd",
   "metadata": {},
   "source": [
    "## A. Import Library"
   ]
  },
  {
   "cell_type": "code",
   "execution_count": 5,
   "id": "a028ca5f",
   "metadata": {},
   "outputs": [],
   "source": [
    "import numpy as np\n",
    "import seaborn as sns\n",
    "import matplotlib.pyplot as plt\n",
    "import pandas as pd\n",
    "import os"
   ]
  },
  {
   "cell_type": "markdown",
   "id": "fb6e4d4f",
   "metadata": {},
   "source": [
    "## B. Import Data"
   ]
  },
  {
   "cell_type": "code",
   "execution_count": 6,
   "id": "3d7605c4",
   "metadata": {},
   "outputs": [],
   "source": [
    "def populate_raw_data(directory:str=\"well_data/\") -> pd.DataFrame:     # Put this function on script\n",
    "    raw_data = pd.DataFrame()\n",
    "    for well_data in os.listdir(directory):\n",
    "        raw_data = pd.concat([raw_data,pd.read_csv(directory+well_data)],\n",
    "                             axis=0,\n",
    "                             ignore_index=True)\n",
    "    return raw_data"
   ]
  },
  {
   "cell_type": "code",
   "execution_count": 7,
   "id": "2e02aa7c",
   "metadata": {},
   "outputs": [],
   "source": [
    "raw_data = populate_raw_data()"
   ]
  },
  {
   "cell_type": "code",
   "execution_count": 28,
   "id": "58e95b8b",
   "metadata": {},
   "outputs": [],
   "source": [
    "def split_well_train_test(data:pd.DataFrame, well_name:str):\n",
    "    data_train_unclean = data[data[\"Well Name\"]!=well_name]\n",
    "    data_test_unclean = data[data[\"Well Name\"]==well_name]\n",
    "    \n",
    "    return data_train_unclean, data_test_unclean"
   ]
  },
  {
   "cell_type": "code",
   "execution_count": 29,
   "id": "11c8a87a",
   "metadata": {},
   "outputs": [],
   "source": [
    "data_train, data_test = split_well_train_test(data=raw_data, well_name=\"CHURCHMAN BIBLE\")"
   ]
  },
  {
   "cell_type": "code",
   "execution_count": 35,
   "id": "84059772",
   "metadata": {},
   "outputs": [
    {
     "data": {
      "text/html": [
       "<div>\n",
       "<style scoped>\n",
       "    .dataframe tbody tr th:only-of-type {\n",
       "        vertical-align: middle;\n",
       "    }\n",
       "\n",
       "    .dataframe tbody tr th {\n",
       "        vertical-align: top;\n",
       "    }\n",
       "\n",
       "    .dataframe thead th {\n",
       "        text-align: right;\n",
       "    }\n",
       "</style>\n",
       "<table border=\"1\" class=\"dataframe\">\n",
       "  <thead>\n",
       "    <tr style=\"text-align: right;\">\n",
       "      <th></th>\n",
       "      <th>Facies</th>\n",
       "      <th>Formation</th>\n",
       "      <th>Well Name</th>\n",
       "      <th>Depth</th>\n",
       "      <th>GR</th>\n",
       "      <th>ILD_log10</th>\n",
       "      <th>DeltaPHI</th>\n",
       "      <th>PHIND</th>\n",
       "      <th>PE</th>\n",
       "      <th>NM_M</th>\n",
       "      <th>RELPOS</th>\n",
       "    </tr>\n",
       "  </thead>\n",
       "  <tbody>\n",
       "    <tr>\n",
       "      <th>0</th>\n",
       "      <td>CSiS</td>\n",
       "      <td>A1 SH</td>\n",
       "      <td>NOLAN</td>\n",
       "      <td>2853.5</td>\n",
       "      <td>106.813</td>\n",
       "      <td>0.533</td>\n",
       "      <td>9.339</td>\n",
       "      <td>15.222</td>\n",
       "      <td>3.500</td>\n",
       "      <td>1</td>\n",
       "      <td>1.000</td>\n",
       "    </tr>\n",
       "    <tr>\n",
       "      <th>1</th>\n",
       "      <td>FSiS</td>\n",
       "      <td>A1 SH</td>\n",
       "      <td>NOLAN</td>\n",
       "      <td>2854.0</td>\n",
       "      <td>100.938</td>\n",
       "      <td>0.542</td>\n",
       "      <td>8.857</td>\n",
       "      <td>15.313</td>\n",
       "      <td>3.416</td>\n",
       "      <td>1</td>\n",
       "      <td>0.977</td>\n",
       "    </tr>\n",
       "    <tr>\n",
       "      <th>2</th>\n",
       "      <td>FSiS</td>\n",
       "      <td>A1 SH</td>\n",
       "      <td>NOLAN</td>\n",
       "      <td>2854.5</td>\n",
       "      <td>94.375</td>\n",
       "      <td>0.553</td>\n",
       "      <td>7.097</td>\n",
       "      <td>14.583</td>\n",
       "      <td>3.195</td>\n",
       "      <td>1</td>\n",
       "      <td>0.955</td>\n",
       "    </tr>\n",
       "    <tr>\n",
       "      <th>3</th>\n",
       "      <td>FSiS</td>\n",
       "      <td>A1 SH</td>\n",
       "      <td>NOLAN</td>\n",
       "      <td>2855.0</td>\n",
       "      <td>89.813</td>\n",
       "      <td>0.554</td>\n",
       "      <td>7.081</td>\n",
       "      <td>14.110</td>\n",
       "      <td>2.963</td>\n",
       "      <td>1</td>\n",
       "      <td>0.932</td>\n",
       "    </tr>\n",
       "    <tr>\n",
       "      <th>4</th>\n",
       "      <td>FSiS</td>\n",
       "      <td>A1 SH</td>\n",
       "      <td>NOLAN</td>\n",
       "      <td>2855.5</td>\n",
       "      <td>91.563</td>\n",
       "      <td>0.560</td>\n",
       "      <td>6.733</td>\n",
       "      <td>13.189</td>\n",
       "      <td>2.979</td>\n",
       "      <td>1</td>\n",
       "      <td>0.909</td>\n",
       "    </tr>\n",
       "  </tbody>\n",
       "</table>\n",
       "</div>"
      ],
      "text/plain": [
       "  Facies Formation Well Name   Depth       GR  ILD_log10  DeltaPHI   PHIND  \\\n",
       "0   CSiS     A1 SH     NOLAN  2853.5  106.813      0.533     9.339  15.222   \n",
       "1   FSiS     A1 SH     NOLAN  2854.0  100.938      0.542     8.857  15.313   \n",
       "2   FSiS     A1 SH     NOLAN  2854.5   94.375      0.553     7.097  14.583   \n",
       "3   FSiS     A1 SH     NOLAN  2855.0   89.813      0.554     7.081  14.110   \n",
       "4   FSiS     A1 SH     NOLAN  2855.5   91.563      0.560     6.733  13.189   \n",
       "\n",
       "      PE  NM_M  RELPOS  \n",
       "0  3.500     1   1.000  \n",
       "1  3.416     1   0.977  \n",
       "2  3.195     1   0.955  \n",
       "3  2.963     1   0.932  \n",
       "4  2.979     1   0.909  "
      ]
     },
     "execution_count": 35,
     "metadata": {},
     "output_type": "execute_result"
    }
   ],
   "source": [
    "data_train.head()"
   ]
  },
  {
   "cell_type": "markdown",
   "id": "500941e9",
   "metadata": {},
   "source": [
    "## C. Univariate Analysis "
   ]
  },
  {
   "cell_type": "code",
   "execution_count": 45,
   "id": "54e969ea",
   "metadata": {},
   "outputs": [],
   "source": [
    "sns.set_style('darkgrid')"
   ]
  },
  {
   "cell_type": "markdown",
   "id": "32c65a1e",
   "metadata": {},
   "source": [
    "### Facies"
   ]
  },
  {
   "cell_type": "code",
   "execution_count": 10,
   "id": "0be07fb8",
   "metadata": {},
   "outputs": [],
   "source": [
    "facies_colors_pallete = {'SS':'#F4D03F', 'CSiS':'#F5B041', 'FSiS':'#DC7633','SiSh':'#6E2C00',\n",
    "       'MS':'#1B4F72', 'WS':'#2E86C1', 'D':'#AED6F1', 'PS':'#A569BD', 'BS':'#196F3D'}"
   ]
  },
  {
   "cell_type": "code",
   "execution_count": 49,
   "id": "ccb4ce4d",
   "metadata": {},
   "outputs": [
    {
     "data": {
      "image/png": "[encoded data removed]",
      "text/plain": [
       "<Figure size 432x288 with 1 Axes>"
      ]
     },
     "metadata": {},
     "output_type": "display_data"
    }
   ],
   "source": [
    "ax = sns.countplot(data=data_train, y='Facies',\n",
    "              order=data_train['Facies'].value_counts().index,\n",
    "              palette=facies_colors_pallete)\n",
    "ax.bar_label(ax.containers[0])\n",
    "plt.show()"
   ]
  },
  {
   "cell_type": "markdown",
   "id": "edff15c2",
   "metadata": {},
   "source": [
    "the count plot show us that there are variative facies in the raw dataset. The most abudant facies is the CSiS (Coarse Siltstone), while the least facies is D (Dolomite)"
   ]
  },
  {
   "cell_type": "code",
   "execution_count": 76,
   "id": "9c6d0aea",
   "metadata": {},
   "outputs": [
    {
     "data": {
      "image/png": "[encoded data removed]",
      "text/plain": [
       "<Figure size 504x360 with 1 Axes>"
      ]
     },
     "metadata": {},
     "output_type": "display_data"
    }
   ],
   "source": [
    "fig, ax = plt.subplots(figsize=(7,5))\n",
    "ax = sns.countplot(data=data_train, y='Well Name',\n",
    "              order=data_train['Well Name'].value_counts().index,\n",
    "              palette=sns.color_palette(\"Set1\", 10))\n",
    "ax.bar_label(ax.containers[0])\n",
    "plt.show()"
   ]
  },
  {
   "cell_type": "markdown",
   "id": "af09f64a",
   "metadata": {},
   "source": [
    "### Formation"
   ]
  },
  {
   "cell_type": "code",
   "execution_count": 50,
   "id": "4190a689",
   "metadata": {
    "scrolled": true
   },
   "outputs": [
    {
     "data": {
      "image/png": "[encoded data removed]",
      "text/plain": [
       "<Figure size 432x288 with 1 Axes>"
      ]
     },
     "metadata": {},
     "output_type": "display_data"
    }
   ],
   "source": [
    "ax = sns.countplot(data=data_train, y='Formation',\n",
    "              order=data_train['Formation'].value_counts().index,\n",
    "              palette=sns.color_palette(\"Set1\", 10))\n",
    "ax.bar_label(ax.containers[0])\n",
    "plt.show()"
   ]
  },
  {
   "cell_type": "markdown",
   "id": "7cc5d0d7",
   "metadata": {},
   "source": [
    "the count plot also show us that there are variative amount of formation in raw data, the most abudant formation is C LM and the least is B3 LM"
   ]
  },
  {
   "cell_type": "markdown",
   "id": "b73c2122",
   "metadata": {},
   "source": [
    "### Well Name"
   ]
  },
  {
   "cell_type": "code",
   "execution_count": 51,
   "id": "eaaab430",
   "metadata": {},
   "outputs": [
    {
     "data": {
      "image/png": "[encoded data removed]",
      "text/plain": [
       "<Figure size 432x288 with 1 Axes>"
      ]
     },
     "metadata": {},
     "output_type": "display_data"
    }
   ],
   "source": [
    "ax = sns.countplot(data=data_train, y='Well Name',\n",
    "              order=data_train['Well Name'].value_counts().index,\n",
    "              palette=sns.color_palette(\"Set1\", 10))\n",
    "ax.bar_label(ax.containers[0])\n",
    "plt.show()"
   ]
  },
  {
   "cell_type": "markdown",
   "id": "a7fcb308",
   "metadata": {},
   "source": [
    "the well name count plot show that well **Recruit F9** has the smallest amount of data compare to another well data"
   ]
  },
  {
   "cell_type": "markdown",
   "id": "30656c86",
   "metadata": {},
   "source": [
    "### Depth"
   ]
  },
  {
   "cell_type": "code",
   "execution_count": null,
   "id": "a99f0283",
   "metadata": {},
   "outputs": [],
   "source": []
  },
  {
   "cell_type": "code",
   "execution_count": null,
   "id": "2c25ad89",
   "metadata": {},
   "outputs": [],
   "source": []
  },
  {
   "cell_type": "code",
   "execution_count": null,
   "id": "b3485d46",
   "metadata": {},
   "outputs": [],
   "source": []
  },
  {
   "cell_type": "code",
   "execution_count": null,
   "id": "422011ae",
   "metadata": {},
   "outputs": [],
   "source": []
  }
 ],
 "metadata": {
  "kernelspec": {
   "display_name": "Python 3 (ipykernel)",
   "language": "python",
   "name": "python3"
  },
  "language_info": {
   "codemirror_mode": {
    "name": "ipython",
    "version": 3
   },
   "file_extension": ".py",
   "mimetype": "text/x-python",
   "name": "python",
   "nbconvert_exporter": "python",
   "pygments_lexer": "ipython3",
   "version": "3.9.12"
  }
 },
 "nbformat": 4,
 "nbformat_minor": 5
}
